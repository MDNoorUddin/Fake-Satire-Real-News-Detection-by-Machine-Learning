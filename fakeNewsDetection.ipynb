{
 "cells": [
  {
   "cell_type": "code",
   "execution_count": 122,
   "metadata": {},
   "outputs": [],
   "source": [
    "import pandas as pd\n",
    "import numpy as np"
   ]
  },
  {
   "cell_type": "code",
   "execution_count": 123,
   "metadata": {},
   "outputs": [],
   "source": [
    "df=pd.read_csv('war.csv',  encoding='latin_1',usecols = ['article_content','labels'])"
   ]
  },
  {
   "cell_type": "code",
   "execution_count": 124,
   "metadata": {},
   "outputs": [
    {
     "data": {
      "text/plain": [
       "(804, 2)"
      ]
     },
     "execution_count": 124,
     "metadata": {},
     "output_type": "execute_result"
    }
   ],
   "source": [
    "df.shape"
   ]
  },
  {
   "cell_type": "code",
   "execution_count": 125,
   "metadata": {},
   "outputs": [
    {
     "data": {
      "text/plain": [
       "'Wed 05 Apr 2017 Syria attack symptoms consistent with nerve agent use WHO. Victims of a suspected chemical attack in Syria appeared to show symptoms consistent with reaction to a nerve agent the World Health Organization said on Wednesday. \"Some cases appear to show additional signs consistent with exposure to organophosphorus chemicals a category of chemicals that includes nerve agents\" WHO said in a statement putting the death toll at at least 70. The United States has said the deaths were caused by sarin nerve gas dropped by Syrian aircraft. Russia has said it believes poison gas had leaked from a rebel chemical weapons depot struck by Syrian bombs. Sarin is an organophosporus compound and a nerve agent. Chlorine and mustard gas which are also believed to have been used in the past in Syria are not. A Russian Defence Ministry spokesman did not say what agent was used in the attack but said the rebels had used the same chemical weapons in Aleppo last year. The WHO said it was likely that some kind of chemical was used in the attack because sufferers had no apparent external injuries and died from a rapid onset of similar symptoms including acute respiratory distress. It said its experts in Turkey were giving guidance to overwhelmed health workers in Idlib on the diagnosis and treatment of patients and medicines such as Atropine an antidote for some types of chemical exposure and steroids for symptomatic treatment had been sent. A U.N. Commission of Inquiry into human rights in Syria has previously said forces loyal to Syrian President Bashar al-Assad have used lethal chlorine gas on multiple occasions. Hundreds of civilians died in a sarin gas attack in Ghouta on the outskirts of Damascus in August 2013. Assads government has always denied responsibility for that attack. Syria agreed to destroy its chemical weapons in 2013 under a deal brokered by Moscow and Washington. But Russia a Syrian ally and China have repeatedly vetoed any United Nations move to sanction Assad or refer the situation in Syria to the International Criminal Court. \"These types of weapons are banned by international law because they represent an intolerable barbarism\" Peter Salama Executive Director of the WHO Health Emergencies Programme said in the WHO statement. - REUTERS'"
      ]
     },
     "execution_count": 125,
     "metadata": {},
     "output_type": "execute_result"
    }
   ],
   "source": [
    "df.article_content[0]"
   ]
  },
  {
   "cell_type": "code",
   "execution_count": 126,
   "metadata": {},
   "outputs": [],
   "source": [
    "from bs4 import BeautifulSoup\n",
    "df['news'] = df['article_content'].apply(lambda x: BeautifulSoup(x, 'html.parser')) #BeautifulSoup object to parse HTML."
   ]
  },
  {
   "cell_type": "code",
   "execution_count": 127,
   "metadata": {},
   "outputs": [],
   "source": [
    "import re\n",
    "df['review_letters_only'] = df['news'].apply(lambda x: re.sub(r'[^a-zA-Z]', ' ', x.get_text()))"
   ]
  },
  {
   "cell_type": "code",
   "execution_count": 128,
   "metadata": {},
   "outputs": [
    {
     "data": {
      "text/plain": [
       "'Wed    Apr      Syria attack symptoms consistent with nerve agent use WHO  Victims of a suspected chemical attack in Syria appeared to show symptoms consistent with reaction to a nerve agent the World Health Organization said on Wednesday   Some cases appear to show additional signs consistent with exposure to organophosphorus chemicals a category of chemicals that includes nerve agents  WHO said in a statement putting the death toll at at least     The United States has said the deaths were caused by sarin nerve gas dropped by Syrian aircraft  Russia has said it believes poison gas had leaked from a rebel chemical weapons depot struck by Syrian bombs  Sarin is an organophosporus compound and a nerve agent  Chlorine and mustard gas which are also believed to have been used in the past in Syria are not  A Russian Defence Ministry spokesman did not say what agent was used in the attack but said the rebels had used the same chemical weapons in Aleppo last year  The WHO said it was likely that some kind of chemical was used in the attack because sufferers had no apparent external injuries and died from a rapid onset of similar symptoms including acute respiratory distress  It said its experts in Turkey were giving guidance to overwhelmed health workers in Idlib on the diagnosis and treatment of patients and medicines such as Atropine an antidote for some types of chemical exposure and steroids for symptomatic treatment had been sent  A U N  Commission of Inquiry into human rights in Syria has previously said forces loyal to Syrian President Bashar al Assad have used lethal chlorine gas on multiple occasions  Hundreds of civilians died in a sarin gas attack in Ghouta on the outskirts of Damascus in August       Assads government has always denied responsibility for that attack  Syria agreed to destroy its chemical weapons in      under a deal brokered by Moscow and Washington  But Russia a Syrian ally and China have repeatedly vetoed any United Nations move to sanction Assad or refer the situation in Syria to the International Criminal Court   These types of weapons are banned by international law because they represent an intolerable barbarism  Peter Salama Executive Director of the WHO Health Emergencies Programme said in the WHO statement    REUTERS'"
      ]
     },
     "execution_count": 128,
     "metadata": {},
     "output_type": "execute_result"
    }
   ],
   "source": [
    "df['review_letters_only'][0]"
   ]
  },
  {
   "cell_type": "code",
   "execution_count": 129,
   "metadata": {},
   "outputs": [],
   "source": [
    "df['review_words'] = df['review_letters_only'].apply(lambda x: x.lower().split())\n"
   ]
  },
  {
   "cell_type": "code",
   "execution_count": 130,
   "metadata": {},
   "outputs": [
    {
     "data": {
      "text/html": [
       "<div>\n",
       "<style scoped>\n",
       "    .dataframe tbody tr th:only-of-type {\n",
       "        vertical-align: middle;\n",
       "    }\n",
       "\n",
       "    .dataframe tbody tr th {\n",
       "        vertical-align: top;\n",
       "    }\n",
       "\n",
       "    .dataframe thead th {\n",
       "        text-align: right;\n",
       "    }\n",
       "</style>\n",
       "<table border=\"1\" class=\"dataframe\">\n",
       "  <thead>\n",
       "    <tr style=\"text-align: right;\">\n",
       "      <th></th>\n",
       "      <th>article_content</th>\n",
       "      <th>labels</th>\n",
       "      <th>news</th>\n",
       "      <th>review_letters_only</th>\n",
       "      <th>review_words</th>\n",
       "      <th>review_meaningful_words</th>\n",
       "    </tr>\n",
       "  </thead>\n",
       "  <tbody>\n",
       "    <tr>\n",
       "      <td>0</td>\n",
       "      <td>Wed 05 Apr 2017 Syria attack symptoms consiste...</td>\n",
       "      <td>0</td>\n",
       "      <td>[Wed 05 Apr 2017 Syria attack symptoms consist...</td>\n",
       "      <td>Wed    Apr      Syria attack symptoms consiste...</td>\n",
       "      <td>[wed, apr, syria, attack, symptoms, consistent...</td>\n",
       "      <td>[wed, apr, syria, attack, symptom, consist, wi...</td>\n",
       "    </tr>\n",
       "    <tr>\n",
       "      <td>1</td>\n",
       "      <td>Fri 07 Apr 2017 at 0914 Homs governor says U.S...</td>\n",
       "      <td>0</td>\n",
       "      <td>[Fri 07 Apr 2017 at 0914 Homs governor says U....</td>\n",
       "      <td>Fri    Apr      at      Homs governor says U S...</td>\n",
       "      <td>[fri, apr, at, homs, governor, says, u, s, att...</td>\n",
       "      <td>[fri, apr, at, hom, governor, say, u, s, attac...</td>\n",
       "    </tr>\n",
       "    <tr>\n",
       "      <td>2</td>\n",
       "      <td>Sun 16 Apr 2017 Death toll from Aleppo bomb at...</td>\n",
       "      <td>0</td>\n",
       "      <td>[Sun 16 Apr 2017 Death toll from Aleppo bomb a...</td>\n",
       "      <td>Sun    Apr      Death toll from Aleppo bomb at...</td>\n",
       "      <td>[sun, apr, death, toll, from, aleppo, bomb, at...</td>\n",
       "      <td>[sun, apr, death, toll, from, aleppo, bomb, at...</td>\n",
       "    </tr>\n",
       "    <tr>\n",
       "      <td>3</td>\n",
       "      <td>Wed 19 Apr 2017 Aleppo bomb blast kills six Sy...</td>\n",
       "      <td>0</td>\n",
       "      <td>[Wed 19 Apr 2017 Aleppo bomb blast kills six S...</td>\n",
       "      <td>Wed    Apr      Aleppo bomb blast kills six Sy...</td>\n",
       "      <td>[wed, apr, aleppo, bomb, blast, kills, six, sy...</td>\n",
       "      <td>[wed, apr, aleppo, bomb, blast, kill, six, syr...</td>\n",
       "    </tr>\n",
       "    <tr>\n",
       "      <td>4</td>\n",
       "      <td>Sun 10 Jul 2016 29 Syria Rebels Dead in Fighti...</td>\n",
       "      <td>0</td>\n",
       "      <td>[Sun 10 Jul 2016 29 Syria Rebels Dead in Fight...</td>\n",
       "      <td>Sun    Jul         Syria Rebels Dead in Fighti...</td>\n",
       "      <td>[sun, jul, syria, rebels, dead, in, fighting, ...</td>\n",
       "      <td>[sun, jul, syria, rebel, dead, in, fight, for,...</td>\n",
       "    </tr>\n",
       "    <tr>\n",
       "      <td>...</td>\n",
       "      <td>...</td>\n",
       "      <td>...</td>\n",
       "      <td>...</td>\n",
       "      <td>...</td>\n",
       "      <td>...</td>\n",
       "      <td>...</td>\n",
       "    </tr>\n",
       "    <tr>\n",
       "      <td>799</td>\n",
       "      <td>28-08-2016 Turkish Bombardment Kills 20 Civili...</td>\n",
       "      <td>1</td>\n",
       "      <td>[28-08-2016 Turkish Bombardment Kills 20 Civil...</td>\n",
       "      <td>Turkish Bombardment Kills    Civili...</td>\n",
       "      <td>[turkish, bombardment, kills, civilians, in, s...</td>\n",
       "      <td>[turkish, bombard, kill, civilian, in, syria, ...</td>\n",
       "    </tr>\n",
       "    <tr>\n",
       "      <td>800</td>\n",
       "      <td>17-08-2016 Martyrs as Terrorists Shell Aleppos...</td>\n",
       "      <td>1</td>\n",
       "      <td>[17-08-2016 Martyrs as Terrorists Shell Aleppo...</td>\n",
       "      <td>Martyrs as Terrorists Shell Aleppos...</td>\n",
       "      <td>[martyrs, as, terrorists, shell, aleppos, sala...</td>\n",
       "      <td>[martyr, as, terrorist, shell, aleppo, salah, ...</td>\n",
       "    </tr>\n",
       "    <tr>\n",
       "      <td>801</td>\n",
       "      <td>03-08-2016 Chemical Attack Kills Five Syrians ...</td>\n",
       "      <td>0</td>\n",
       "      <td>[03-08-2016 Chemical Attack Kills Five Syrians...</td>\n",
       "      <td>Chemical Attack Kills Five Syrians ...</td>\n",
       "      <td>[chemical, attack, kills, five, syrians, in, a...</td>\n",
       "      <td>[chemic, attack, kill, five, syrian, in, alepp...</td>\n",
       "    </tr>\n",
       "    <tr>\n",
       "      <td>802</td>\n",
       "      <td>01-08-2016 5 Killed as Russian Military Choppe...</td>\n",
       "      <td>1</td>\n",
       "      <td>[01-08-2016 5 Killed as Russian Military Chopp...</td>\n",
       "      <td>Killed as Russian Military Choppe...</td>\n",
       "      <td>[killed, as, russian, military, chopper, shot,...</td>\n",
       "      <td>[kill, as, russian, militari, chopper, shot, d...</td>\n",
       "    </tr>\n",
       "    <tr>\n",
       "      <td>803</td>\n",
       "      <td>April 6 2017 Syrian Army Kills 48 ISIL Terrori...</td>\n",
       "      <td>1</td>\n",
       "      <td>[April 6 2017 Syrian Army Kills 48 ISIL Terror...</td>\n",
       "      <td>April        Syrian Army Kills    ISIL Terrori...</td>\n",
       "      <td>[april, syrian, army, kills, isil, terrorists,...</td>\n",
       "      <td>[april, syrian, armi, kill, isil, terrorist, i...</td>\n",
       "    </tr>\n",
       "  </tbody>\n",
       "</table>\n",
       "<p>804 rows × 6 columns</p>\n",
       "</div>"
      ],
      "text/plain": [
       "                                       article_content  labels  \\\n",
       "0    Wed 05 Apr 2017 Syria attack symptoms consiste...       0   \n",
       "1    Fri 07 Apr 2017 at 0914 Homs governor says U.S...       0   \n",
       "2    Sun 16 Apr 2017 Death toll from Aleppo bomb at...       0   \n",
       "3    Wed 19 Apr 2017 Aleppo bomb blast kills six Sy...       0   \n",
       "4    Sun 10 Jul 2016 29 Syria Rebels Dead in Fighti...       0   \n",
       "..                                                 ...     ...   \n",
       "799  28-08-2016 Turkish Bombardment Kills 20 Civili...       1   \n",
       "800  17-08-2016 Martyrs as Terrorists Shell Aleppos...       1   \n",
       "801  03-08-2016 Chemical Attack Kills Five Syrians ...       0   \n",
       "802  01-08-2016 5 Killed as Russian Military Choppe...       1   \n",
       "803  April 6 2017 Syrian Army Kills 48 ISIL Terrori...       1   \n",
       "\n",
       "                                                  news  \\\n",
       "0    [Wed 05 Apr 2017 Syria attack symptoms consist...   \n",
       "1    [Fri 07 Apr 2017 at 0914 Homs governor says U....   \n",
       "2    [Sun 16 Apr 2017 Death toll from Aleppo bomb a...   \n",
       "3    [Wed 19 Apr 2017 Aleppo bomb blast kills six S...   \n",
       "4    [Sun 10 Jul 2016 29 Syria Rebels Dead in Fight...   \n",
       "..                                                 ...   \n",
       "799  [28-08-2016 Turkish Bombardment Kills 20 Civil...   \n",
       "800  [17-08-2016 Martyrs as Terrorists Shell Aleppo...   \n",
       "801  [03-08-2016 Chemical Attack Kills Five Syrians...   \n",
       "802  [01-08-2016 5 Killed as Russian Military Chopp...   \n",
       "803  [April 6 2017 Syrian Army Kills 48 ISIL Terror...   \n",
       "\n",
       "                                   review_letters_only  \\\n",
       "0    Wed    Apr      Syria attack symptoms consiste...   \n",
       "1    Fri    Apr      at      Homs governor says U S...   \n",
       "2    Sun    Apr      Death toll from Aleppo bomb at...   \n",
       "3    Wed    Apr      Aleppo bomb blast kills six Sy...   \n",
       "4    Sun    Jul         Syria Rebels Dead in Fighti...   \n",
       "..                                                 ...   \n",
       "799             Turkish Bombardment Kills    Civili...   \n",
       "800             Martyrs as Terrorists Shell Aleppos...   \n",
       "801             Chemical Attack Kills Five Syrians ...   \n",
       "802               Killed as Russian Military Choppe...   \n",
       "803  April        Syrian Army Kills    ISIL Terrori...   \n",
       "\n",
       "                                          review_words  \\\n",
       "0    [wed, apr, syria, attack, symptoms, consistent...   \n",
       "1    [fri, apr, at, homs, governor, says, u, s, att...   \n",
       "2    [sun, apr, death, toll, from, aleppo, bomb, at...   \n",
       "3    [wed, apr, aleppo, bomb, blast, kills, six, sy...   \n",
       "4    [sun, jul, syria, rebels, dead, in, fighting, ...   \n",
       "..                                                 ...   \n",
       "799  [turkish, bombardment, kills, civilians, in, s...   \n",
       "800  [martyrs, as, terrorists, shell, aleppos, sala...   \n",
       "801  [chemical, attack, kills, five, syrians, in, a...   \n",
       "802  [killed, as, russian, military, chopper, shot,...   \n",
       "803  [april, syrian, army, kills, isil, terrorists,...   \n",
       "\n",
       "                               review_meaningful_words  \n",
       "0    [wed, apr, syria, attack, symptom, consist, wi...  \n",
       "1    [fri, apr, at, hom, governor, say, u, s, attac...  \n",
       "2    [sun, apr, death, toll, from, aleppo, bomb, at...  \n",
       "3    [wed, apr, aleppo, bomb, blast, kill, six, syr...  \n",
       "4    [sun, jul, syria, rebel, dead, in, fight, for,...  \n",
       "..                                                 ...  \n",
       "799  [turkish, bombard, kill, civilian, in, syria, ...  \n",
       "800  [martyr, as, terrorist, shell, aleppo, salah, ...  \n",
       "801  [chemic, attack, kill, five, syrian, in, alepp...  \n",
       "802  [kill, as, russian, militari, chopper, shot, d...  \n",
       "803  [april, syrian, armi, kill, isil, terrorist, i...  \n",
       "\n",
       "[804 rows x 6 columns]"
      ]
     },
     "execution_count": 130,
     "metadata": {},
     "output_type": "execute_result"
    }
   ],
   "source": [
    "import nltk\n",
    "from nltk.corpus import stopwords\n",
    "from nltk.stem.porter import PorterStemmer\n",
    "from nltk.stem import WordNetLemmatizer\n",
    "set_of_stopwords = set(stopwords.words(\"english\"))\n",
    "#df['review_meaningful_words'] = df['review_words']\n",
    "#df['review_meaningful_words'] = df['review_words'].apply(lambda x: [w for w in x if not w in set_of_stopwords])\n",
    "\n",
    "ps=PorterStemmer()\n",
    "\n",
    "def st(txt):\n",
    "    tx=([ps.stem(word) for word in txt])\n",
    "    return tx \n",
    "df['review_meaningful_words'] = df['review_words'].apply(lambda x: st(x))\n",
    "df"
   ]
  },
  {
   "cell_type": "code",
   "execution_count": 131,
   "metadata": {},
   "outputs": [
    {
     "name": "stdout",
     "output_type": "stream",
     "text": [
      "For the first review entry, the number of stop words removed is 0.\n"
     ]
    }
   ],
   "source": [
    "num_removed = len(df['review_words'][0]) - len(df['review_meaningful_words'][0])\n",
    "print('For the first review entry, the number of stop words removed is {0}.'.format(num_removed))"
   ]
  },
  {
   "cell_type": "code",
   "execution_count": 132,
   "metadata": {},
   "outputs": [
    {
     "data": {
      "text/html": [
       "<div>\n",
       "<style scoped>\n",
       "    .dataframe tbody tr th:only-of-type {\n",
       "        vertical-align: middle;\n",
       "    }\n",
       "\n",
       "    .dataframe tbody tr th {\n",
       "        vertical-align: top;\n",
       "    }\n",
       "\n",
       "    .dataframe thead th {\n",
       "        text-align: right;\n",
       "    }\n",
       "</style>\n",
       "<table border=\"1\" class=\"dataframe\">\n",
       "  <thead>\n",
       "    <tr style=\"text-align: right;\">\n",
       "      <th></th>\n",
       "      <th>article_content</th>\n",
       "      <th>labels</th>\n",
       "      <th>news</th>\n",
       "      <th>review_letters_only</th>\n",
       "      <th>review_words</th>\n",
       "      <th>review_meaningful_words</th>\n",
       "    </tr>\n",
       "  </thead>\n",
       "  <tbody>\n",
       "    <tr>\n",
       "      <td>0</td>\n",
       "      <td>Wed 05 Apr 2017 Syria attack symptoms consiste...</td>\n",
       "      <td>0</td>\n",
       "      <td>[Wed 05 Apr 2017 Syria attack symptoms consist...</td>\n",
       "      <td>Wed    Apr      Syria attack symptoms consiste...</td>\n",
       "      <td>[wed, apr, syria, attack, symptoms, consistent...</td>\n",
       "      <td>[wed, apr, syria, attack, symptom, consist, wi...</td>\n",
       "    </tr>\n",
       "    <tr>\n",
       "      <td>1</td>\n",
       "      <td>Fri 07 Apr 2017 at 0914 Homs governor says U.S...</td>\n",
       "      <td>0</td>\n",
       "      <td>[Fri 07 Apr 2017 at 0914 Homs governor says U....</td>\n",
       "      <td>Fri    Apr      at      Homs governor says U S...</td>\n",
       "      <td>[fri, apr, at, homs, governor, says, u, s, att...</td>\n",
       "      <td>[fri, apr, at, hom, governor, say, u, s, attac...</td>\n",
       "    </tr>\n",
       "    <tr>\n",
       "      <td>2</td>\n",
       "      <td>Sun 16 Apr 2017 Death toll from Aleppo bomb at...</td>\n",
       "      <td>0</td>\n",
       "      <td>[Sun 16 Apr 2017 Death toll from Aleppo bomb a...</td>\n",
       "      <td>Sun    Apr      Death toll from Aleppo bomb at...</td>\n",
       "      <td>[sun, apr, death, toll, from, aleppo, bomb, at...</td>\n",
       "      <td>[sun, apr, death, toll, from, aleppo, bomb, at...</td>\n",
       "    </tr>\n",
       "    <tr>\n",
       "      <td>3</td>\n",
       "      <td>Wed 19 Apr 2017 Aleppo bomb blast kills six Sy...</td>\n",
       "      <td>0</td>\n",
       "      <td>[Wed 19 Apr 2017 Aleppo bomb blast kills six S...</td>\n",
       "      <td>Wed    Apr      Aleppo bomb blast kills six Sy...</td>\n",
       "      <td>[wed, apr, aleppo, bomb, blast, kills, six, sy...</td>\n",
       "      <td>[wed, apr, aleppo, bomb, blast, kill, six, syr...</td>\n",
       "    </tr>\n",
       "    <tr>\n",
       "      <td>4</td>\n",
       "      <td>Sun 10 Jul 2016 29 Syria Rebels Dead in Fighti...</td>\n",
       "      <td>0</td>\n",
       "      <td>[Sun 10 Jul 2016 29 Syria Rebels Dead in Fight...</td>\n",
       "      <td>Sun    Jul         Syria Rebels Dead in Fighti...</td>\n",
       "      <td>[sun, jul, syria, rebels, dead, in, fighting, ...</td>\n",
       "      <td>[sun, jul, syria, rebel, dead, in, fight, for,...</td>\n",
       "    </tr>\n",
       "  </tbody>\n",
       "</table>\n",
       "</div>"
      ],
      "text/plain": [
       "                                     article_content  labels  \\\n",
       "0  Wed 05 Apr 2017 Syria attack symptoms consiste...       0   \n",
       "1  Fri 07 Apr 2017 at 0914 Homs governor says U.S...       0   \n",
       "2  Sun 16 Apr 2017 Death toll from Aleppo bomb at...       0   \n",
       "3  Wed 19 Apr 2017 Aleppo bomb blast kills six Sy...       0   \n",
       "4  Sun 10 Jul 2016 29 Syria Rebels Dead in Fighti...       0   \n",
       "\n",
       "                                                news  \\\n",
       "0  [Wed 05 Apr 2017 Syria attack symptoms consist...   \n",
       "1  [Fri 07 Apr 2017 at 0914 Homs governor says U....   \n",
       "2  [Sun 16 Apr 2017 Death toll from Aleppo bomb a...   \n",
       "3  [Wed 19 Apr 2017 Aleppo bomb blast kills six S...   \n",
       "4  [Sun 10 Jul 2016 29 Syria Rebels Dead in Fight...   \n",
       "\n",
       "                                 review_letters_only  \\\n",
       "0  Wed    Apr      Syria attack symptoms consiste...   \n",
       "1  Fri    Apr      at      Homs governor says U S...   \n",
       "2  Sun    Apr      Death toll from Aleppo bomb at...   \n",
       "3  Wed    Apr      Aleppo bomb blast kills six Sy...   \n",
       "4  Sun    Jul         Syria Rebels Dead in Fighti...   \n",
       "\n",
       "                                        review_words  \\\n",
       "0  [wed, apr, syria, attack, symptoms, consistent...   \n",
       "1  [fri, apr, at, homs, governor, says, u, s, att...   \n",
       "2  [sun, apr, death, toll, from, aleppo, bomb, at...   \n",
       "3  [wed, apr, aleppo, bomb, blast, kills, six, sy...   \n",
       "4  [sun, jul, syria, rebels, dead, in, fighting, ...   \n",
       "\n",
       "                             review_meaningful_words  \n",
       "0  [wed, apr, syria, attack, symptom, consist, wi...  \n",
       "1  [fri, apr, at, hom, governor, say, u, s, attac...  \n",
       "2  [sun, apr, death, toll, from, aleppo, bomb, at...  \n",
       "3  [wed, apr, aleppo, bomb, blast, kill, six, syr...  \n",
       "4  [sun, jul, syria, rebel, dead, in, fight, for,...  "
      ]
     },
     "execution_count": 132,
     "metadata": {},
     "output_type": "execute_result"
    }
   ],
   "source": [
    "df.head()"
   ]
  },
  {
   "cell_type": "code",
   "execution_count": 133,
   "metadata": {},
   "outputs": [],
   "source": [
    "wn=nltk.WordNetLemmatizer()\n",
    "#def lma(txt):\n",
    " #   tx=[wn.lemmatize(word) for word in txt]\n",
    "  #  return tx df['review_cleaned'] = df['review_meaningful_words'].apply(lambda x: lma(x))\n",
    "df['review_cleaned'] = df['review_meaningful_words'].apply(lambda x: ' '.join(x)) #  join the list of words into a single string.\n"
   ]
  },
  {
   "cell_type": "code",
   "execution_count": 134,
   "metadata": {},
   "outputs": [
    {
     "data": {
      "text/html": [
       "<div>\n",
       "<style scoped>\n",
       "    .dataframe tbody tr th:only-of-type {\n",
       "        vertical-align: middle;\n",
       "    }\n",
       "\n",
       "    .dataframe tbody tr th {\n",
       "        vertical-align: top;\n",
       "    }\n",
       "\n",
       "    .dataframe thead th {\n",
       "        text-align: right;\n",
       "    }\n",
       "</style>\n",
       "<table border=\"1\" class=\"dataframe\">\n",
       "  <thead>\n",
       "    <tr style=\"text-align: right;\">\n",
       "      <th></th>\n",
       "      <th>article_content</th>\n",
       "      <th>labels</th>\n",
       "      <th>news</th>\n",
       "      <th>review_letters_only</th>\n",
       "      <th>review_words</th>\n",
       "      <th>review_meaningful_words</th>\n",
       "      <th>review_cleaned</th>\n",
       "    </tr>\n",
       "  </thead>\n",
       "  <tbody>\n",
       "    <tr>\n",
       "      <td>0</td>\n",
       "      <td>Wed 05 Apr 2017 Syria attack symptoms consiste...</td>\n",
       "      <td>0</td>\n",
       "      <td>[Wed 05 Apr 2017 Syria attack symptoms consist...</td>\n",
       "      <td>Wed    Apr      Syria attack symptoms consiste...</td>\n",
       "      <td>[wed, apr, syria, attack, symptoms, consistent...</td>\n",
       "      <td>[wed, apr, syria, attack, symptom, consist, wi...</td>\n",
       "      <td>wed apr syria attack symptom consist with nerv...</td>\n",
       "    </tr>\n",
       "    <tr>\n",
       "      <td>1</td>\n",
       "      <td>Fri 07 Apr 2017 at 0914 Homs governor says U.S...</td>\n",
       "      <td>0</td>\n",
       "      <td>[Fri 07 Apr 2017 at 0914 Homs governor says U....</td>\n",
       "      <td>Fri    Apr      at      Homs governor says U S...</td>\n",
       "      <td>[fri, apr, at, homs, governor, says, u, s, att...</td>\n",
       "      <td>[fri, apr, at, hom, governor, say, u, s, attac...</td>\n",
       "      <td>fri apr at hom governor say u s attack caus de...</td>\n",
       "    </tr>\n",
       "    <tr>\n",
       "      <td>2</td>\n",
       "      <td>Sun 16 Apr 2017 Death toll from Aleppo bomb at...</td>\n",
       "      <td>0</td>\n",
       "      <td>[Sun 16 Apr 2017 Death toll from Aleppo bomb a...</td>\n",
       "      <td>Sun    Apr      Death toll from Aleppo bomb at...</td>\n",
       "      <td>[sun, apr, death, toll, from, aleppo, bomb, at...</td>\n",
       "      <td>[sun, apr, death, toll, from, aleppo, bomb, at...</td>\n",
       "      <td>sun apr death toll from aleppo bomb attack at ...</td>\n",
       "    </tr>\n",
       "    <tr>\n",
       "      <td>3</td>\n",
       "      <td>Wed 19 Apr 2017 Aleppo bomb blast kills six Sy...</td>\n",
       "      <td>0</td>\n",
       "      <td>[Wed 19 Apr 2017 Aleppo bomb blast kills six S...</td>\n",
       "      <td>Wed    Apr      Aleppo bomb blast kills six Sy...</td>\n",
       "      <td>[wed, apr, aleppo, bomb, blast, kills, six, sy...</td>\n",
       "      <td>[wed, apr, aleppo, bomb, blast, kill, six, syr...</td>\n",
       "      <td>wed apr aleppo bomb blast kill six syrian stat...</td>\n",
       "    </tr>\n",
       "    <tr>\n",
       "      <td>4</td>\n",
       "      <td>Sun 10 Jul 2016 29 Syria Rebels Dead in Fighti...</td>\n",
       "      <td>0</td>\n",
       "      <td>[Sun 10 Jul 2016 29 Syria Rebels Dead in Fight...</td>\n",
       "      <td>Sun    Jul         Syria Rebels Dead in Fighti...</td>\n",
       "      <td>[sun, jul, syria, rebels, dead, in, fighting, ...</td>\n",
       "      <td>[sun, jul, syria, rebel, dead, in, fight, for,...</td>\n",
       "      <td>sun jul syria rebel dead in fight for key alep...</td>\n",
       "    </tr>\n",
       "  </tbody>\n",
       "</table>\n",
       "</div>"
      ],
      "text/plain": [
       "                                     article_content  labels  \\\n",
       "0  Wed 05 Apr 2017 Syria attack symptoms consiste...       0   \n",
       "1  Fri 07 Apr 2017 at 0914 Homs governor says U.S...       0   \n",
       "2  Sun 16 Apr 2017 Death toll from Aleppo bomb at...       0   \n",
       "3  Wed 19 Apr 2017 Aleppo bomb blast kills six Sy...       0   \n",
       "4  Sun 10 Jul 2016 29 Syria Rebels Dead in Fighti...       0   \n",
       "\n",
       "                                                news  \\\n",
       "0  [Wed 05 Apr 2017 Syria attack symptoms consist...   \n",
       "1  [Fri 07 Apr 2017 at 0914 Homs governor says U....   \n",
       "2  [Sun 16 Apr 2017 Death toll from Aleppo bomb a...   \n",
       "3  [Wed 19 Apr 2017 Aleppo bomb blast kills six S...   \n",
       "4  [Sun 10 Jul 2016 29 Syria Rebels Dead in Fight...   \n",
       "\n",
       "                                 review_letters_only  \\\n",
       "0  Wed    Apr      Syria attack symptoms consiste...   \n",
       "1  Fri    Apr      at      Homs governor says U S...   \n",
       "2  Sun    Apr      Death toll from Aleppo bomb at...   \n",
       "3  Wed    Apr      Aleppo bomb blast kills six Sy...   \n",
       "4  Sun    Jul         Syria Rebels Dead in Fighti...   \n",
       "\n",
       "                                        review_words  \\\n",
       "0  [wed, apr, syria, attack, symptoms, consistent...   \n",
       "1  [fri, apr, at, homs, governor, says, u, s, att...   \n",
       "2  [sun, apr, death, toll, from, aleppo, bomb, at...   \n",
       "3  [wed, apr, aleppo, bomb, blast, kills, six, sy...   \n",
       "4  [sun, jul, syria, rebels, dead, in, fighting, ...   \n",
       "\n",
       "                             review_meaningful_words  \\\n",
       "0  [wed, apr, syria, attack, symptom, consist, wi...   \n",
       "1  [fri, apr, at, hom, governor, say, u, s, attac...   \n",
       "2  [sun, apr, death, toll, from, aleppo, bomb, at...   \n",
       "3  [wed, apr, aleppo, bomb, blast, kill, six, syr...   \n",
       "4  [sun, jul, syria, rebel, dead, in, fight, for,...   \n",
       "\n",
       "                                      review_cleaned  \n",
       "0  wed apr syria attack symptom consist with nerv...  \n",
       "1  fri apr at hom governor say u s attack caus de...  \n",
       "2  sun apr death toll from aleppo bomb attack at ...  \n",
       "3  wed apr aleppo bomb blast kill six syrian stat...  \n",
       "4  sun jul syria rebel dead in fight for key alep...  "
      ]
     },
     "execution_count": 134,
     "metadata": {},
     "output_type": "execute_result"
    }
   ],
   "source": [
    "df.head()"
   ]
  },
  {
   "cell_type": "code",
   "execution_count": 142,
   "metadata": {},
   "outputs": [],
   "source": [
    "from sklearn.feature_extraction.text import CountVectorizer\n",
    "#from sklearn.cross_validation import cross_val_score\n",
    "vectorizer = CountVectorizer(analyzer=\"word\", preprocessor=None, tokenizer=None, stop_words=None)#, max_features=5000) #`CountVectorizer` converts a collection  of text documents to a matrix of token counts.\n"
   ]
  },
  {
   "cell_type": "code",
   "execution_count": 143,
   "metadata": {},
   "outputs": [],
   "source": [
    "train_data_features = vectorizer.fit_transform(list(df['review_cleaned'].values))\n",
    "#train_data_features = train_data_features.toarray()"
   ]
  },
  {
   "cell_type": "code",
   "execution_count": 144,
   "metadata": {},
   "outputs": [
    {
     "data": {
      "text/plain": [
       "(804, 7001)"
      ]
     },
     "execution_count": 144,
     "metadata": {},
     "output_type": "execute_result"
    }
   ],
   "source": [
    "\n",
    "train_data_features.shape"
   ]
  },
  {
   "cell_type": "code",
   "execution_count": 145,
   "metadata": {},
   "outputs": [
    {
     "name": "stdout",
     "output_type": "stream",
     "text": [
      "['aa', 'aahmad', 'aakla', 'aamaq', 'aasmi', 'aazamiyeh', 'aazaz', 'abandon', 'abassia', 'abba', 'abbasid', 'abbasiya', 'abbasiyyeen', 'abboud', 'abd', 'abdah', 'abdallah', 'abdeen', 'abdel', 'abdelfattah', 'abdelk', 'abdellatif', 'abdelrahman', 'abdelsalam', 'abdin', 'abdo', 'abduct', 'abducte', 'abdul', 'abdulkarim', 'abdullah', 'abdulrahman', 'abdurrahman', 'abe', 'abedin', 'abhor', 'abid', 'abil', 'abl', 'ablaz', 'abo', 'aboard', 'abort', 'abou', 'aboud', 'aboudi', 'aboulatta', 'about', 'abov', 'abovement', 'abroad', 'absasiyeen', 'absolut', 'abstain', 'abstent', 'abu', 'abund', 'abus', 'abyad', 'abyss', 'abyssinia', 'academi', 'acced', 'accept', 'access', 'accid', 'accident', 'accommod', 'accompani', 'accomplic', 'accomplish', 'accord', 'account', 'accumul', 'accus', 'accustom', 'achiev', 'acknowledg', 'acn', 'acquir', 'acronym', 'across', 'act', 'action', 'activ', 'activist', 'actor', 'actual', 'acut', 'ad', 'ada', 'adawi', 'add', 'addawla', 'addin', 'addit', 'address', 'adeeb', 'adha', 'adher', 'adjac', 'adjoin', 'administ', 'administr', 'admir', 'admit', 'adnan', 'adob', 'adopt', 'adra', 'adseh', 'adult', 'adulteri', 'advanc', 'advantag', 'adversari', 'advic', 'advis', 'advisor', 'advoc', 'aerial', 'aerospac', 'afandi', 'affair', 'affect', 'affili', 'affirm', 'afflict', 'afford', 'affront', 'afghan', 'afghanistan', 'afisi', 'aforement', 'afp', 'africa', 'afrin', 'after', 'aftermath', 'afternoon', 'afterward', 'again', 'against', 'age', 'agenc', 'agenda', 'agent', 'aggrav', 'aggress', 'aghanndorh', 'aghast', 'aghwani', 'ago', 'agre', 'agreement', 'agricultur', 'ahad', 'ahamd', 'ahe', 'ahead', 'ahm', 'ahmad', 'ahmar', 'ahmet', 'ahrar', 'ahsem', 'aid', 'aim', 'ain', 'air', 'airbas', 'aircraft', 'airdrop', 'airfield', 'airforc', 'airlift', 'airman', 'airmen', 'airplan', 'airport', 'airpow', 'airspac', 'airstrik', 'airwar', 'airway', 'aji', 'ak', 'aka', 'akbar', 'akcakal', 'ake', 'akhdar', 'akhtarin', 'akidat', 'akidi', 'akkal', 'akrad', 'akrameh', 'akramiya', 'akramiyeh', 'akruma', 'aktharin', 'al', 'alaa', 'alaaj', 'alabdah', 'alaeddin', 'alalam', 'alam', 'alan', 'alarm', 'alartiq', 'alastair', 'alawi', 'alawit', 'alayeddin', 'albab', 'albeiq', 'albert', 'albir', 'albu', 'albusei', 'alduhour', 'aleppo', 'alepppo', 'alert', 'alessandra', 'alexand', 'alexandria', 'alexey', 'alfaraj', 'algeria', 'algerian', 'alghant', 'alhaj', 'alhamra', 'alhassan', 'ali', 'align', 'alison', 'alissa', 'aliv', 'aliya', 'aliyeh', 'alizaa', 'aljaafari', 'aljab', 'aljalaa', 'alkastanaa', 'alkhadar', 'alkobra', 'all', 'allahu', 'alleg', 'allegedli', 'allegi', 'allen', 'allevi', 'allgemein', 'alli', 'allianc', 'alliramoun', 'alloush', 'allow', 'almarj', 'almehemdiya', 'almiyassar', 'almost', 'alnairab', 'alnouman', 'alnozha', 'alomm', 'alon', 'along', 'alongsid', 'aloush', 'alqubra', 'alrawda', 'alreadi', 'alsabireen', 'alsaliheen', 'alsibil', 'alsien', 'also', 'altabqa', 'altern', 'although', 'altibni', 'altitud', 'altogeth', 'alwaer', 'alway', 'alwiyat', 'alyauddin', 'alzarazir', 'alzorba', 'am', 'amaq', 'amarneh', 'amateur', 'amaz', 'ambassador', 'ambit', 'ambiti', 'ambsuh', 'ambul', 'ambush', 'amend', 'amer', 'america', 'american', 'ameriyeh', 'amid', 'amin', 'amir', 'amiriyah', 'amjad', 'amman', 'ammar', 'ammo', 'ammoun', 'ammunit', 'amn', 'amnesti', 'amo', 'among', 'amongst', 'amount', 'amphitheatr', 'amput', 'amr', 'amsterdam', 'an', 'ana', 'anadan', 'anadolu', 'analys', 'analysi', 'analyst', 'analyz', 'ananolu', 'anbaj', 'anbar', 'ancestr', 'ancient', 'and', 'andrei', 'andrew', 'android', 'anf', 'angela', 'anger', 'angri', 'angrili', 'angu', 'ani', 'anim', 'anjara', 'ankara', 'ann', 'anna', 'annex', 'annihil', 'anniversari', 'announc', 'annual', 'anonym', 'anoth', 'ansar', 'ansari', 'answer', 'antar', 'anthoni', 'anti', 'anticip', 'antidot', 'antiqu', 'antnio', 'anvil', 'anybodi', 'anymor', 'anyon', 'anyth', 'anytim', 'anywher', 'ap', 'apart', 'apocalypt', 'apost', 'apostasi', 'appal', 'appar', 'apparatu', 'apparatus', 'appeal', 'appear', 'appetit', 'appli', 'appoint', 'apport', 'appreci', 'approach', 'appropri', 'approv', 'approxim', 'apr', 'april', 'aqap', 'aqareb', 'aqayrabat', 'aqrab', 'aqraba', 'aqsa', 'ar', 'ara', 'arab', 'arabeen', 'arabi', 'arabia', 'arabian', 'arabiya', 'arabkurdish', 'aradi', 'arak', 'arbaeen', 'arbeen', 'arbin', 'arch', 'archaeolog', 'archbishop', 'archdioces', 'archieparchi', 'archimandrit', 'archiv', 'ard', 'are', 'area', 'aref', 'arent', 'argentina', 'argu', 'arguabl', 'argument', 'aridi', 'ariha', 'arika', 'arisha', 'arm', 'armanaz', 'armenian', 'armi', 'armor', 'arnab', 'arnabeh', 'arou', 'around', 'arqoub', 'arran', 'array', 'arrest', 'arriv', 'arsal', 'arsen', 'arshad', 'arshak', 'art', 'arteri', 'articl', 'artifact', 'artilleri', 'artist', 'arzuna', 'as', 'asaf', 'asal', 'asayesh', 'asayish', 'ascertain', 'asfar', 'ash', 'asham', 'ashara', 'asharah', 'asharq', 'asheh', 'asheihib', 'ashen', 'ashira', 'ashrafeya', 'ashrafiyeh', 'ashrafiyet', 'ashton', 'asid', 'ask', 'askar', 'asleep', 'asmar', 'aspect', 'asphyxi', 'asphyxia', 'aspir', 'assad', 'assail', 'assal', 'assassin', 'assault', 'assembl', 'assert', 'assess', 'asset', 'assi', 'assign', 'assist', 'associ', 'assum', 'assur', 'assyrian', 'astana', 'astih', 'aswad', 'asylum', 'at', 'atarab', 'atareb', 'atarib', 'ataybah', 'athamiyeh', 'atherya', 'athriya', 'atm', 'atman', 'atmeh', 'atop', 'atroc', 'atroci', 'atropin', 'atshan', 'atshanah', 'attach', 'attack', 'attackfna', 'attar', 'attempt', 'attend', 'attent', 'attiya', 'attman', 'attract', 'attribut', 'audibl', 'audio', 'aug', 'august', 'authent', 'author', 'authoris', 'autocrat', 'autonom', 'avail', 'avanl', 'aveng', 'avenu', 'averag', 'avert', 'aviat', 'avoid', 'avow', 'avu', 'aw', 'await', 'awaken', 'awam', 'awar', 'award', 'away', 'awid', 'awqaf', 'awsaj', 'awsat', 'awwad', 'axe', 'axi', 'ayash', 'ayashi', 'ayesha', 'ayham', 'ayid', 'ayla', 'ayman', 'ayn', 'ayrault', 'az', 'azamiyah', 'azaz', 'azeem', 'azim', 'aziz', 'aziziyeh', 'azrak', 'azzam', 'baar', 'baath', 'bab', 'baba', 'babe', 'babeska', 'babi', 'back', 'backer', 'backfir', 'backlash', 'backup', 'backyard', 'bad', 'badia', 'badiya', 'badiyeh', 'badli', 'badr', 'badro', 'baeedeen', 'bag', 'baghaydin', 'baghdad', 'baghdadi', 'baghdaq', 'baghouz', 'bahaa', 'bahariya', 'bahra', 'bahrain', 'bahrat', 'bahrutah', 'bai', 'baibar', 'baidin', 'baker', 'bakeri', 'bakr', 'balaa', 'balaclava', 'balad', 'baladi', 'balanc', 'balconi', 'balikh', 'ball', 'balloon', 'ban', 'band', 'bandag', 'bandar', 'bang', 'bani', 'banish', 'bank', 'bankrol', 'banner', 'baqjaji', 'bar', 'bara', 'barack', 'barada', 'baragitah', 'barakat', 'baramkeh', 'barazi', 'barbar', 'bare', 'barefoot', 'bareh', 'bari', 'bark', 'barkhadan', 'barley', 'barna', 'baron', 'barrack', 'barrag', 'barrazi', 'barrel', 'barren', 'barricad', 'barrier', 'baruda', 'barzah', 'barzeh', 'base', 'baseless', 'basement', 'basha', 'bashar', 'bashir', 'bashkuwi', 'basi', 'basic', 'basira', 'bassam', 'bassil', 'bassima', 'bastion', 'batbo', 'batch', 'batina', 'batna', 'battalion', 'batter', 'batteri', 'battl', 'battlefield', 'battlefront', 'battleground', 'bayan', 'bayanoun', 'bayarat', 'baydar', 'bazam', 'bbc', 'bc', 'be', 'beach', 'beani', 'bear', 'beard', 'beat', 'beaten', 'beauti', 'bebar', 'becam', 'becaus', 'becom', 'bed', 'been', 'beep', 'beez', 'befor', 'began', 'begin', 'begun', 'behalf', 'behavior', 'behead', 'behind', 'behnan', 'beij', 'beik', 'beirut', 'beit', 'belch', 'beleagu', 'belgian', 'belgium', 'belief', 'believ', 'belkacem', 'belong', 'belov', 'below', 'belt', 'ben', 'beneath', 'beneficiari', 'benefit', 'benoit', 'berlin', 'beseig', 'beset', 'besid', 'besieg', 'best', 'better', 'bettina', 'between', 'beyond', 'bia', 'bias', 'bibar', 'bibkar', 'bicker', 'bicycl', 'bid', 'big', 'bigger', 'biggest', 'bilal', 'bill', 'billion', 'billow', 'bin', 'binafso', 'binali', 'binan', 'binnesh', 'binnish', 'biolog', 'bishlamoun', 'bishr', 'bit', 'bitter', 'bkc', 'black', 'blacken', 'blacklist', 'blackout', 'blame', 'blanket', 'blasphemi', 'blast', 'blatant', 'blaze', 'bleak', 'bless', 'blew', 'blind', 'blindfold', 'blinken', 'bln', 'bloc', 'block', 'blockad', 'blockag', 'blood', 'bloodbath', 'bloodi', 'bloodiest', 'bloodsh', 'blow', 'blown', 'blue', 'blueish', 'blunder', 'blurri', 'bo', 'board', 'boat', 'bodi', 'boleel', 'bolster', 'bolt', 'bomb', 'bombard', 'bomber', 'bonino', 'boobi', 'book', 'boom', 'boost', 'border', 'borderland', 'bore', 'boreiqa', 'bori', 'born', 'bosra', 'both', 'bottl', 'boukam', 'boulil', 'boulton', 'bound', 'boundari', 'bout', 'box', 'boy', 'brace', 'brach', 'brak', 'bram', 'branch', 'brand', 'brave', 'braveri', 'breach', 'bread', 'break', 'breakaway', 'breakdown', 'breakthrough', 'breath', 'breez', 'breij', 'brethren', 'brick', 'brickwork', 'bride', 'bridg', 'brief', 'briefli', 'brigad', 'bright', 'bring', 'britain', 'british', 'briton', 'broad', 'broadcast', 'broader', 'broadli', 'broke', 'broken', 'broker', 'bronz', 'brook', 'brother', 'brotherhood', 'brotherli', 'brought', 'brouq', 'bruch', 'bruchhandout', 'bruis', 'brunnstrom', 'brunt', 'brussel', 'brutal', 'bu', 'bubin', 'budget', 'build', 'buildup', 'built', 'bukam', 'bukmal', 'bulel', 'bulldoz', 'bullet', 'bulletin', 'bulwark', 'bunker', 'burai', 'bureau', 'bureij', 'buri', 'burial', 'burj', 'burn', 'burnt', 'burst', 'buse', 'buseiri', 'bush', 'busi', 'busiest', 'busr', 'busra', 'buss', 'bust', 'bustan', 'bustani', 'buster', 'bustl', 'but', 'butcher', 'buy', 'buyir', 'bwarbubia', 'by', 'bystand', 'cabinet', 'cach', 'cadr', 'caesar', 'cafe', 'cairo', 'cakan', 'cake', 'calcul', 'calib', 'caliph', 'call', 'calm', 'calmer', 'came', 'camera', 'cameron', 'camp', 'campaign', 'can', 'cancel', 'canist', 'cannon', 'cannot', 'canon', 'cant', 'cap', 'capabl', 'capac', 'capit', 'capitul', 'capt', 'captain', 'captiv', 'captur', 'car', 'carbomb', 'card', 'care', 'career', 'carnag', 'carnegi', 'carol', 'carolmalouf', 'carpenti', 'carpet', 'carri', 'carrier', 'cart', 'carter', 'carv', 'case', 'cast', 'castello', 'castl', 'casual', 'casualti', 'catastroph', 'catch', 'categor', 'categori', 'cater', 'cathol', 'cattl', 'caucasu', 'caught', 'caus', 'causal', 'caution', 'cautiou', 'cave', 'cavusoglu', 'cb', 'cbrne', 'cbthfrgtp', 'ceas', 'ceasefir', 'celebr', 'celebratori', 'cell', 'cement', 'cemeteri', 'cent', 'centcom', 'center', 'centr', 'central', 'centuri', 'cereal', 'ceremoni', 'certain', 'certainli', 'cessat', 'chair', 'chairman', 'chalk', 'challeng', 'cham', 'chamber', 'chanc', 'chang', 'changer', 'channel', 'chant', 'chao', 'chapter', 'char', 'charact', 'character', 'characteris', 'charbonneau', 'charg', 'charit', 'chariti', 'charl', 'charleslist', 'charter', 'chase', 'chechen', 'chechnya', 'check', 'checkpoint', 'cheer', 'chemic', 'chest', 'chevalli', 'chief', 'child', 'children', 'chill', 'china', 'chines', 'chlorin', 'choic', 'choke', 'chopper', 'choreograph', 'chose', 'chosen', 'chowdhuri', 'chri', 'christ', 'christian', 'christoph', 'chunk', 'church', 'churkin', 'ci', 'cinderblock', 'circl', 'circul', 'circumst', 'citadel', 'cite', 'citi', 'citizen', 'civil', 'civilain', 'civilian', 'civilis', 'clad', 'claim', 'clamber', 'clamp', 'clan', 'clarif', 'clarifi', 'clariti', 'clash', 'class', 'classifi', 'classroom', 'clay', 'clean', 'cleans', 'clear', 'clearanc', 'clearli', 'cleric', 'click', 'client', 'climb', 'clinch', 'cling', 'clinic', 'clip', 'clock', 'close', 'closer', 'closest', 'closur', 'cloth', 'cloud', 'club', 'clump', 'cluster', 'clutch', 'clutter', 'clwyd', 'cnn', 'co', 'coach', 'coalit', 'coast', 'coastal', 'coastlin', 'coffe', 'coffin', 'cogtdl', 'coher', 'coincid', 'cokzleh', 'col', 'colait', 'cold', 'collabor', 'collaps', 'collat', 'collater', 'colleagu', 'collect', 'colleg', 'colon', 'colonel', 'colonnad', 'com', 'coma', 'comb', 'combat', 'combatt', 'combin', 'comcfdtdjmvkz', 'come', 'comeback', 'comegrjp', 'comezhmz', 'comfort', 'comgo', 'comgysfrhufpi', 'comhc', 'comhtebsa', 'comit', 'command', 'commend', 'comment', 'commerc', 'commerci', 'commiss', 'commission', 'commit', 'committe', 'commod', 'common', 'commonli', 'commun', 'comn', 'comnmnkca', 'compani', 'companion', 'compar', 'comparison', 'compassion', 'compel', 'compens', 'compet', 'competit', 'compil', 'complain', 'complet', 'complex', 'compli', 'complic', 'complicit', 'compon', 'compos', 'composit', 'compound', 'comprehens', 'compris', 'compund', 'comq', 'comrad', 'comsrzbdqcoeo', 'comtcdooepbwg', 'comu', 'comullh', 'comw', 'comwaoztximcu', 'comxuqsq', 'conceal', 'concentr', 'concer', 'concern', 'concert', 'concess', 'conclud', 'conclus', 'concret', 'condemn', 'condit', 'condol', 'conduct', 'conduit', 'confer', 'confess', 'confid', 'confin', 'confirm', 'confisc', 'conflict', 'conflictsinc', 'conform', 'confront', 'confus', 'congress', 'congression', 'connect', 'conqeust', 'conquer', 'conquest', 'conscienc', 'consecut', 'consent', 'consequ', 'conserv', 'consid', 'consider', 'consist', 'consolid', 'constant', 'constitut', 'constrict', 'construct', 'consul', 'consult', 'consum', 'contact', 'contain', 'contemporan', 'content', 'contest', 'context', 'contin', 'conting', 'continu', 'contract', 'contractor', 'contradict', 'contrari', 'contrast', 'contribut', 'contributor', 'contributrion', 'control', 'controversi', 'conven', 'convent', 'converg', 'convers', 'convert', 'convict', 'convinc', 'convoy', 'convuls', 'coobgx', 'cook', 'cooki', 'cooney', 'cooper', 'coordin', 'copctci', 'cope', 'copter', 'copyright', 'corbyn', 'cordon', 'core', 'corner', 'corp', 'corpor', 'corps', 'correct', 'correl', 'correspond', 'corridor', 'corrobor', 'corrupt', 'cost', 'cotton', 'could', 'couldnt', 'council', 'count', 'counter', 'counterattack', 'counteroffens', 'counterpart', 'counti', 'countless', 'countri', 'countrysid', 'coup', 'coupl', 'courag', 'cours', 'court', 'courtyard', 'cover', 'coverag', 'covet', 'covml', 'cowan', 'cowardic', 'cowardli', 'cower', 'coxiuelu', 'crack', 'crackdown', 'cradl', 'craft', 'crash', 'crater', 'creat', 'creation', 'credibl', 'credit', 'crescent', 'crew', 'crewmemb', 'crewmen', 'cri', 'crime', 'crimin', 'crippl', 'crisi', 'cristina', 'criteria', 'critic', 'criticis', 'crop', 'cross', 'crossroad', 'crowd', 'crucial', 'crucifi', 'crucifix', 'crude', 'cruis', 'crumbl', 'crusad', 'crush', 'crux', 'ct', 'culmin', 'curb', 'curiou', 'curl', 'current', 'currrntli', 'custodi', 'custom', 'cut', 'cutler', 'cw', 'cy', 'cyberspac', 'cycl', 'cylind', 'cymru', 'cynic', 'daatour', 'daatur', 'dabbit', 'dabe', 'dabet', 'dabiq', 'dae', 'dael', 'daesh', 'daesht', 'daesj', 'dagher', 'dahab', 'dahik', 'dahiyet', 'dahret', 'daili', 'dailysabah', 'daish', 'dakamseh', 'dalah', 'dali', 'dallatomasina', 'dam', 'damag', 'damascan', 'damascu', 'damascuss', 'dampen', 'damscu', 'damscusunderattack', 'dana', 'danaf', 'danaji', 'danan', 'danger', 'danish', 'daqaq', 'daqneh', 'dar', 'daraa', 'daraj', 'daraya', 'dare', 'daret', 'dark', 'darwish', 'data', 'date', 'daughter', 'daunt', 'davi', 'david', 'davutoglu', 'dawla', 'dawleh', 'dawn', 'dawood', 'day', 'daylight', 'daytim', 'daze', 'dbai', 'de', 'dead', 'deadli', 'deadliest', 'deadlin', 'deadlock', 'deaf', 'deal', 'dealt', 'death', 'debat', 'debilit', 'debri', 'debt', 'dec', 'decad', 'decapit', 'deceas', 'decemb', 'decept', 'decid', 'decis', 'declar', 'declin', 'decre', 'decreas', 'decri', 'deed', 'deem', 'deep', 'deepen', 'deeper', 'deepli', 'default', 'defeat', 'defect', 'defector', 'defenc', 'defenceu', 'defend', 'defens', 'defi', 'defianc', 'defiant', 'defibril', 'defin', 'degener', 'degrad', 'degre', 'deibeh', 'deior', 'deir', 'deirezzor', 'deiz', 'delay', 'deleg', 'deliber', 'delil', 'deliv', 'deliveri', 'demand', 'demarc', 'demetriu', 'demin', 'democraci', 'democrat', 'demograph', 'demographi', 'demolish', 'demonstr', 'den', 'deni', 'denial', 'denounc', 'dens', 'depart', 'departur', 'depend', 'depict', 'deplet', 'deplor', 'deploy', 'depopul', 'depot', 'depriv', 'depth', 'deputi', 'der', 'deraa', 'derail', 'deriv', 'descend', 'describ', 'desert', 'design', 'desir', 'desk', 'desper', 'despir', 'despit', 'destabil', 'destin', 'destroy', 'destruct', 'detail', 'detain', 'detaine', 'detect', 'detector', 'detent', 'deter', 'deterior', 'determin', 'deterr', 'deton', 'detour', 'detriment', 'deutsch', 'devast', 'develop', 'devic', 'deviou', 'devoid', 'devolv', 'devot', 'dha', 'diaa', 'diab', 'diabet', 'diagnosi', 'diagon', 'dib', 'dictat', 'dictatori', 'dictatorship', 'did', 'didnt', 'die', 'dier', 'diet', 'differ', 'difficult', 'difficulti', 'dig', 'digniti', 'dilat', 'dillon', 'dimashq', 'din', 'dine', 'dinner', 'diplomaci', 'diplomat', 'dire', 'direct', 'directli', 'director', 'diri', 'dirti', 'disabl', 'disagr', 'disagre', 'disappear', 'disappoint', 'disarm', 'disarma', 'disast', 'disastr', 'disband', 'disciplin', 'disclos', 'discourag', 'discov', 'discredit', 'discrep', 'discrimin', 'discuss', 'diseas', 'disfigur', 'disguis', 'disgust', 'dish', 'dislodg', 'dismantl', 'dismay', 'dismemb', 'dismiss', 'disown', 'dispar', 'dispatch', 'dispensari', 'dispers', 'displac', 'display', 'dispos', 'disproportion', 'disput', 'disregard', 'disrupt', 'dissemin', 'dissent', 'dissid', 'dissolv', 'distanc', 'distort', 'distract', 'distraught', 'distress', 'distribut', 'district', 'disturb', 'ditch', 'divert', 'divid', 'divin', 'divis', 'diyabiyah', 'diyarbakir', 'dmitri', 'dmitriy', 'do', 'doam', 'doamuslim', 'doctor', 'document', 'documentari', 'doe', 'doesnt', 'dog', 'dogan', 'doha', 'dohuk', 'dokhanyeh', 'dolgin', 'dollar', 'dome', 'domest', 'domin', 'don', 'donald', 'donat', 'done', 'donor', 'dont', 'doomani', 'door', 'doorway', 'dorar', 'dormitori', 'dorra', 'dorrian', 'doubl', 'doubt', 'douma', 'doumaextermin', 'dourin', 'down', 'downtown', 'dozen', 'dpa', 'dr', 'draft', 'drag', 'drain', 'dramat', 'draw', 'drawn', 'dream', 'drench', 'dress', 'drew', 'drink', 'drip', 'drive', 'driven', 'driver', 'drone', 'droop', 'drop', 'drousha', 'droushan', 'drove', 'drug', 'drum', 'druze', 'dshk', 'dualiti', 'dub', 'due', 'dug', 'duhour', 'duhur', 'dujarr', 'duma', 'dumayr', 'dumeir', 'dump', 'duplic', 'dure', 'durgun', 'durra', 'durrar', 'dusham', 'dushka', 'dust', 'dusti', 'dustman', 'duti', 'duvaybik', 'duwayleh', 'duweh', 'dwindl', 'dysfunct', 'dyspnea', 'dziadosz', 'each', 'eagerli', 'ear', 'earli', 'earlier', 'earlieracord', 'earnest', 'earth', 'eas', 'easi', 'easier', 'easiest', 'east', 'easter', 'eastern', 'eat', 'ebdi', 'ebtaa', 'echo', 'econom', 'economi', 'ed', 'eddin', 'edg', 'edit', 'editor', 'editori', 'ediz', 'edt', 'educ', 'edward', 'eerili', 'effect', 'effort', 'efrin', 'egeland', 'eggplant', 'egon', 'egypt', 'egyptian', 'ehpmd', 'ehra', 'ehsan', 'ehsim', 'eib', 'eid', 'eido', 'eight', 'eighteen', 'eighth', 'ein', 'either', 'eject', 'ejmalrai', 'ekeidat', 'el', 'elabor', 'elad', 'elbow', 'elder', 'elderli', 'eldest', 'elect', 'electr', 'element', 'elementari', 'eleven', 'elgood', 'elijah', 'elimin', 'elizabeth', 'ellen', 'els', 'elsewher', 'elus', 'email', 'emanuel', 'emb', 'embargo', 'embark', 'embarrass', 'embassi', 'embattl', 'embed', 'emblemat', 'embolden', 'embrac', 'emerg', 'emir', 'emissari', 'emma', 'emphas', 'emphasis', 'empir', 'emplac', 'employ', 'employe', 'empti', 'en', 'enabl', 'encas', 'encircl', 'enclav', 'encount', 'encountereda', 'encourag', 'encroach', 'end', 'endeavor', 'endors', 'endow', 'endur', 'enemi', 'energi', 'enforc', 'engag', 'engend', 'engin', 'engleezi', 'english', 'englishfar', 'engulf', 'enjoy', 'enlarg', 'enorm', 'enough', 'enquiri', 'ensari', 'ensu', 'ensur', 'enter', 'enthusiasm', 'entir', 'entireti', 'entiti', 'entourag', 'entranc', 'entrench', 'entri', 'envoy', 'epicent', 'epicentr', 'episod', 'eport', 'eqeirbat', 'equal', 'equip', 'equival', 'era', 'erad', 'erbin', 'ercan', 'erdoan', 'erdogan', 'erect', 'eric', 'erika', 'erod', 'error', 'erupt', 'es', 'escal', 'escap', 'escort', 'esm', 'especi', 'espous', 'essenti', 'establish', 'estim', 'estrang', 'ethiopia', 'ethnic', 'eu', 'euphrat', 'euro', 'europ', 'european', 'eurphrat', 'evacu', 'evacue', 'evalu', 'evan', 'eve', 'even', 'evenli', 'event', 'eventu', 'ever', 'everi', 'everybodi', 'everyon', 'everyth', 'everywher', 'evict', 'evid', 'evil', 'evolv', 'ex', 'exacerb', 'exact', 'exactli', 'exam', 'examin', 'exce', 'exceedingli', 'except', 'exchang', 'exclud', 'exclus', 'excus', 'execut', 'execution', 'exercis', 'exert', 'exhaust', 'exil', 'exist', 'existenti', 'exit', 'exodu', 'expand', 'expans', 'expansionist', 'expatri', 'expect', 'expediti', 'expel', 'expens', 'experi', 'experienc', 'expert', 'expir', 'explain', 'explan', 'explicit', 'explicitli', 'explod', 'exploit', 'explor', 'explos', 'export', 'expos', 'exposur', 'express', 'expressli', 'extend', 'extens', 'extent', 'extermin', 'extern', 'extinguish', 'extract', 'extraordinari', 'extrem', 'extremist', 'eye', 'eyewit', 'ez', 'ezeib', 'ezour', 'ezza', 'ezzor', 'ezzur', 'fabiu', 'fabric', 'facad', 'face', 'facebook', 'facebookcom', 'facebooksyrianarabnewsagencysana', 'facil', 'facilit', 'fact', 'factbox', 'faction', 'facto', 'factor', 'factori', 'faculti', 'fadel', 'fadi', 'fadl', 'fadlullah', 'fahd', 'faid', 'fail', 'failaq', 'failur', 'faint', 'fair', 'faisal', 'faith', 'fake', 'fakhreddin', 'fakih', 'fall', 'fallen', 'fallon', 'fallujah', 'fals', 'falter', 'fame', 'famili', 'familiar', 'familyhttpst', 'famin', 'famou', 'fanat', 'far', 'farah', 'faraj', 'farc', 'fardo', 'fardou', 'farhan', 'fari', 'farid', 'farm', 'farmer', 'farmland', 'farther', 'farwa', 'fast', 'fastaqim', 'fastat', 'fatah', 'fatal', 'fate', 'fateh', 'fath', 'father', 'fatigu', 'fatimi', 'fatwa', 'fault', 'favor', 'favour', 'fawaerah', 'fawwar', 'fay', 'fayez', 'faylaq', 'faysal', 'fear', 'feast', 'featur', 'feb', 'februari', 'feder', 'federica', 'feed', 'feel', 'feet', 'felip', 'fell', 'fellow', 'felsenth', 'felt', 'femal', 'fend', 'ferdou', 'feroc', 'feroci', 'ferri', 'fertil', 'festiv', 'few', 'fewer', 'ffm', 'fide', 'field', 'fierc', 'fiercest', 'fifteen', 'fifth', 'fifti', 'fight', 'fighter', 'figur', 'filaq', 'file', 'filita', 'fill', 'film', 'filmmak', 'final', 'finalis', 'financ', 'financi', 'find', 'fine', 'finest', 'finger', 'finish', 'fira', 'firat', 'fire', 'firebal', 'firefight', 'firehos', 'firepow', 'firm', 'firmer', 'firmli', 'first', 'fish', 'fist', 'fitr', 'five', 'flag', 'flagrant', 'flame', 'flank', 'flare', 'flareup', 'flash', 'flashpoint', 'flat', 'flatten', 'fled', 'fledg', 'flee', 'fleet', 'flew', 'fli', 'flickr', 'flight', 'flita', 'flock', 'floor', 'flounder', 'flour', 'flow', 'fluid', 'flurri', 'flush', 'fm', 'fna', 'foaa', 'foam', 'focal', 'focu', 'focus', 'fode', 'foe', 'foil', 'foley', 'follow', 'font', 'food', 'foot', 'footag', 'footbal', 'foothold', 'for', 'fora', 'forbidden', 'forc', 'forcesenior', 'forcibl', 'ford', 'forearm', 'foreign', 'forest', 'forg', 'form', 'formal', 'format', 'former', 'formerli', 'formula', 'forqan', 'forth', 'forti', 'fortif', 'fortifi', 'forum', 'forward', 'foua', 'fouaa', 'fought', 'found', 'founder', 'fouqani', 'four', 'fourat', 'fourteen', 'fourth', 'fraction', 'fragil', 'fragment', 'frail', 'framework', 'franc', 'franchis', 'franci', 'franciscan', 'francoi', 'frank', 'frankfurt', 'frantic', 'fraught', 'free', 'freed', 'freedom', 'freelanc', 'freez', 'freih', 'french', 'frequent', 'fresh', 'fri', 'frida', 'friday', 'frieh', 'friend', 'friendli', 'fring', 'from', 'front', 'frontier', 'frontlin', 'froth', 'fruit', 'fruitless', 'frustrat', 'fsa', 'fua', 'fuaa', 'fuel', 'fuell', 'full', 'fullest', 'fulli', 'fume', 'function', 'fund', 'fundament', 'funer', 'furati', 'furiou', 'furnitur', 'furqan', 'fursan', 'further', 'futur', 'ga', 'gaff', 'gag', 'gain', 'gajar', 'game', 'gang', 'garag', 'garden', 'gareth', 'garner', 'garver', 'gase', 'gasolin', 'gasp', 'gass', 'gate', 'gateway', 'gather', 'gave', 'gaza', 'gaziantep', 'gchemic', 'gcr', 'gear', 'gen', 'gener', 'geneva', 'genocid', 'genuin', 'geograph', 'georg', 'georgia', 'georgian', 'german', 'germani', 'get', 'ghab', 'ghabash', 'ghabra', 'ghabsheh', 'ghadiri', 'ghandoura', 'ghani', 'ghanto', 'gharbi', 'gharbia', 'gharbiya', 'gharbiyeh', 'gharbyia', 'ghareebeh', 'gharia', 'gharib', 'gharyia', 'ghazal', 'ghazala', 'ghazar', 'ghina', 'ghinwa', 'ghossoun', 'ghota', 'ghouta', 'ghoutta', 'ghraneij', 'ghweiran', 'giant', 'gile', 'gilleran', 'girl', 'give', 'given', 'glisten', 'global', 'globalsecur', 'glove', 'glue', 'gmt', 'go', 'goal', 'goat', 'god', 'goe', 'gog', 'golan', 'golani', 'golden', 'golovkin', 'gone', 'good', 'googl', 'gorg', 'got', 'gotten', 'gouta', 'govern', 'government', 'governor', 'govt', 'grad', 'grade', 'gradual', 'graduat', 'graff', 'grain', 'grand', 'granddaught', 'grandfath', 'grandstand', 'grant', 'graphic', 'grasp', 'grassroot', 'grave', 'gravest', 'graveyard', 'graviti', 'gray', 'great', 'greater', 'greatest', 'green', 'greet', 'grenad', 'grew', 'grey', 'grim', 'grip', 'grisli', 'groom', 'gross', 'grotesqu', 'ground', 'group', 'grove', 'grow', 'grown', 'grubel', 'gruesom', 'guarante', 'guarantor', 'guard', 'guerilla', 'guerr', 'guerrilla', 'guest', 'guid', 'guidanc', 'guilti', 'gulf', 'gun', 'gunfir', 'gunmen', 'gunpoint', 'gunshot', 'guterr', 'gutterman', 'gwyn', 'ha', 'haa', 'haal', 'habal', 'habari', 'habbari', 'habbush', 'habeet', 'haberturk', 'habibi', 'habreh', 'habriri', 'had', 'hada', 'hadar', 'hader', 'hadi', 'hadid', 'haditha', 'hadiya', 'hadnt', 'hadrami', 'hadyah', 'hafer', 'hafez', 'haffer', 'hafir', 'hagu', 'haidariy', 'haider', 'haifa', 'hail', 'hair', 'haitham', 'haj', 'hajam', 'hajar', 'hajira', 'hajj', 'hajjah', 'hajjar', 'hajz', 'hakema', 'hakim', 'halab', 'halabi', 'halabja', 'halabouni', 'halaf', 'halal', 'halap', 'haley', 'half', 'halfaya', 'halk', 'hall', 'hallmark', 'halqi', 'halt', 'hama', 'hamad', 'hamadaniah', 'hamadaniy', 'hamadaniya', 'hamadaniyah', 'hamadaniyeh', 'hamadanyia', 'hamadanyiah', 'hamadi', 'hamadiyeh', 'hamah', 'hamahttpst', 'hamaidleb', 'hamam', 'hamawi', 'hamdaniya', 'hamdaniyeh', 'hamediyeh', 'hami', 'hamideh', 'hamidia', 'hamidiya', 'hamidiyeh', 'hamiskil', 'hammam', 'hammer', 'hammoud', 'hammouriya', 'hammuriyah', 'hammuriyeh', 'hamper', 'hamra', 'hamud', 'hamwi', 'hamza', 'hanano', 'hanaya', 'hand', 'handarat', 'handl', 'handout', 'hang', 'hanida', 'hannan', 'happen', 'happi', 'haq', 'hara', 'harah', 'harak', 'harami', 'harass', 'harasta', 'harbanafseh', 'harbiyat', 'harbnafsah', 'hard', 'hardaneh', 'hardatain', 'hardatnin', 'harder', 'hardli', 'hardlin', 'hardship', 'hardwar', 'harem', 'harfa', 'harir', 'hariri', 'haritan', 'harm', 'harma', 'harman', 'harmeh', 'harri', 'harsh', 'harshest', 'harshli', 'harvest', 'hasak', 'hasaka', 'hasakah', 'hasakeh', 'haseria', 'hashem', 'hashim', 'hashtag', 'hasnt', 'hass', 'hassaan', 'hassadjek', 'hassajik', 'hassak', 'hassakeh', 'hassan', 'hassia', 'hasten', 'hat', 'hatab', 'hatay', 'hatem', 'hatim', 'hatla', 'hatr', 'have', 'haven', 'havent', 'havidar', 'havoc', 'hawa', 'hawadid', 'hawaei', 'hawar', 'hawi', 'hawijat', 'hayan', 'hayat', 'hayyan', 'hayyar', 'hazano', 'hazavaneh', 'hazawiya', 'haze', 'hazem', 'hazimah', 'hazm', 'hazouri', 'hazza', 'hazzm', 'hbeilat', 'he', 'head', 'headach', 'headquart', 'headscarf', 'headteach', 'heal', 'health', 'healthcar', 'heap', 'hear', 'heard', 'heart', 'heartbroken', 'heartland', 'heath', 'heaven', 'heavi', 'heaviest', 'heavili', 'heel', 'hegemoni', 'height', 'heinou', 'heinrich', 'held', 'helfaya', 'helicopt', 'hell', 'helmet', 'help', 'henc', 'heneyda', 'hepinstal', 'her', 'herb', 'herd', 'here', 'heritag', 'hermon', 'hero', 'heroic', 'herself', 'hesit', 'hessan', 'heyva', 'hezballah', 'hezbollah', 'hi', 'hialiyeh', 'hiatu', 'hid', 'hidden', 'hide', 'hideout', 'high', 'higher', 'highest', 'highli', 'highway', 'hijab', 'hike', 'hikmet', 'hilal', 'hilaliya', 'hilaliyeh', 'hill', 'hillo', 'hilltop', 'him', 'himself', 'hin', 'hinder', 'hindo', 'hindranc', 'hint', 'hirbanfsah', 'hisbah', 'hisham', 'hissan', 'histor', 'hit', 'hizam', 'hizballah', 'hizbollah', 'hkmet', 'hmeimem', 'hmeimim', 'hmeish', 'hmeymim', 'hnc', 'ho', 'hoff', 'hola', 'hold', 'holdout', 'hole', 'holi', 'holiday', 'holland', 'holm', 'hom', 'home', 'homeland', 'homemad', 'hometown', 'homework', 'homr', 'homsi', 'homsonlin', 'homss', 'honest', 'honor', 'hope', 'hor', 'hormizd', 'horra', 'horrend', 'horribl', 'horrif', 'horrifi', 'horror', 'hosam', 'hose', 'hoshariyeh', 'hosn', 'hosni', 'hospit', 'hossam', 'host', 'hostag', 'hostil', 'hot', 'hotb', 'hotel', 'houla', 'hour', 'houri', 'hous', 'household', 'housh', 'housi', 'houteh', 'how', 'howayqa', 'howev', 'howitz', 'hq', 'hrabesh', 'hrak', 'hrw', 'ht', 'httpsabahdai', 'httpst', 'hub', 'huddl', 'hudson', 'huet', 'hug', 'huge', 'human', 'humanitarian', 'humeiri', 'hundr', 'hung', 'hunger', 'hunt', 'huraytan', 'hurdl', 'hurmoz', 'hurr', 'hurt', 'husainiyah', 'husband', 'huseini', 'hussain', 'hussan', 'hussein', 'husseiniyeh', 'huwaidi', 'huweijeh', 'huweijet', 'hwaiz', 'hweijet', 'hweiqa', 'hydrocarbon', 'hymn', 'hyster', 'hysteria', 'hywel', 'iat', 'ibin', 'ibn', 'ibrahim', 'ibtaa', 'ibtraa', 'ibtta', 'icc', 'icon', 'icrc', 'id', 'ida', 'idelbi', 'ident', 'identif', 'identifi', 'ideolog', 'idf', 'idleb', 'idli', 'idlib', 'idlip', 'idp', 'idri', 'if', 'ifk', 'ifrc', 'ifreen', 'iftar', 'ignit', 'ignobl', 'ignor', 'igor', 'ih', 'iha', 'ihl', 'ihsan', 'ihtimalat', 'ii', 'ikdakh', 'ikhbariya', 'ikrima', 'il', 'ilah', 'ill', 'illeg', 'illegitim', 'illog', 'illustr', 'ilya', 'im', 'imad', 'imag', 'imagin', 'imam', 'iman', 'immedi', 'immigr', 'immin', 'immun', 'impact', 'impair', 'imparti', 'impass', 'implement', 'implic', 'implor', 'import', 'impos', 'imposit', 'imposs', 'impoverish', 'imprison', 'improperli', 'improv', 'improvis', 'impun', 'in', 'inaccess', 'inact', 'inadmiss', 'inappropri', 'inaugur', 'incap', 'incendiari', 'incent', 'incess', 'inch', 'incid', 'inciner', 'incirlik', 'incit', 'includ', 'inclus', 'incom', 'inconsist', 'incontrovert', 'incorrect', 'increas', 'increasingli', 'increment', 'incub', 'incurs', 'inde', 'indefens', 'independ', 'independantli', 'india', 'indic', 'indicte', 'indiffer', 'indirectli', 'indiscrimin', 'indispens', 'individu', 'industri', 'inevit', 'inexcus', 'infam', 'infant', 'infantri', 'infidel', 'infight', 'infiltr', 'inflict', 'influenc', 'influenti', 'influx', 'info', 'infograph', 'inform', 'infrastructur', 'infuri', 'inhabit', 'inhal', 'inher', 'inhuman', 'initi', 'injur', 'injuri', 'injustic', 'inkhil', 'inn', 'innoc', 'inoper', 'inpati', 'inquiri', 'insecur', 'insid', 'insist', 'inspect', 'inspector', 'inspir', 'instagram', 'instal', 'instanc', 'instead', 'instil', 'institut', 'insuffici', 'insur', 'insurg', 'intaj', 'intel', 'intellig', 'intend', 'intens', 'intensif', 'intensifi', 'intent', 'inter', 'interest', 'interf', 'interfax', 'interim', 'interior', 'intermediari', 'intermitt', 'intern', 'internet', 'interrupt', 'intersect', 'interv', 'interven', 'intervent', 'interview', 'intl', 'into', 'intoler', 'intra', 'intract', 'invad', 'invas', 'invers', 'invest', 'investig', 'invit', 'involuntari', 'involv', 'inzarat', 'io', 'iran', 'iranian', 'iraq', 'iraqi', 'irbin', 'ire', 'ireland', 'irish', 'iron', 'irrelev', 'irresolut', 'is', 'isi', 'isil', 'isisl', 'isiss', 'iskandaron', 'islam', 'islamist', 'islamophobia', 'ismail', 'ismailiya', 'isnt', 'isol', 'isra', 'israel', 'iss', 'issa', 'issg', 'issu', 'istanbul', 'it', 'italian', 'item', 'ithriya', 'itself', 'ivanka', 'ive', 'iyad', 'izaa', 'izraa', 'izza', 'jab', 'jabal', 'jabbar', 'jaber', 'jaberiyeh', 'jabha', 'jabhat', 'jabiri', 'jabiryieh', 'jabiyeh', 'jableh', 'jacket', 'jacqu', 'jade', 'jadid', 'jadida', 'jadideh', 'jadieh', 'jafra', 'jafreh', 'jahjah', 'jail', 'jaish', 'jalaa', 'jalakh', 'jale', 'jalloum', 'jama', 'jamaiyat', 'jamal', 'jame', 'jameel', 'jameliaiah', 'jami', 'jamiaa', 'jamiat', 'jamieh', 'jamil', 'jamilia', 'jamiliyeh', 'jamilyeh', 'jamiyat', 'jamiyet', 'jamou', 'jamu', 'jamyiat', 'jan', 'jana', 'janah', 'jandalai', 'jandali', 'jandoul', 'jane', 'jannad', 'janoubi', 'janssen', 'januari', 'jaoureh', 'jara', 'jarablu', 'jarabulu', 'jarah', 'jaramana', 'jarba', 'jarboua', 'jarez', 'jarrah', 'jason', 'jassem', 'javad', 'jaw', 'jawad', 'jawzeh', 'jayrud', 'jayrudi', 'jaysh', 'jazal', 'jazeera', 'jbab', 'jean', 'jeb', 'jebb', 'jeeneh', 'jeff', 'jeish', 'jeli', 'jen', 'jerablu', 'jerah', 'jeremi', 'jerin', 'jesreen', 'jesu', 'jet', 'jfml', 'jibrin', 'jihad', 'jihadi', 'jihadist', 'jira', 'jisr', 'jisreen', 'joann', 'joban', 'jobar', 'john', 'johnson', 'join', 'joint', 'jointli', 'joke', 'jomah', 'jomrok', 'jone', 'jora', 'jordan', 'jordanian', 'joseph', 'josh', 'joubar', 'joulaq', 'joura', 'journal', 'journalist', 'journey', 'jouz', 'jowan', 'joyc', 'joycekaram', 'joz', 'jrrw', 'js', 'jub', 'jubailiyeh', 'jubar', 'jubata', 'jubb', 'judg', 'judgement', 'judici', 'jug', 'jul', 'juli', 'jump', 'jumpsuit', 'jun', 'junction', 'jund', 'jundi', 'june', 'jurist', 'just', 'justic', 'justif', 'justifi', 'juzef', 'kaag', 'kabanikensabba', 'kabiba', 'kabir', 'kabireh', 'kabun', 'kadi', 'kadin', 'kadoushan', 'kaey', 'kafar', 'kafarbatna', 'kafarnaha', 'kafarya', 'kafr', 'kafranbil', 'kafraya', 'kafrtakharim', 'kafrya', 'kafyra', 'kala', 'kalaseh', 'kalash', 'kalassa', 'kaljibrin', 'kallasa', 'kallaseh', 'kama', 'kamal', 'kamel', 'kanasba', 'kane', 'kanjou', 'kansaba', 'karah', 'karaj', 'karak', 'karam', 'karat', 'karima', 'kark', 'karkami', 'karm', 'kasab', 'kashef', 'kasolowski', 'kassab', 'kassarat', 'kassem', 'kassig', 'katakit', 'katan', 'katvi', 'katyusha', 'kawkab', 'kazakh', 'kazakhstan', 'kazaki', 'kdk', 'keep', 'keepingtheleith', 'kefarnaha', 'kefr', 'kefraya', 'keg', 'kel', 'kennedi', 'kenneth', 'kept', 'kerkasi', 'kerri', 'kevin', 'key', 'kfar', 'kg', 'khabibulin', 'khabieh', 'khadami', 'khadour', 'khalaf', 'khalasa', 'khaldiyeh', 'khaldoun', 'khale', 'khalediya', 'khalid', 'khalidi', 'khalidiy', 'khalif', 'khalil', 'khalili', 'khalsa', 'khamenei', 'khan', 'khanas', 'khanass', 'khandaqani', 'kharroubi', 'khashab', 'khatab', 'khatib', 'khatt', 'khattab', 'khazan', 'khazrajiyeh', 'kherbat', 'khirbat', 'khirbet', 'khlebnikov', 'khleif', 'khmeimim', 'khneif', 'khneifi', 'khodr', 'khorasan', 'khouri', 'khrab', 'khraba', 'khuder', 'khulafa', 'khulafaa', 'khuneida', 'khwyn', 'ki', 'kick', 'kid', 'kidnap', 'kiki', 'kili', 'kill', 'killer', 'kilmakho', 'kilomet', 'kilometr', 'kind', 'kinda', 'king', 'kingdom', 'kinsafra', 'kirbi', 'kirkuk', 'kirkuki', 'kishkeih', 'kitchen', 'kitf', 'km', 'kneel', 'knew', 'knife', 'knive', 'knock', 'know', 'knowledg', 'known', 'koban', 'kobani', 'kobaninorth', 'kobni', 'kokab', 'konashenkov', 'koniko', 'korea', 'kosovar', 'kremlin', 'krxq', 'ksa', 'kubra', 'kubrah', 'kurd', 'kurdi', 'kurdish', 'kurdistan', 'kussa', 'kuwait', 'kuweit', 'kuznetsov', 'kweyri', 'kwj', 'lab', 'label', 'labour', 'lace', 'lack', 'laden', 'ladi', 'laerk', 'laha', 'lahaya', 'laid', 'laila', 'lailiyeh', 'laith', 'lajat', 'lake', 'lama', 'lament', 'land', 'landmin', 'landslid', 'lane', 'languag', 'lap', 'larg', 'larger', 'largest', 'larouz', 'last', 'latakia', 'latamina', 'latamineh', 'latamneh', 'late', 'later', 'latest', 'latic', 'lattakia', 'latter', 'launch', 'launcher', 'launchpad', 'laurenc', 'laurent', 'lausann', 'lavrov', 'law', 'lawmak', 'lawyer', 'lay', 'layov', 'lcc', 'lcoal', 'lead', 'leader', 'leadership', 'leagu', 'leak', 'lean', 'learn', 'least', 'leav', 'lebanes', 'lebanon', 'lectur', 'led', 'lefeh', 'left', 'leg', 'legaci', 'legal', 'leggjln', 'legion', 'legisl', 'legitim', 'legitimaci', 'leith', 'leithfadel', 'lend', 'length', 'lengthi', 'lentil', 'leramun', 'less', 'let', 'lethal', 'letter', 'levant', 'level', 'levi', 'ley', 'leyla', 'liber', 'liberti', 'libya', 'libyan', 'licens', 'lie', 'lieuten', 'life', 'lifeless', 'lifelin', 'lifesav', 'lift', 'light', 'lighten', 'lightn', 'like', 'likelihood', 'lima', 'limb', 'limit', 'limp', 'line', 'link', 'lion', 'lip', 'liquid', 'lisa', 'list', 'listen', 'lister', 'liter', 'lithuania', 'littl', 'liu', 'live', 'livestock', 'liwa', 'liwaa', 'lkvn', 'load', 'loath', 'loav', 'lob', 'lobbi', 'loc', 'local', 'locat', 'lock', 'loggerhead', 'logic', 'logist', 'loiter', 'lojat', 'london', 'long', 'longer', 'longtim', 'look', 'loos', 'lorri', 'lose', 'loss', 'lost', 'lot', 'loud', 'loudspeak', 'loui', 'louis', 'love', 'low', 'lower', 'loyal', 'loyalist', 'loyalti', 'lt', 'luck', 'lucr', 'luescher', 'luggag', 'lukewarm', 'lull', 'lunch', 'lung', 'luxembourg', 'luz', 'ly', 'lyac', 'lybbrl', 'lyesxnam', 'lynn', 'lyp', 'lyraa', 'maadi', 'maaf', 'maala', 'maaleh', 'maan', 'maara', 'maarat', 'maarata', 'maard', 'maaret', 'maarouf', 'maarrat', 'maarret', 'maarzita', 'maasaran', 'maaser', 'maath', 'mabrouk', 'macdonald', 'macfi', 'machin', 'machinegun', 'madani', 'madaya', 'made', 'madhamiyat', 'madiq', 'madira', 'maghawir', 'maghay', 'maghayir', 'magnet', 'magnier', 'mahasa', 'mahata', 'mahatta', 'maher', 'mahin', 'mahkan', 'mahmoud', 'mahmud', 'mail', 'main', 'mainli', 'mainstream', 'maintain', 'mainten', 'maisaloun', 'maj', 'majda', 'maje', 'major', 'make', 'maker', 'makeshift', 'makhlouf', 'makhzoumi', 'makhzumi', 'makieh', 'maksar', 'mal', 'malaah', 'malah', 'malahifji', 'malahjifi', 'malais', 'malak', 'malaysia', 'male', 'maleh', 'malek', 'malhifji', 'malik', 'malla', 'mallah', 'malnourish', 'malnutrit', 'malouf', 'mamlouk', 'mamluk', 'mamu', 'mamun', 'man', 'manag', 'manal', 'manar', 'manbij', 'manbji', 'mandat', 'mandatori', 'mandil', 'maneuv', 'mangl', 'mani', 'manifest', 'manner', 'mannoukh', 'manpow', 'manshiyah', 'mansoor', 'mansour', 'mansoura', 'mansoureh', 'manual', 'manyan', 'maqab', 'maqam', 'maqsood', 'maqsoud', 'maqsud', 'mar', 'maraat', 'marat', 'marathon', 'marc', 'marcel', 'march', 'mardini', 'mare', 'marea', 'marey', 'mari', 'maria', 'marin', 'marj', 'marjah', 'marjeh', 'mark', 'markada', 'market', 'marketplac', 'marmalet', 'marri', 'marshal', 'martin', 'martini', 'martyr', 'martyrdom', 'marwah', 'marwan', 'masada', 'masaken', 'masan', 'masasneh', 'masbah', 'masdar', 'mashara', 'masharfeh', 'masharqa', 'masharqeh', 'mashhad', 'mashi', 'mashreq', 'mask', 'masmakeh', 'masoudiyeh', 'masqan', 'masrin', 'mass', 'massacr', 'massimiliano', 'massiv', 'massudiyeh', 'matar', 'match', 'materi', 'matter', 'matthew', 'maurer', 'mausoleum', 'maxim', 'maximum', 'may', 'mayadeen', 'mayadin', 'mayhem', 'mayor', 'maysa', 'mayssar', 'mayyal', 'mazar', 'mazda', 'mazen', 'mazra', 'mazraa', 'mazzeh', 'mb', 'mbmb', 'mbvv', 'mccain', 'mcconnel', 'mcdowal', 'me', 'meagr', 'meal', 'mean', 'meaningless', 'meant', 'meantim', 'meanwhil', 'meanwhile', 'measur', 'mecca', 'mechan', 'medcin', 'meddler', 'medelci', 'media', 'mediat', 'medic', 'medicin', 'medina', 'mediterranean', 'medium', 'meet', 'mehdi', 'melania', 'mele', 'mella', 'member', 'membership', 'membranessymptom', 'memorandum', 'men', 'menagh', 'menbij', 'menian', 'menshiyeh', 'mention', 'mentor', 'mercenari', 'merci', 'merciless', 'mere', 'merg', 'merger', 'meri', 'meridian', 'merja', 'meshaal', 'meshrfeh', 'mesir', 'mesk', 'mesouti', 'mesraba', 'messag', 'messeng', 'messibin', 'mestah', 'met', 'metal', 'meter', 'method', 'metr', 'metric', 'mevlt', 'mevlut', 'meyadin', 'mezzeh', 'mheimideh', 'mi', 'michael', 'michel', 'mid', 'midan', 'midday', 'middl', 'mideast', 'midnight', 'mig', 'mighr', 'might', 'migrant', 'migrat', 'mikhail', 'milad', 'mile', 'milhem', 'mili', 'milit', 'militari', 'militarili', 'militaris', 'militia', 'militiamen', 'mill', 'milli', 'million', 'mind', 'mine', 'mini', 'minian', 'minim', 'minimis', 'minimum', 'minist', 'ministeri', 'ministri', 'minni', 'minor', 'mint', 'minut', 'miocic', 'mir', 'miracl', 'mire', 'miseri', 'mishal', 'mishtenur', 'misinform', 'misraba', 'miss', 'missil', 'mission', 'mistak', 'mistaken', 'mistakenli', 'mistura', 'mitch', 'mitchel', 'mithal', 'mithqal', 'mix', 'mketaa', 'mleiha', 'mm', 'mna', 'moab', 'moadamieh', 'moadamiya', 'moadamiyeh', 'mob', 'mobil', 'mobilis', 'mod', 'modar', 'moder', 'modern', 'modest', 'modu', 'modular', 'mogambo', 'moghambo', 'mogherini', 'mohafaza', 'mohafazah', 'moham', 'mohamad', 'mohammad', 'mohammd', 'mohasan', 'mohsen', 'mokaf', 'moment', 'momentum', 'mon', 'mona', 'monarchi', 'monday', 'moneim', 'money', 'monitor', 'monsoon', 'monstrou', 'month', 'monument', 'moon', 'mop', 'moqtada', 'moral', 'moratorium', 'more', 'moreimag', 'morek', 'moreov', 'morgu', 'morn', 'morocco', 'morph', 'mortal', 'mortar', 'mortem', 'mortier', 'moscow', 'mosh', 'moshrefeh', 'moslemieh', 'mosqu', 'most', 'mostafa', 'mostli', 'mosul', 'mother', 'motion', 'motorbik', 'motorcycl', 'motorway', 'mouadamiya', 'mouhessen', 'moumtzi', 'mound', 'mount', 'mountain', 'mounzer', 'mourad', 'mourek', 'mourn', 'mourner', 'mousa', 'moussa', 'mouth', 'move', 'movement', 'mowafaq', 'mp', 'mrat', 'mreiiyeh', 'mrkdba', 'msf', 'mshairfeh', 'msheirfeh', 'muaker', 'muallem', 'muaz', 'much', 'mucou', 'mucu', 'muddi', 'mughambo', 'mugheiriyeh', 'muhafaza', 'muhajir', 'muham', 'muhamad', 'muhammad', 'muhanna', 'muhassen', 'mujahideen', 'mukhraam', 'mull', 'multi', 'multifacet', 'multin', 'multipl', 'multipli', 'munich', 'municip', 'munit', 'muraay', 'murad', 'murayeh', 'murder', 'musafa', 'muscl', 'mushrefeh', 'mushroom', 'music', 'muslim', 'musraba', 'must', 'mustafa', 'mustaqb', 'mustard', 'mutil', 'mutual', 'muwaffaq', 'muwasat', 'my', 'mydriasi', 'myriad', 'mysteri', 'naba', 'nabbouda', 'nabe', 'nabea', 'nabil', 'nabl', 'nabudah', 'naddaf', 'nader', 'nadim', 'nadzhua', 'nafisa', 'nagham', 'naha', 'nahad', 'nahleh', 'nahsen', 'nail', 'naimi', 'nairab', 'najat', 'naji', 'najib', 'najjar', 'najla', 'nake', 'namar', 'name', 'namesak', 'nammou', 'napalm', 'narji', 'narrat', 'narrow', 'nashwa', 'nashwan', 'nasr', 'nasser', 'natali', 'nation', 'nationalist', 'nationwid', 'nativ', 'nato', 'natur', 'nausea', 'navi', 'nawaf', 'nawaz', 'nawra', 'nawrouz', 'naya', 'nayef', 'nayrab', 'nazeer', 'nazi', 'nazihin', 'nazlet', 'nd', 'ndf', 'ne', 'near', 'nearbi', 'nearer', 'nearest', 'nearli', 'nebabil', 'nebehay', 'necess', 'necessari', 'necip', 'neck', 'need', 'neel', 'neg', 'neglig', 'negoti', 'neighbor', 'neighborhood', 'neighbour', 'neighbourhood', 'neither', 'nerv', 'nervou', 'nesirki', 'network', 'neurologist', 'neurotox', 'neutral', 'never', 'new', 'newli', 'news', 'newspap', 'newsroom', 'next', 'ngo', 'nice', 'nichol', 'nichola', 'nick', 'nicknam', 'nidal', 'niec', 'night', 'nightfal', 'nightmar', 'nikki', 'nikla', 'nile', 'nine', 'nineti', 'ninth', 'nishabiya', 'nisibi', 'nisr', 'nisreen', 'nl', 'nna', 'no', 'noami', 'nobodi', 'noha', 'noiami', 'nom', 'noman', 'nomin', 'non', 'noncompli', 'none', 'nonetheless', 'nonfunct', 'nongovernment', 'noon', 'noos', 'nor', 'nore', 'noria', 'norm', 'north', 'northeast', 'northeastern', 'norther', 'northern', 'northwest', 'northwestern', 'nose', 'not', 'notabl', 'note', 'noth', 'notifi', 'notori', 'nouman', 'nour', 'noureddin', 'nov', 'novemb', 'novosti', 'now', 'nowam', 'nowher', 'nqjdk', 'ntjhh', 'ntv', 'nuaima', 'nuaman', 'nubbul', 'nuclear', 'nueima', 'nueimeh', 'nuh', 'nujaba', 'numaan', 'numan', 'numb', 'number', 'numer', 'nun', 'nurah', 'nureddin', 'nurs', 'nusaybin', 'nusra', 'nutrit', 'nyrabia', 'nyrabiya', 'oa', 'oasi', 'obaida', 'obama', 'obamacar', 'obeida', 'obervatori', 'obervatorti', 'object', 'oblig', 'obliter', 'obrien', 'obscur', 'observ', 'observatori', 'observesyria', 'obstacl', 'obtain', 'obvious', 'occas', 'occasion', 'occup', 'occupi', 'occur', 'ocha', 'ochasyria', 'oct', 'octob', 'odd', 'odonnel', 'of', 'off', 'offend', 'offens', 'offer', 'offic', 'offici', 'offshoot', 'often', 'oil', 'oilfield', 'old', 'ole', 'oliv', 'olu', 'om', 'omani', 'omar', 'omari', 'omran', 'on', 'onc', 'one', 'ongo', 'onion', 'onli', 'onlin', 'onset', 'onslaught', 'onto', 'op', 'opcw', 'open', 'oper', 'opera', 'operandi', 'opinion', 'oposit', 'oppon', 'opportun', 'oppos', 'opposit', 'oppositon', 'oppost', 'oppress', 'oppressor', 'optimist', 'option', 'or', 'oral', 'oram', 'orang', 'orchard', 'orchestr', 'ordeal', 'order', 'ordinari', 'ordnanc', 'orem', 'org', 'organ', 'organis', 'organophosphoru', 'organophosporu', 'origin', 'orim', 'orphanag', 'orthodox', 'orthoped', 'orum', 'orwa', 'osama', 'ostens', 'otaya', 'other', 'otherwis', 'otoya', 'ottoman', 'oum', 'our', 'ourselv', 'oust', 'ouster', 'out', 'outbreak', 'outcom', 'outdoor', 'outfit', 'outlaw', 'outlet', 'outlin', 'outpost', 'output', 'outrag', 'outright', 'outset', 'outsid', 'outskirt', 'outstand', 'oval', 'over', 'overal', 'overcom', 'overcrowd', 'overdu', 'overflow', 'overhead', 'overlook', 'overnight', 'overran', 'overrid', 'overrun', 'overse', 'oversea', 'overseen', 'oversight', 'overthrow', 'overwhelm', 'overwhelmingli', 'owei', 'oweijel', 'own', 'owner', 'owsah', 'oxygen', 'pace', 'pacif', 'pack', 'pad', 'page', 'paid', 'pain', 'pair', 'pakistan', 'palac', 'pale', 'palestin', 'palestinian', 'palmyra', 'pan', 'panic', 'panick', 'pankisi', 'pano', 'panorama', 'parachut', 'parad', 'parallel', 'paramed', 'paramilitari', 'parent', 'pari', 'park', 'parliament', 'parliamentari', 'parsley', 'part', 'partak', 'parti', 'partial', 'particip', 'particular', 'particularli', 'partit', 'partizan', 'partli', 'partner', 'pass', 'passabl', 'passag', 'passeng', 'passport', 'past', 'patchwork', 'path', 'pathologist', 'patient', 'patrol', 'pattern', 'paula', 'paus', 'pave', 'pavel', 'pavement', 'pay', 'pbuh', 'peac', 'pearl', 'pediatr', 'penal', 'penalti', 'pencil', 'pend', 'penetr', 'peninsula', 'penni', 'pentagon', 'peopl', 'per', 'percent', 'percev', 'perform', 'perhap', 'perimet', 'period', 'perish', 'perman', 'permiss', 'perpetr', 'perri', 'perrico', 'persecut', 'persev', 'persever', 'persian', 'persist', 'person', 'personnel', 'peshmerga', 'peskov', 'peter', 'petersburg', 'petrol', 'phalang', 'pharmaci', 'pharmacist', 'phase', 'philippin', 'phone', 'phosphor', 'phosphoru', 'photo', 'photoessay', 'photograph', 'physic', 'pic', 'pick', 'pickax', 'picket', 'pickup', 'pictur', 'piec', 'piecem', 'pierc', 'pig', 'pile', 'pilgrim', 'pilgrimag', 'pillay', 'pilot', 'pin', 'pink', 'pinnacl', 'pinpoint', 'pioneer', 'pipelin', 'pistol', 'pit', 'pitalev', 'pitch', 'pivot', 'pkk', 'place', 'plagu', 'plaid', 'plain', 'plainli', 'plan', 'plane', 'plant', 'plaqu', 'plastic', 'plateau', 'platform', 'play', 'player', 'plea', 'plead', 'pledg', 'plethora', 'plight', 'plot', 'plowshar', 'plu', 'plume', 'plunder', 'plung', 'pm', 'pocket', 'point', 'pois', 'poison', 'pokemon', 'pole', 'polic', 'policeman', 'policemen', 'polici', 'polit', 'politburo', 'poll', 'pollard', 'pomeroy', 'pontiff', 'pool', 'poor', 'pope', 'popeski', 'popul', 'popular', 'popularli', 'port', 'portal', 'portion', 'portray', 'pose', 'posit', 'poss', 'possess', 'possibl', 'post', 'postpon', 'potato', 'potent', 'potenti', 'poultri', 'pound', 'pour', 'poverti', 'powder', 'powel', 'power', 'powerhous', 'pp', 'practic', 'prais', 'pray', 'prayer', 'pre', 'precaut', 'preced', 'precis', 'precursor', 'predat', 'predecessor', 'predict', 'predomin', 'predominantli', 'pregnant', 'preliminari', 'prematur', 'premier', 'prepar', 'presenc', 'present', 'preserv', 'presid', 'presidenti', 'press', 'presstv', 'pressur', 'presum', 'pretext', 'pretti', 'prevent', 'previou', 'previous', 'prewar', 'prey', 'price', 'priceless', 'priceu', 'priest', 'primari', 'primarili', 'prime', 'princ', 'princip', 'principl', 'print', 'prior', 'priorit', 'prioriti', 'prison', 'privaci', 'privat', 'privileg', 'prize', 'pro', 'probabl', 'probe', 'problem', 'procedur', 'proceed', 'process', 'proclaim', 'procrastin', 'produc', 'product', 'profession', 'program', 'programm', 'progress', 'prohibit', 'project', 'projectil', 'prolifer', 'prolong', 'promin', 'promis', 'promot', 'prompt', 'promptli', 'proof', 'prop', 'propaganda', 'propel', 'properli', 'properti', 'propheci', 'prophet', 'propos', 'prosecut', 'prospect', 'protect', 'protein', 'protest', 'protract', 'prove', 'proven', 'provid', 'provinc', 'provinci', 'provis', 'provision', 'provoc', 'provok', 'proxim', 'ps', 'psaki', 'public', 'publicli', 'publish', 'pull', 'pullout', 'pulmonari', 'puls', 'pump', 'punch', 'punish', 'punit', 'pupil', 'purchas', 'pure', 'purg', 'purpl', 'purport', 'purportedli', 'purpos', 'pursu', 'push', 'put', 'pute', 'putin', 'puzzlingli', 'pvbg', 'pyd', 'qab', 'qaba', 'qabaseen', 'qaboun', 'qabr', 'qabun', 'qadahat', 'qadeem', 'qaderiyeh', 'qadi', 'qadima', 'qadri', 'qaeda', 'qaida', 'qaissi', 'qajar', 'qalamon', 'qalamoni', 'qalamoun', 'qalamun', 'qalmoun', 'qalqal', 'qameshli', 'qamishli', 'qaq', 'qar', 'qara', 'qarasi', 'qarayatin', 'qaraytain', 'qarbi', 'qardaha', 'qarein', 'qarrah', 'qaryat', 'qaryatain', 'qaryatayn', 'qaryateen', 'qasab', 'qasayeb', 'qaser', 'qasim', 'qasr', 'qassaa', 'qassab', 'qassem', 'qasser', 'qassiab', 'qassr', 'qastal', 'qatar', 'qatari', 'qaterji', 'qator', 'qatour', 'qatrji', 'qazi', 'qensrin', 'qhq', 'qibtan', 'qoraa', 'qosour', 'qousour', 'qrc', 'qrcss', 'qsaa', 'qsayaa', 'qualifi', 'quantiti', 'quarter', 'quaryatayn', 'qud', 'qudsaya', 'queen', 'quell', 'queri', 'quest', 'question', 'queu', 'quick', 'quickli', 'quiet', 'quit', 'quneitra', 'quot', 'quraysh', 'quria', 'quriyah', 'qurtuba', 'qusayr', 'qusor', 'qusour', 'qussour', 'qustul', 'qutaiba', 'quwayd', 'qweider', 'ra', 'rabet', 'rabia', 'radar', 'radic', 'radio', 'radiolog', 'radwan', 'rafaa', 'rafdan', 'raft', 'rage', 'rahbet', 'rahibeh', 'rahjan', 'rahmalia', 'rahmaliya', 'rahman', 'rahmoun', 'rahoum', 'rai', 'raid', 'rain', 'rais', 'raissa', 'rajab', 'rajm', 'raju', 'ralli', 'ralph', 'ramadan', 'ramadi', 'ramallah', 'rami', 'ramifi', 'ramlan', 'ramousa', 'ramousah', 'ramouseh', 'ramousiyeh', 'ramp', 'rampton', 'ramusa', 'ramussa', 'ran', 'random', 'rang', 'rania', 'raniah', 'rank', 'ranku', 'ranyah', 'rapid', 'rapidli', 'raqa', 'raqq', 'raqqa', 'raqqah', 'rare', 'rarer', 'rasafa', 'rasafeh', 'rasha', 'rashdiyeh', 'rashedin', 'rashideen', 'rashidin', 'rashidun', 'raslan', 'rasm', 'rassaf', 'rastan', 'ratain', 'rather', 'ratifi', 'ration', 'ravag', 'rawabi', 'rayan', 'raze', 'razi', 'rc', 'rdeisat', 're', 'reach', 'react', 'reaction', 'read', 'reader', 'readi', 'reaffirm', 'real', 'realiti', 'realiz', 'realli', 'rear', 'rearm', 'reason', 'reassign', 'reassur', 'rebaudengo', 'rebel', 'rebellion', 'rebrand', 'rebuild', 'recaptur', 'receiv', 'recent', 'recep', 'recipi', 'reciproc', 'reclaim', 'recogn', 'recognis', 'recognit', 'reconcil', 'reconcili', 'reconnaiss', 'reconsid', 'reconsider', 'record', 'recov', 'recoveri', 'recruit', 'red', 'reda', 'redeploy', 'redoubl', 'reduc', 'reduct', 'redur', 'reed', 'reel', 'reestablish', 'refer', 'referenc', 'referr', 'refin', 'refineri', 'reflect', 'reform', 'refug', 'refuge', 'refus', 'refut', 'regain', 'regan', 'regard', 'regardless', 'regim', 'regiment', 'region', 'regist', 'regress', 'regret', 'regrett', 'regroup', 'regul', 'regular', 'regularli', 'rehabilit', 'reid', 'rein', 'reinforc', 'reinvigor', 'reiter', 'reject', 'rekindl', 'rel', 'relat', 'relay', 'releas', 'relentless', 'relentlessli', 'relev', 'reli', 'reliabl', 'relief', 'reliev', 'religi', 'religion', 'reloc', 'reluct', 'remain', 'remaind', 'remark', 'rememb', 'remnant', 'remot', 'remov', 'render', 'renew', 'renounc', 'renown', 'reopen', 'repair', 'repeat', 'repeatedli', 'repel', 'repercuss', 'repetit', 'replenish', 'report', 'reportedli', 'reprehens', 'repres', 'repress', 'repris', 'republ', 'republican', 'request', 'requir', 'rescu', 'rescuer', 'research', 'resembl', 'reserv', 'reshap', 'reshdia', 'reshidiya', 'resid', 'residenti', 'resign', 'resist', 'resistor', 'resolut', 'resolv', 'resort', 'resourc', 'respect', 'respir', 'respiratori', 'respit', 'respond', 'respons', 'responsibilti', 'rest', 'restart', 'restaur', 'restlessli', 'restor', 'restrict', 'result', 'resum', 'resumpt', 'resurfac', 'retain', 'retak', 'retaken', 'retali', 'retaliatori', 'retard', 'rethink', 'retook', 'retract', 'retreat', 'retribut', 'retriev', 'return', 'reuter', 'reveal', 'reveng', 'revenu', 'rever', 'reverber', 'revers', 'review', 'revis', 'revitalis', 'reviv', 'revolt', 'revolut', 'revolutionari', 'revuls', 'reward', 'rex', 'rhode', 'ria', 'riad', 'riafagat', 'ribbon', 'rice', 'rich', 'richard', 'rid', 'rida', 'riddl', 'ride', 'ridha', 'ridicul', 'rif', 'rifaat', 'rifl', 'rift', 'rig', 'right', 'rigid', 'rigor', 'rim', 'ring', 'rip', 'rise', 'risen', 'risk', 'rityan', 'rival', 'riven', 'river', 'riversid', 'riyad', 'rizwan', 'rmeili', 'rmjl', 'road', 'roadsid', 'roar', 'robert', 'roberta', 'robin', 'roch', 'rock', 'rocket', 'rocketri', 'rodi', 'rojava', 'role', 'roll', 'rollout', 'roman', 'rome', 'ron', 'roof', 'room', 'root', 'rose', 'rossiya', 'rotat', 'roth', 'rotten', 'rough', 'roughli', 'round', 'roundabout', 'rouss', 'rout', 'routin', 'row', 'rpg', 'rpj', 'rt', 'rubbish', 'rubbl', 'rucksack', 'rudaw', 'rudimentari', 'rudskoi', 'rudskoy', 'rug', 'ruhail', 'ruin', 'ruken', 'rule', 'rumor', 'run', 'ruqayya', 'rural', 'rush', 'rushdiyeh', 'russh', 'russia', 'russian', 'russophob', 'russophobia', 'ruweiset', 'ruz', 'ryan', 'rycroft', 'sa', 'saa', 'saad', 'saadallah', 'saadeddin', 'saaid', 'saan', 'saba', 'sabaa', 'sabah', 'sabbaa', 'sabbagh', 'sabha', 'sabil', 'sabotag', 'sabqa', 'sabra', 'sabta', 'sabura', 'sack', 'sacrif', 'sacrific', 'sad', 'sada', 'sadcob', 'saddam', 'sadden', 'sadeq', 'sadr', 'saeed', 'saeqa', 'safe', 'safeeh', 'safer', 'safeti', 'safi', 'safih', 'safiyeh', 'safmcd', 'safrani', 'safronkov', 'safsafah', 'safsafeh', 'safu', 'safwan', 'safyiah', 'saghir', 'saghireh', 'sahel', 'sahil', 'sahl', 'sahrij', 'said', 'saif', 'saikoul', 'sajna', 'sajour', 'sake', 'sakher', 'sakhoor', 'sakhour', 'sakhr', 'sakhur', 'sakr', 'salafi', 'salah', 'salahaddin', 'salaheddin', 'salahin', 'salahuddin', 'salam', 'salama', 'salamiy', 'salamiyah', 'salamiyeh', 'salamyieh', 'salari', 'sale', 'saleh', 'salehia', 'salehiyeh', 'salem', 'salhin', 'salhiya', 'salih', 'salihiah', 'salihin', 'salihiya', 'saliko', 'salloum', 'salma', 'salman', 'salmo', 'salqeen', 'salqin', 'salsana', 'salvag', 'salvo', 'salyhiah', 'sam', 'samadaniyeh', 'samalil', 'samdania', 'same', 'sameer', 'sami', 'samin', 'samir', 'samira', 'samlin', 'sammaqiyeh', 'samn', 'sampl', 'samra', 'san', 'sana', 'sanabel', 'sanction', 'sanctuari', 'sandal', 'sanei', 'sapper', 'saqba', 'saqer', 'saraqeb', 'saraqib', 'sarc', 'sardaj', 'sarin', 'sarjeh', 'sarmada', 'sarmin', 'sarraf', 'sarrin', 'sat', 'satchel', 'satellit', 'saturday', 'saud', 'saudi', 'savag', 'savageri', 'savchenko', 'save', 'saver', 'saw', 'sawaiq', 'saxir', 'say', 'sayeda', 'sayedridha', 'sayi', 'sayyeda', 'sayyida', 'scale', 'scan', 'scarc', 'scare', 'scatter', 'scd', 'scene', 'sceptic', 'schedul', 'scheme', 'schiel', 'school', 'schoolbag', 'schoolchildren', 'scientif', 'scientist', 'scorch', 'score', 'scourg', 'scrambl', 'scrap', 'scrape', 'scream', 'scroll', 'sdf', 'sea', 'seal', 'sean', 'sear', 'search', 'seasid', 'season', 'seat', 'seck', 'second', 'secondari', 'secret', 'secretari', 'sect', 'sectarian', 'section', 'sector', 'secur', 'sednaya', 'see', 'seed', 'seek', 'seem', 'seemingli', 'seen', 'seibert', 'seif', 'seig', 'seiz', 'seizur', 'sekkari', 'self', 'sell', 'sellstrom', 'selmo', 'senat', 'send', 'senior', 'senowbarat', 'sens', 'sent', 'sentenc', 'sentiment', 'seoul', 'sep', 'separ', 'separatist', 'sept', 'septemb', 'sequenc', 'seraqeb', 'sergei', 'sergey', 'serghaya', 'seri', 'serial', 'serian', 'seriou', 'serious', 'serj', 'sermin', 'serv', 'servic', 'servicemen', 'session', 'set', 'setback', 'settl', 'settlement', 'seven', 'seventeen', 'seventh', 'seventi', 'sever', 'sevr', 'sexual', 'seyhmu', 'sezer', 'sfeira', 'shaafa', 'shaalan', 'shaam', 'shaar', 'shaara', 'shaata', 'shabab', 'shabaniy', 'shadadi', 'shaddadeh', 'shaddadi', 'shadi', 'shaer', 'shafah', 'shaft', 'shaghour', 'shahba', 'shaher', 'shahid', 'shahm', 'shahroura', 'shaikhoun', 'shairat', 'shaitat', 'shajara', 'shajul', 'shake', 'shaken', 'shaki', 'shal', 'shalaf', 'shall', 'sham', 'shamal', 'shamaliyeh', 'shame', 'shameless', 'shami', 'shamia', 'shamim', 'shamiram', 'shamiran', 'shamiya', 'shamiyya', 'shamiyyah', 'shape', 'share', 'sharhouli', 'sharia', 'sharif', 'sharifeh', 'sharkasi', 'sharpli', 'sharqi', 'sharqiya', 'sharshouh', 'sharshuh', 'shatter', 'shavakh', 'shaykhun', 'shaykun', 'shayrat', 'shaza', 'she', 'shear', 'shed', 'sheeh', 'sheep', 'sheer', 'sheet', 'shehwan', 'shehwaro', 'sheik', 'sheikh', 'sheikhoun', 'sheikhun', 'sheitaat', 'shekho', 'shelf', 'shell', 'shellfir', 'shelter', 'shemetov', 'sheraton', 'shi', 'shia', 'shield', 'shift', 'shigour', 'shihan', 'shiiit', 'shiit', 'shill', 'shimal', 'shindakhiyeh', 'ship', 'shipment', 'shirk', 'shirt', 'shirtless', 'shishani', 'shishi', 'shock', 'shoe', 'shoigu', 'sholah', 'shomarah', 'shook', 'shoot', 'shop', 'shopfront', 'shopper', 'shor', 'short', 'shortag', 'shortli', 'shot', 'should', 'shoulder', 'shouldnt', 'shouleh', 'shout', 'show', 'showboat', 'showcas', 'shower', 'shown', 'shrafiyeh', 'shrapnel', 'shrine', 'shroud', 'shrub', 'shrunk', 'shughour', 'shuhud', 'shumak', 'shurfa', 'shurfeh', 'shutdown', 'shutter', 'shuttl', 'shyah', 'sibai', 'sibl', 'sick', 'side', 'sidelin', 'sido', 'sieg', 'sifat', 'sigh', 'sight', 'sign', 'signal', 'signatur', 'signific', 'significantli', 'sigrid', 'siheybi', 'silenc', 'silent', 'sileybi', 'silo', 'silvia', 'similar', 'similarli', 'simpl', 'simpli', 'simultan', 'sin', 'sinaa', 'sinaah', 'sinc', 'sincer', 'sinceth', 'singl', 'sinjar', 'sink', 'sino', 'siouf', 'sister', 'sit', 'site', 'siteen', 'situat', 'six', 'sixteen', 'sixth', 'sixti', 'size', 'sizeabl', 'skeak', 'skeik', 'skeikhoun', 'skeptic', 'skill', 'sky', 'skylin', 'skype', 'skyrocket', 'slain', 'slam', 'slaughter', 'slave', 'slay', 'sleep', 'sleeper', 'sleibi', 'slept', 'slew', 'slice', 'slideshow', 'slight', 'slightli', 'slim', 'slip', 'slipper', 'slit', 'sln', 'slovenian', 'slow', 'slowli', 'slung', 'small', 'smaller', 'smallest', 'smart', 'smash', 'smear', 'smell', 'smoke', 'smuggl', 'smuggler', 'snake', 'snc', 'sneak', 'snhr', 'sniper', 'so', 'soar', 'soccer', 'sochi', 'social', 'socialist', 'societi', 'soft', 'soheil', 'sohr', 'soil', 'sold', 'soldier', 'sole', 'solidar', 'solomon', 'solut', 'solvang', 'some', 'someon', 'someth', 'sometim', 'somewhat', 'somewher', 'son', 'sonya', 'soon', 'sor', 'sorh', 'sort', 'sorti', 'sothern', 'souc', 'sought', 'soul', 'souleiman', 'sound', 'soup', 'souq', 'souran', 'sourc', 'south', 'southeast', 'southeastern', 'southern', 'southward', 'southwest', 'southwestern', 'sovereign', 'sovereignti', 'soviet', 'sow', 'space', 'spain', 'spam', 'spanish', 'spare', 'spark', 'spars', 'spasm', 'spate', 'spawn', 'speak', 'speaker', 'spearhead', 'special', 'specialis', 'specif', 'specifi', 'speckl', 'spectacular', 'spectrum', 'speech', 'speed', 'speedi', 'spell', 'spend', 'spent', 'spi', 'spicer', 'spike', 'spill', 'spillov', 'spin', 'spiral', 'spirit', 'spite', 'split', 'spoke', 'spoken', 'spokesman', 'spokesperson', 'spokeswoman', 'sponsor', 'sporad', 'sport', 'sportsmen', 'spot', 'sprawl', 'spread', 'spring', 'sprint', 'sprung', 'spur', 'sputnik', 'sqeilbiyeh', 'squar', 'squash', 'squeez', 'squirm', 'sraqb', 'srf', 'srgc', 'ssh', 'st', 'stabil', 'stabilis', 'stabl', 'stadium', 'staff', 'staffa', 'staffan', 'staffer', 'stage', 'stagger', 'stain', 'stake', 'stalem', 'stall', 'stamp', 'stanc', 'stand', 'standard', 'standardsdiscuss', 'standpoint', 'stapl', 'stare', 'stark', 'starkli', 'start', 'starv', 'starvat', 'state', 'statehood', 'statement', 'station', 'statist', 'statu', 'staunch', 'stave', 'stay', 'steadfast', 'steadi', 'steal', 'steffen', 'steif', 'steifo', 'steinitz', 'steinmeier', 'stem', 'stenin', 'step', 'stephan', 'stephani', 'stephen', 'steroid', 'steve', 'stick', 'stike', 'still', 'stock', 'stockholm', 'stocki', 'stockpil', 'stone', 'stonestreet', 'stood', 'stop', 'storag', 'store', 'storey', 'stori', 'storm', 'stove', 'straddl', 'straight', 'strain', 'strand', 'strang', 'strangl', 'strap', 'strateg', 'strategi', 'stratifi', 'stray', 'streak', 'stream', 'street', 'strength', 'strengthen', 'stress', 'stretch', 'stretcher', 'strewn', 'stricken', 'strict', 'strike', 'string', 'stringer', 'strip', 'stripe', 'strive', 'strong', 'stronger', 'strongest', 'stronghold', 'strongli', 'strongpoint', 'struck', 'structur', 'struggl', 'stuck', 'student', 'studi', 'stuf', 'stuff', 'stun', 'style', 'stymi', 'su', 'sub', 'subject', 'submit', 'subscrib', 'subsequ', 'substanc', 'suburb', 'succe', 'succeed', 'success', 'succumb', 'such', 'suck', 'sud', 'sudanes', 'suffer', 'suffici', 'suffoc', 'sugar', 'suggest', 'sughra', 'suhaib', 'suhairij', 'suicid', 'suit', 'sukari', 'sukhna', 'sukhnah', 'sukhoi', 'sukkari', 'sulaiman', 'sulaimaniah', 'sulaimaniyeh', 'sulaymaniyah', 'suleima', 'suleiman', 'sulemaniyeh', 'sulfur', 'sulimaniah', 'sulphur', 'sultan', 'sultana', 'suluk', 'sumaria', 'summari', 'summarili', 'summer', 'summit', 'summon', 'sun', 'sunday', 'sunlight', 'sunni', 'superpow', 'supervis', 'suppli', 'supplier', 'support', 'suppos', 'supposedli', 'suppress', 'suprem', 'supress', 'suran', 'sure', 'surfac', 'surg', 'surgeon', 'surgeri', 'surgic', 'suri', 'surpass', 'surpris', 'surrend', 'surround', 'suruc', 'surveil', 'survey', 'surviv', 'survivor', 'susan', 'suspect', 'suspend', 'suspens', 'suspici', 'suspicion', 'sustain', 'suv', 'suwaida', 'svt', 'swamp', 'swap', 'swath', 'sway', 'sweater', 'swedish', 'sweida', 'swell', 'swept', 'swift', 'swiftli', 'swindl', 'switzerland', 'sword', 'syaaf', 'syiran', 'sylvia', 'symbol', 'sympath', 'sympathis', 'symptom', 'symptomat', 'syndic', 'syredcresc', 'syria', 'syriacivildef', 'syriahr', 'syrian', 'system', 'systemat', 'tabab', 'tabaqa', 'tabaret', 'tabbaleh', 'tabl', 'tabler', 'tabqa', 'tabqah', 'tackl', 'tactic', 'tadamun', 'tadmor', 'tadmur', 'taduf', 'tag', 'taha', 'tahan', 'tahhan', 'tahrir', 'tahtani', 'taibet', 'taie', 'takalakh', 'take', 'taken', 'takfiri', 'takharim', 'tal', 'talaf', 'talal', 'talbeesah', 'talbisa', 'talbiseh', 'talbisseh', 'taldao', 'talent', 'talib', 'talila', 'talk', 'tall', 'tallet', 'taloul', 'tam', 'tamana', 'tamanaa', 'tamr', 'tandem', 'tank', 'tanker', 'tantamount', 'tap', 'taraweeh', 'tareeq', 'tarek', 'target', 'tarhrir', 'tarif', 'tariq', 'tarma', 'tarpaulin', 'tartou', 'tartu', 'task', 'taslih', 'tast', 'tat', 'tatbiqiya', 'tawil', 'tax', 'taxi', 'tay', 'tayba', 'taysir', 'tayyebet', 'tayyip', 'teacher', 'teacup', 'team', 'tear', 'technic', 'technician', 'teen', 'teenag', 'teh', 'tehran', 'teir', 'tel', 'telal', 'teldo', 'telecommun', 'telegram', 'telephon', 'televis', 'telifoun', 'tell', 'tellawi', 'temporari', 'temporarili', 'ten', 'tens', 'tension', 'tent', 'tenth', 'ter', 'term', 'terrain', 'terribl', 'terrifi', 'territori', 'terroirst', 'terror', 'terrori', 'terrorist', 'teshrin', 'test', 'tester', 'testifi', 'text', 'textil', 'th', 'thalthana', 'than', 'thank', 'tharda', 'that', 'thawra', 'thayabiya', 'the', 'theatr', 'theft', 'their', 'them', 'themselv', 'then', 'there', 'therefor', 'theresa', 'thermobar', 'these', 'they', 'theyr', 'thi', 'thick', 'thiev', 'thing', 'think', 'third', 'thirteen', 'thirti', 'thoma', 'thomson', 'thorough', 'those', 'though', 'thought', 'thousand', 'thread', 'threat', 'threaten', 'three', 'throat', 'throe', 'through', 'throughout', 'throw', 'thrown', 'thu', 'thursday', 'thwart', 'tiba', 'tibet', 'tibni', 'tick', 'tide', 'tie', 'tiger', 'tight', 'tighten', 'tigri', 'tijara', 'till', 'tillerson', 'time', 'timelin', 'timelinej', 'timothi', 'tini', 'tip', 'tirmu', 'tirtyah', 'tishreen', 'tishrin', 'tit', 'titl', 'tiya', 'tiyansan', 'tlajabin', 'tloul', 'tmpvr', 'to', 'today', 'toddler', 'togeth', 'tokhar', 'tokkhar', 'told', 'toler', 'toll', 'toloul', 'tom', 'tomahawk', 'tomato', 'tomb', 'tomorrow', 'ton', 'tone', 'toner', 'toni', 'tonight', 'tonn', 'too', 'took', 'top', 'topaca', 'topic', 'toppl', 'torch', 'tore', 'torkman', 'torn', 'tortur', 'toss', 'total', 'touch', 'tough', 'toughan', 'tougher', 'touma', 'touman', 'tour', 'tourism', 'tourist', 'touseeiyah', 'tout', 'tow', 'toward', 'town', 'townsend', 'township', 'townspeopl', 'toxic', 'toxin', 'tqh', 'track', 'tractor', 'trade', 'tradit', 'traffic', 'traffick', 'tragedi', 'tragic', 'trailer', 'train', 'trainer', 'transfer', 'transform', 'transit', 'translat', 'transpar', 'transpir', 'transport', 'trap', 'trash', 'trauma', 'travel', 'trax', 'treacher', 'treat', 'treati', 'treatment', 'tree', 'trembl', 'trench', 'trend', 'trevelyan', 'tri', 'trial', 'triangl', 'tribal', 'tribe', 'tribesman', 'tribesmen', 'trickeri', 'trigger', 'trip', 'tripartit', 'tripl', 'triumph', 'troop', 'trooper', 'troubl', 'trouser', 'trt', 'trtworld', 'truce', 'truck', 'trudg', 'true', 'truli', 'trump', 'trust', 'truth', 'tsk', 'tu', 'tube', 'tue', 'tuesday', 'tukhar', 'tulabieh', 'tuloul', 'tuman', 'tunisia', 'tunisian', 'tunnel', 'tupolev', 'turab', 'turk', 'turkey', 'turkish', 'turkishsyrian', 'turkman', 'turkmen', 'turmanin', 'turmoil', 'turn', 'tv', 'tweet', 'twelv', 'twenti', 'twice', 'twin', 'twist', 'twitter', 'twlol', 'two', 'twofold', 'twombl', 'type', 'typic', 'tyre', 'uae', 'ubaidah', 'ue', 'uefa', 'ugli', 'ugliest', 'uk', 'ukrain', 'ulbawi', 'ule', 'ultim', 'ultimatum', 'ultra', 'ultraconserv', 'um', 'umayyad', 'umbrella', 'umirt', 'umm', 'ummal', 'un', 'unab', 'unabl', 'unaccept', 'unaccount', 'unansw', 'unarm', 'unbridl', 'unchang', 'unclear', 'uncommon', 'uncompromis', 'unconfirm', 'unconvent', 'uncov', 'undecid', 'undeclar', 'undeliv', 'under', 'underground', 'underlin', 'undermin', 'underneath', 'underscor', 'understand', 'understood', 'undertak', 'undertaken', 'underw', 'underway', 'underwear', 'underweight', 'undisclos', 'undoubtedli', 'unearth', 'uneas', 'uneasi', 'unemploy', 'unenforc', 'unequivoc', 'unesco', 'unexpect', 'unexplod', 'unfett', 'unfold', 'unfortun', 'unfound', 'unguid', 'unhind', 'uni', 'unicef', 'unidentifi', 'unifi', 'uniform', 'unilater', 'unimped', 'uninhabit', 'unintent', 'union', 'unit', 'uniti', 'univers', 'unjustifi', 'unknown', 'unleas', 'unleash', 'unless', 'unlik', 'unload', 'unmerci', 'unnam', 'unpopul', 'unpopular', 'unpreced', 'unpunish', 'unq', 'unravel', 'unrespons', 'unrest', 'unrestrict', 'unsanitari', 'unsc', 'unscath', 'unscr', 'unseat', 'unsg', 'unspecifi', 'unstabl', 'unsuccess', 'unsuit', 'unthink', 'until', 'untru', 'unusu', 'unverifi', 'unwil', 'uossm', 'up', 'upcom', 'updat', 'uphold', 'upload', 'upon', 'upper', 'upris', 'uproar', 'uproot', 'upsurg', 'uptick', 'upward', 'urban', 'urem', 'urg', 'urgenc', 'urgent', 'urin', 'url', 'urm', 'urom', 'urum', 'us', 'usa', 'use', 'usual', 'utc', 'uthman', 'util', 'utmost', 'uzbek', 'uzbekistan', 'uzi', 'uzumcu', 'vacuum', 'vagu', 'vain', 'valdai', 'valeri', 'vallaud', 'valley', 'valu', 'valuabl', 'van', 'vari', 'variou', 'vasik', 'vast', 'vbi', 'vector', 'veg', 'veget', 'vehicl', 'vellucci', 'vendor', 'vener', 'veng', 'ventur', 'venu', 'verac', 'veri', 'verif', 'verifi', 'versa', 'version', 'vest', 'vet', 'veteran', 'veto', 'via', 'viabl', 'viaduct', 'vial', 'vice', 'vicin', 'viciou', 'vicki', 'victim', 'victori', 'video', 'view', 'vii', 'villag', 'villat', 'villg', 'vinocur', 'vinogradov', 'violat', 'violenc', 'violent', 'viral', 'virgin', 'virtual', 'visibl', 'vision', 'visit', 'visitor', 'vital', 'vitali', 'vitamin', 'vladimir', 'vocal', 'voic', 'volatil', 'volley', 'volum', 'volunt', 'voluntari', 'vomit', 'voskresenskiy', 'vote', 'votel', 'vow', 'vtb', 'vulner', 'vx', 'wa', 'waar', 'wadi', 'wadoud', 'wael', 'waer', 'wafideen', 'wage', 'wahab', 'wail', 'wait', 'wake', 'walaat', 'walid', 'walk', 'wall', 'walsh', 'walter', 'want', 'war', 'ward', 'warehous', 'warfar', 'warhead', 'wari', 'warn', 'warplan', 'warrant', 'warship', 'wascauti', 'wash', 'washington', 'wasnt', 'wata', 'watan', 'watch', 'watchdog', 'water', 'waterman', 'waterwheel', 'wave', 'way', 'waypoint', 'wd', 'we', 'weak', 'weaken', 'weaker', 'weapon', 'weaponri', 'wear', 'weari', 'weather', 'web', 'websit', 'wed', 'wednesday', 'weed', 'week', 'weekend', 'weekli', 'weigh', 'weight', 'weitz', 'welcom', 'well', 'welsh', 'went', 'were', 'werent', 'west', 'westal', 'western', 'weve', 'wfp', 'what', 'whatsoev', 'wheat', 'wheel', 'wheez', 'when', 'whenev', 'where', 'whereabout', 'wherev', 'whether', 'whi', 'which', 'while', 'whilst', 'white', 'whitfield', 'who', 'whoever', 'whole', 'wholli', 'whom', 'whose', 'wide', 'widen', 'wider', 'widespread', 'widest', 'wield', 'wife', 'wil', 'wilayat', 'will', 'willard', 'william', 'willing', 'wilson', 'win', 'window', 'winfield', 'wing', 'winter', 'wipe', 'wird', 'wireless', 'wish', 'wit', 'with', 'withdraw', 'withdrawn', 'withdrew', 'withhold', 'within', 'without', 'withstand', 'wive', 'woke', 'woman', 'women', 'won', 'wont', 'wooden', 'woolli', 'word', 'work', 'worker', 'workshop', 'world', 'worldwid', 'worn', 'worri', 'wors', 'worsen', 'worship', 'worshipp', 'worst', 'worth', 'would', 'wouldnt', 'wound', 'wpeubbn', 'wrack', 'wrap', 'wrath', 'wreak', 'wreck', 'wrest', 'wriggl', 'write', 'writer', 'wrong', 'wrote', 'www', 'xa', 'xelil', 'xfhirtf', 'xinjiang', 'xzgkumiym', 'yaacoub', 'yaalon', 'yaarab', 'yabrud', 'yackley', 'yacoub', 'yacoubiyeh', 'yadouda', 'yahya', 'yard', 'yarmouk', 'yarmuk', 'yaseen', 'yasser', 'yassin', 'yazan', 'yazeynab', 'yazidi', 'yc', 'year', 'yekaterinburg', 'yellow', 'yemen', 'yesterday', 'yet', 'yevgeni', 'yh', 'yield', 'yildirim', 'yip', 'yoghurt', 'york', 'you', 'youkhana', 'young', 'younger', 'youngest', 'your', 'yousef', 'youssef', 'youth', 'youtub', 'youtubejustinforthetruth', 'ypg', 'ypgpyd', 'yusef', 'yusuf', 'yuval', 'yzw', 'zaalaneh', 'zaara', 'zaaroura', 'zaatari', 'zabad', 'zabadani', 'zabadieh', 'zabat', 'zablatani', 'zafarana', 'zahab', 'zaharaa', 'zaharra', 'zahira', 'zahra', 'zahraa', 'zahran', 'zahreddin', 'zaid', 'zaidiyeh', 'zaifa', 'zaim', 'zain', 'zainab', 'zakaria', 'zakat', 'zakharova', 'zakia', 'zakiyeh', 'zako', 'zamalka', 'zamrani', 'zanki', 'zara', 'zaradesht', 'zarbeh', 'zarif', 'zaytan', 'zealand', 'zebdin', 'zeid', 'zein', 'zeinab', 'zeita', 'zeitan', 'zeitung', 'zemrin', 'ziad', 'zinki', 'zir', 'zita', 'ziyada', 'ziyadiyah', 'zj', 'zoabi', 'zobdani', 'zobdin', 'zone', 'zor', 'zoubi', 'zouhir', 'zour', 'zqaq', 'zubair', 'zubdiya', 'zucchini', 'zuhur', 'zw', 'zzor']\n"
     ]
    }
   ],
   "source": [
    "words = vectorizer.get_feature_names()\n",
    "print(words)\n"
   ]
  },
  {
   "cell_type": "code",
   "execution_count": 146,
   "metadata": {},
   "outputs": [],
   "source": [
    "from sklearn.linear_model import LogisticRegression\n",
    "from sklearn.model_selection import train_test_split\n",
    "from sklearn.metrics import f1_score\n",
    "from sklearn.feature_extraction.text import CountVectorizer\n",
    "from sklearn.naive_bayes import MultinomialNB\n",
    "from sklearn.metrics import roc_auc_score"
   ]
  },
  {
   "cell_type": "code",
   "execution_count": 147,
   "metadata": {},
   "outputs": [
    {
     "ename": "ValueError",
     "evalue": "Found input variables with inconsistent numbers of samples: [804, 562]",
     "output_type": "error",
     "traceback": [
      "\u001b[0;31m---------------------------------------------------------------------------\u001b[0m",
      "\u001b[0;31mValueError\u001b[0m                                Traceback (most recent call last)",
      "\u001b[0;32m<ipython-input-147-0f35c59bd895>\u001b[0m in \u001b[0;36m<module>\u001b[0;34m\u001b[0m\n\u001b[1;32m     14\u001b[0m \u001b[0mX_train_vectorized\u001b[0m \u001b[0;34m=\u001b[0m \u001b[0mvect\u001b[0m\u001b[0;34m.\u001b[0m\u001b[0mtransform\u001b[0m\u001b[0;34m(\u001b[0m\u001b[0mX_train\u001b[0m\u001b[0;34m)\u001b[0m\u001b[0;34m\u001b[0m\u001b[0;34m\u001b[0m\u001b[0m\n\u001b[1;32m     15\u001b[0m \u001b[0mclfrNB\u001b[0m \u001b[0;34m=\u001b[0m \u001b[0mMultinomialNB\u001b[0m\u001b[0;34m(\u001b[0m\u001b[0malpha\u001b[0m \u001b[0;34m=\u001b[0m \u001b[0;36m0.1\u001b[0m\u001b[0;34m)\u001b[0m\u001b[0;34m\u001b[0m\u001b[0;34m\u001b[0m\u001b[0m\n\u001b[0;32m---> 16\u001b[0;31m \u001b[0mclfrNB\u001b[0m\u001b[0;34m.\u001b[0m\u001b[0mfit\u001b[0m\u001b[0;34m(\u001b[0m\u001b[0mtrain_data_features\u001b[0m\u001b[0;34m,\u001b[0m \u001b[0my_train\u001b[0m\u001b[0;34m)\u001b[0m\u001b[0;34m\u001b[0m\u001b[0;34m\u001b[0m\u001b[0m\n\u001b[0m\u001b[1;32m     17\u001b[0m \u001b[0mpreds\u001b[0m \u001b[0;34m=\u001b[0m \u001b[0mclfrNB\u001b[0m\u001b[0;34m.\u001b[0m\u001b[0mpredict\u001b[0m\u001b[0;34m(\u001b[0m\u001b[0mvect\u001b[0m\u001b[0;34m.\u001b[0m\u001b[0mtransform\u001b[0m\u001b[0;34m(\u001b[0m\u001b[0mX_test\u001b[0m\u001b[0;34m)\u001b[0m\u001b[0;34m)\u001b[0m\u001b[0;34m\u001b[0m\u001b[0;34m\u001b[0m\u001b[0m\n\u001b[1;32m     18\u001b[0m \u001b[0mscore\u001b[0m \u001b[0;34m=\u001b[0m \u001b[0mroc_auc_score\u001b[0m\u001b[0;34m(\u001b[0m\u001b[0my_test\u001b[0m\u001b[0;34m,\u001b[0m \u001b[0mpreds\u001b[0m\u001b[0;34m)\u001b[0m\u001b[0;34m\u001b[0m\u001b[0;34m\u001b[0m\u001b[0m\n",
      "\u001b[0;32m~/anaconda3/lib/python3.7/site-packages/sklearn/naive_bayes.py\u001b[0m in \u001b[0;36mfit\u001b[0;34m(self, X, y, sample_weight)\u001b[0m\n\u001b[1;32m    586\u001b[0m         \u001b[0mself\u001b[0m \u001b[0;34m:\u001b[0m \u001b[0mobject\u001b[0m\u001b[0;34m\u001b[0m\u001b[0;34m\u001b[0m\u001b[0m\n\u001b[1;32m    587\u001b[0m         \"\"\"\n\u001b[0;32m--> 588\u001b[0;31m         \u001b[0mX\u001b[0m\u001b[0;34m,\u001b[0m \u001b[0my\u001b[0m \u001b[0;34m=\u001b[0m \u001b[0mcheck_X_y\u001b[0m\u001b[0;34m(\u001b[0m\u001b[0mX\u001b[0m\u001b[0;34m,\u001b[0m \u001b[0my\u001b[0m\u001b[0;34m,\u001b[0m \u001b[0;34m'csr'\u001b[0m\u001b[0;34m)\u001b[0m\u001b[0;34m\u001b[0m\u001b[0;34m\u001b[0m\u001b[0m\n\u001b[0m\u001b[1;32m    589\u001b[0m         \u001b[0m_\u001b[0m\u001b[0;34m,\u001b[0m \u001b[0mn_features\u001b[0m \u001b[0;34m=\u001b[0m \u001b[0mX\u001b[0m\u001b[0;34m.\u001b[0m\u001b[0mshape\u001b[0m\u001b[0;34m\u001b[0m\u001b[0;34m\u001b[0m\u001b[0m\n\u001b[1;32m    590\u001b[0m \u001b[0;34m\u001b[0m\u001b[0m\n",
      "\u001b[0;32m~/anaconda3/lib/python3.7/site-packages/sklearn/utils/validation.py\u001b[0m in \u001b[0;36mcheck_X_y\u001b[0;34m(X, y, accept_sparse, accept_large_sparse, dtype, order, copy, force_all_finite, ensure_2d, allow_nd, multi_output, ensure_min_samples, ensure_min_features, y_numeric, warn_on_dtype, estimator)\u001b[0m\n\u001b[1;32m    727\u001b[0m         \u001b[0my\u001b[0m \u001b[0;34m=\u001b[0m \u001b[0my\u001b[0m\u001b[0;34m.\u001b[0m\u001b[0mastype\u001b[0m\u001b[0;34m(\u001b[0m\u001b[0mnp\u001b[0m\u001b[0;34m.\u001b[0m\u001b[0mfloat64\u001b[0m\u001b[0;34m)\u001b[0m\u001b[0;34m\u001b[0m\u001b[0;34m\u001b[0m\u001b[0m\n\u001b[1;32m    728\u001b[0m \u001b[0;34m\u001b[0m\u001b[0m\n\u001b[0;32m--> 729\u001b[0;31m     \u001b[0mcheck_consistent_length\u001b[0m\u001b[0;34m(\u001b[0m\u001b[0mX\u001b[0m\u001b[0;34m,\u001b[0m \u001b[0my\u001b[0m\u001b[0;34m)\u001b[0m\u001b[0;34m\u001b[0m\u001b[0;34m\u001b[0m\u001b[0m\n\u001b[0m\u001b[1;32m    730\u001b[0m \u001b[0;34m\u001b[0m\u001b[0m\n\u001b[1;32m    731\u001b[0m     \u001b[0;32mreturn\u001b[0m \u001b[0mX\u001b[0m\u001b[0;34m,\u001b[0m \u001b[0my\u001b[0m\u001b[0;34m\u001b[0m\u001b[0;34m\u001b[0m\u001b[0m\n",
      "\u001b[0;32m~/anaconda3/lib/python3.7/site-packages/sklearn/utils/validation.py\u001b[0m in \u001b[0;36mcheck_consistent_length\u001b[0;34m(*arrays)\u001b[0m\n\u001b[1;32m    203\u001b[0m     \u001b[0;32mif\u001b[0m \u001b[0mlen\u001b[0m\u001b[0;34m(\u001b[0m\u001b[0muniques\u001b[0m\u001b[0;34m)\u001b[0m \u001b[0;34m>\u001b[0m \u001b[0;36m1\u001b[0m\u001b[0;34m:\u001b[0m\u001b[0;34m\u001b[0m\u001b[0;34m\u001b[0m\u001b[0m\n\u001b[1;32m    204\u001b[0m         raise ValueError(\"Found input variables with inconsistent numbers of\"\n\u001b[0;32m--> 205\u001b[0;31m                          \" samples: %r\" % [int(l) for l in lengths])\n\u001b[0m\u001b[1;32m    206\u001b[0m \u001b[0;34m\u001b[0m\u001b[0m\n\u001b[1;32m    207\u001b[0m \u001b[0;34m\u001b[0m\u001b[0m\n",
      "\u001b[0;31mValueError\u001b[0m: Found input variables with inconsistent numbers of samples: [804, 562]"
     ]
    }
   ],
   "source": [
    "#train_bow = bow[:804,:]\n",
    "#test_bow = bow[600:,:]\n",
    "X = df['review_cleaned']\n",
    "y = df['labels']\n",
    "X_train, X_test, y_train, y_test = train_test_split(X, y, test_size=0.3, random_state=0, stratify=y)\n",
    "\n",
    "# splitting data into training and validation set\n",
    "#xtrain_bow, xvalid_bow, ytrain, yvalid = train_test_split(df['text'],df['label'],  \n",
    "    #                                                      random_state=42, \n",
    "     #                                                     test_size=0.3)\n",
    "\n",
    "vect = CountVectorizer().fit(X_train)\n",
    "#X_train_vectorized = vect.transform(X_train)\n",
    "X_train_vectorized = vect.transform(X_train)\n",
    "clfrNB = MultinomialNB(alpha = 0.1)\n",
    "clfrNB.fit(train_data_features, y_train)\n",
    "preds = clfrNB.predict(vect.transform(X_test))\n",
    "score = roc_auc_score(y_test, preds)\n",
    "print(score)"
   ]
  },
  {
   "cell_type": "code",
   "execution_count": null,
   "metadata": {},
   "outputs": [],
   "source": []
  }
 ],
 "metadata": {
  "kernelspec": {
   "display_name": "Python 3",
   "language": "python",
   "name": "python3"
  },
  "language_info": {
   "codemirror_mode": {
    "name": "ipython",
    "version": 3
   },
   "file_extension": ".py",
   "mimetype": "text/x-python",
   "name": "python",
   "nbconvert_exporter": "python",
   "pygments_lexer": "ipython3",
   "version": "3.7.4"
  }
 },
 "nbformat": 4,
 "nbformat_minor": 2
}
