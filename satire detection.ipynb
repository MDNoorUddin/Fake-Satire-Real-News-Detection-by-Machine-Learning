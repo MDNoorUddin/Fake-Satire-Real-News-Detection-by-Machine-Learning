{
 "cells": [
  {
   "cell_type": "markdown",
   "metadata": {},
   "source": [
    "# import libraries"
   ]
  },
  {
   "cell_type": "code",
   "execution_count": 2,
   "metadata": {},
   "outputs": [],
   "source": [
    "import pandas as pd\n",
    "import numpy as np"
   ]
  },
  {
   "cell_type": "markdown",
   "metadata": {},
   "source": [
    "# reading dataset"
   ]
  },
  {
   "cell_type": "code",
   "execution_count": 3,
   "metadata": {
    "scrolled": true
   },
   "outputs": [],
   "source": [
    "df=pd.read_csv('sports.csv',usecols = ['text'])\n",
    "#df.head()\n",
    "#a=pd.read_csv('celebfake.csv',usecols = ['text'])\n",
    "#b=pd.read_csv('celebreal.csv',usecols = ['text'])\n",
    "#c=pd.read_csv('REALAmt.csv',usecols = ['text'])\n",
    "#d=pd.read_csv('fakeAmt.csv',usecols = ['text'])\n",
    "#A=pd.concat([a, c], ignore_index=True)\n",
    "#B=pd.concat([b, d], ignore_index=True)\n",
    "#A['label']=0\n",
    "#B['label']=1\n",
    "#A.head()"
   ]
  },
  {
   "cell_type": "markdown",
   "metadata": {},
   "source": [
    "# gave a column to all article"
   ]
  },
  {
   "cell_type": "code",
   "execution_count": 4,
   "metadata": {
    "scrolled": true
   },
   "outputs": [
    {
     "data": {
      "text/plain": [
       "589"
      ]
     },
     "execution_count": 4,
     "metadata": {},
     "output_type": "execute_result"
    }
   ],
   "source": [
    "df['labels']=2\n",
    "len(df)"
   ]
  },
  {
   "cell_type": "code",
   "execution_count": 5,
   "metadata": {
    "scrolled": true
   },
   "outputs": [
    {
     "data": {
      "text/plain": [
       "518"
      ]
     },
     "execution_count": 5,
     "metadata": {},
     "output_type": "execute_result"
    }
   ],
   "source": [
    "df1=pd.read_csv('final.csv',usecols = ['text'])\n",
    "len(df1)"
   ]
  },
  {
   "cell_type": "code",
   "execution_count": 6,
   "metadata": {},
   "outputs": [
    {
     "data": {
      "text/html": [
       "<div>\n",
       "<style scoped>\n",
       "    .dataframe tbody tr th:only-of-type {\n",
       "        vertical-align: middle;\n",
       "    }\n",
       "\n",
       "    .dataframe tbody tr th {\n",
       "        vertical-align: top;\n",
       "    }\n",
       "\n",
       "    .dataframe thead th {\n",
       "        text-align: right;\n",
       "    }\n",
       "</style>\n",
       "<table border=\"1\" class=\"dataframe\">\n",
       "  <thead>\n",
       "    <tr style=\"text-align: right;\">\n",
       "      <th></th>\n",
       "      <th>text</th>\n",
       "      <th>labels</th>\n",
       "    </tr>\n",
       "  </thead>\n",
       "  <tbody>\n",
       "    <tr>\n",
       "      <td>0</td>\n",
       "      <td>World leaders have refused to condemn Iran aft...</td>\n",
       "      <td>2</td>\n",
       "    </tr>\n",
       "    <tr>\n",
       "      <td>1</td>\n",
       "      <td>Supposedly passed away on January 21,1950, thi...</td>\n",
       "      <td>2</td>\n",
       "    </tr>\n",
       "    <tr>\n",
       "      <td>2</td>\n",
       "      <td>Yesterday, opposition leader Juan Guaido attem...</td>\n",
       "      <td>2</td>\n",
       "    </tr>\n",
       "    <tr>\n",
       "      <td>3</td>\n",
       "      <td>A military drone today took out several rooms ...</td>\n",
       "      <td>2</td>\n",
       "    </tr>\n",
       "    <tr>\n",
       "      <td>4</td>\n",
       "      <td>\\nMajor news organizations such as Reuters are...</td>\n",
       "      <td>2</td>\n",
       "    </tr>\n",
       "    <tr>\n",
       "      <td>...</td>\n",
       "      <td>...</td>\n",
       "      <td>...</td>\n",
       "    </tr>\n",
       "    <tr>\n",
       "      <td>513</td>\n",
       "      <td>Amazed by the archeological treasure trove he ...</td>\n",
       "      <td>2</td>\n",
       "    </tr>\n",
       "    <tr>\n",
       "      <td>514</td>\n",
       "      <td>Proving herself to be high maintenance and unt...</td>\n",
       "      <td>2</td>\n",
       "    </tr>\n",
       "    <tr>\n",
       "      <td>515</td>\n",
       "      <td>Reveling at the opportunity to respond to an o...</td>\n",
       "      <td>2</td>\n",
       "    </tr>\n",
       "    <tr>\n",
       "      <td>516</td>\n",
       "      <td>Disappointed at the outcome of the event she’d...</td>\n",
       "      <td>2</td>\n",
       "    </tr>\n",
       "    <tr>\n",
       "      <td>517</td>\n",
       "      <td>Upon learning lifestyle company Goop had settl...</td>\n",
       "      <td>2</td>\n",
       "    </tr>\n",
       "  </tbody>\n",
       "</table>\n",
       "<p>518 rows × 2 columns</p>\n",
       "</div>"
      ],
      "text/plain": [
       "                                                  text  labels\n",
       "0    World leaders have refused to condemn Iran aft...       2\n",
       "1    Supposedly passed away on January 21,1950, thi...       2\n",
       "2    Yesterday, opposition leader Juan Guaido attem...       2\n",
       "3    A military drone today took out several rooms ...       2\n",
       "4    \\nMajor news organizations such as Reuters are...       2\n",
       "..                                                 ...     ...\n",
       "513  Amazed by the archeological treasure trove he ...       2\n",
       "514  Proving herself to be high maintenance and unt...       2\n",
       "515  Reveling at the opportunity to respond to an o...       2\n",
       "516  Disappointed at the outcome of the event she’d...       2\n",
       "517  Upon learning lifestyle company Goop had settl...       2\n",
       "\n",
       "[518 rows x 2 columns]"
      ]
     },
     "execution_count": 6,
     "metadata": {},
     "output_type": "execute_result"
    }
   ],
   "source": [
    "df1['labels']=2\n",
    "df1"
   ]
  },
  {
   "cell_type": "markdown",
   "metadata": {},
   "source": [
    "# adding datasets"
   ]
  },
  {
   "cell_type": "code",
   "execution_count": 7,
   "metadata": {},
   "outputs": [
    {
     "data": {
      "text/plain": [
       "1107"
      ]
     },
     "execution_count": 7,
     "metadata": {},
     "output_type": "execute_result"
    }
   ],
   "source": [
    "f= pd.concat([df, df1], ignore_index=True)\n",
    "#E= pd.concat([F, A], ignore_index=True)\n",
    "#f= pd.concat([E, B], ignore_index=True)\n",
    "len(f)"
   ]
  },
  {
   "cell_type": "code",
   "execution_count": 8,
   "metadata": {},
   "outputs": [
    {
     "data": {
      "text/html": [
       "<div>\n",
       "<style scoped>\n",
       "    .dataframe tbody tr th:only-of-type {\n",
       "        vertical-align: middle;\n",
       "    }\n",
       "\n",
       "    .dataframe tbody tr th {\n",
       "        vertical-align: top;\n",
       "    }\n",
       "\n",
       "    .dataframe thead th {\n",
       "        text-align: right;\n",
       "    }\n",
       "</style>\n",
       "<table border=\"1\" class=\"dataframe\">\n",
       "  <thead>\n",
       "    <tr style=\"text-align: right;\">\n",
       "      <th></th>\n",
       "      <th>text</th>\n",
       "      <th>labels</th>\n",
       "    </tr>\n",
       "  </thead>\n",
       "  <tbody>\n",
       "    <tr>\n",
       "      <td>0</td>\n",
       "      <td>BUFFALO—Bragging about his own hardcore dedica...</td>\n",
       "      <td>2</td>\n",
       "    </tr>\n",
       "    <tr>\n",
       "      <td>1</td>\n",
       "      <td>WASHINGTON—Describing the French Canadian muni...</td>\n",
       "      <td>2</td>\n",
       "    </tr>\n",
       "    <tr>\n",
       "      <td>2</td>\n",
       "      <td>DALLAS—Emphasizing his desire to take the appe...</td>\n",
       "      <td>2</td>\n",
       "    </tr>\n",
       "    <tr>\n",
       "      <td>3</td>\n",
       "      <td>NEW ORLEANS—Delivering the news that he will o...</td>\n",
       "      <td>2</td>\n",
       "    </tr>\n",
       "    <tr>\n",
       "      <td>4</td>\n",
       "      <td>CHICAGO—Wearing a Tom Waddle jersey and armed ...</td>\n",
       "      <td>2</td>\n",
       "    </tr>\n",
       "  </tbody>\n",
       "</table>\n",
       "</div>"
      ],
      "text/plain": [
       "                                                text  labels\n",
       "0  BUFFALO—Bragging about his own hardcore dedica...       2\n",
       "1  WASHINGTON—Describing the French Canadian muni...       2\n",
       "2  DALLAS—Emphasizing his desire to take the appe...       2\n",
       "3  NEW ORLEANS—Delivering the news that he will o...       2\n",
       "4  CHICAGO—Wearing a Tom Waddle jersey and armed ...       2"
      ]
     },
     "execution_count": 8,
     "metadata": {},
     "output_type": "execute_result"
    }
   ],
   "source": [
    "f.head()"
   ]
  },
  {
   "cell_type": "code",
   "execution_count": 9,
   "metadata": {},
   "outputs": [
    {
     "data": {
      "text/html": [
       "<div>\n",
       "<style scoped>\n",
       "    .dataframe tbody tr th:only-of-type {\n",
       "        vertical-align: middle;\n",
       "    }\n",
       "\n",
       "    .dataframe tbody tr th {\n",
       "        vertical-align: top;\n",
       "    }\n",
       "\n",
       "    .dataframe thead th {\n",
       "        text-align: right;\n",
       "    }\n",
       "</style>\n",
       "<table border=\"1\" class=\"dataframe\">\n",
       "  <thead>\n",
       "    <tr style=\"text-align: right;\">\n",
       "      <th></th>\n",
       "      <th>text</th>\n",
       "      <th>labels</th>\n",
       "    </tr>\n",
       "  </thead>\n",
       "  <tbody>\n",
       "    <tr>\n",
       "      <td>0</td>\n",
       "      <td>Wed 05 Apr 2017 Syria attack symptoms consiste...</td>\n",
       "      <td>0</td>\n",
       "    </tr>\n",
       "    <tr>\n",
       "      <td>1</td>\n",
       "      <td>Fri 07 Apr 2017 at 0914 Homs governor says U.S...</td>\n",
       "      <td>0</td>\n",
       "    </tr>\n",
       "    <tr>\n",
       "      <td>2</td>\n",
       "      <td>Sun 16 Apr 2017 Death toll from Aleppo bomb at...</td>\n",
       "      <td>0</td>\n",
       "    </tr>\n",
       "    <tr>\n",
       "      <td>3</td>\n",
       "      <td>Wed 19 Apr 2017 Aleppo bomb blast kills six Sy...</td>\n",
       "      <td>0</td>\n",
       "    </tr>\n",
       "    <tr>\n",
       "      <td>4</td>\n",
       "      <td>Sun 10 Jul 2016 29 Syria Rebels Dead in Fighti...</td>\n",
       "      <td>0</td>\n",
       "    </tr>\n",
       "  </tbody>\n",
       "</table>\n",
       "</div>"
      ],
      "text/plain": [
       "                                                text  labels\n",
       "0  Wed 05 Apr 2017 Syria attack symptoms consiste...       0\n",
       "1  Fri 07 Apr 2017 at 0914 Homs governor says U.S...       0\n",
       "2  Sun 16 Apr 2017 Death toll from Aleppo bomb at...       0\n",
       "3  Wed 19 Apr 2017 Aleppo bomb blast kills six Sy...       0\n",
       "4  Sun 10 Jul 2016 29 Syria Rebels Dead in Fighti...       0"
      ]
     },
     "execution_count": 9,
     "metadata": {},
     "output_type": "execute_result"
    }
   ],
   "source": [
    "df2=pd.read_csv('political.csv', header=None)\n",
    "df2.rename(columns={0: 'text'}, inplace=True)\n",
    "#df2.head()\n",
    "war=pd.read_csv('war.csv',  encoding='latin_1',usecols = ['article_content','labels'])\n",
    "war.rename(columns={'article_content': 'text'}, inplace=True)\n",
    "war.head()"
   ]
  },
  {
   "cell_type": "code",
   "execution_count": 10,
   "metadata": {},
   "outputs": [
    {
     "data": {
      "text/html": [
       "<div>\n",
       "<style scoped>\n",
       "    .dataframe tbody tr th:only-of-type {\n",
       "        vertical-align: middle;\n",
       "    }\n",
       "\n",
       "    .dataframe tbody tr th {\n",
       "        vertical-align: top;\n",
       "    }\n",
       "\n",
       "    .dataframe thead th {\n",
       "        text-align: right;\n",
       "    }\n",
       "</style>\n",
       "<table border=\"1\" class=\"dataframe\">\n",
       "  <thead>\n",
       "    <tr style=\"text-align: right;\">\n",
       "      <th></th>\n",
       "      <th>text</th>\n",
       "      <th>labels</th>\n",
       "    </tr>\n",
       "  </thead>\n",
       "  <tbody>\n",
       "    <tr>\n",
       "      <td>0</td>\n",
       "      <td>Monitoring polls and news coverage of the upco...</td>\n",
       "      <td>2</td>\n",
       "    </tr>\n",
       "    <tr>\n",
       "      <td>1</td>\n",
       "      <td>In response to criticism that its threshold fo...</td>\n",
       "      <td>2</td>\n",
       "    </tr>\n",
       "    <tr>\n",
       "      <td>2</td>\n",
       "      <td>In response to the presidential candidate’s cr...</td>\n",
       "      <td>2</td>\n",
       "    </tr>\n",
       "    <tr>\n",
       "      <td>3</td>\n",
       "      <td>Clarifying controversial remarks he made about...</td>\n",
       "      <td>2</td>\n",
       "    </tr>\n",
       "    <tr>\n",
       "      <td>4</td>\n",
       "      <td>Warning that allowing them to vote without pro...</td>\n",
       "      <td>2</td>\n",
       "    </tr>\n",
       "  </tbody>\n",
       "</table>\n",
       "</div>"
      ],
      "text/plain": [
       "                                                text  labels\n",
       "0  Monitoring polls and news coverage of the upco...       2\n",
       "1  In response to criticism that its threshold fo...       2\n",
       "2  In response to the presidential candidate’s cr...       2\n",
       "3  Clarifying controversial remarks he made about...       2\n",
       "4  Warning that allowing them to vote without pro...       2"
      ]
     },
     "execution_count": 10,
     "metadata": {},
     "output_type": "execute_result"
    }
   ],
   "source": [
    "df2['labels']=2\n",
    "df2.head()"
   ]
  },
  {
   "cell_type": "code",
   "execution_count": 11,
   "metadata": {},
   "outputs": [
    {
     "data": {
      "text/plain": [
       "410"
      ]
     },
     "execution_count": 11,
     "metadata": {},
     "output_type": "execute_result"
    }
   ],
   "source": [
    "len(df2)"
   ]
  },
  {
   "cell_type": "code",
   "execution_count": 12,
   "metadata": {},
   "outputs": [
    {
     "data": {
      "text/plain": [
       "1517"
      ]
     },
     "execution_count": 12,
     "metadata": {},
     "output_type": "execute_result"
    }
   ],
   "source": [
    "st = pd.concat([f, df2], ignore_index=True,sort='False')\n",
    "len(st)"
   ]
  },
  {
   "cell_type": "code",
   "execution_count": 13,
   "metadata": {},
   "outputs": [
    {
     "data": {
      "text/plain": [
       "2321"
      ]
     },
     "execution_count": 13,
     "metadata": {},
     "output_type": "execute_result"
    }
   ],
   "source": [
    "pt=pd.concat([st, war], ignore_index=True,sort='False')\n",
    "len(pt)"
   ]
  },
  {
   "cell_type": "code",
   "execution_count": 14,
   "metadata": {},
   "outputs": [],
   "source": [
    "pt.rename(columns={'labels':'label'}, inplace=True)"
   ]
  },
  {
   "cell_type": "code",
   "execution_count": 15,
   "metadata": {},
   "outputs": [
    {
     "data": {
      "text/html": [
       "<div>\n",
       "<style scoped>\n",
       "    .dataframe tbody tr th:only-of-type {\n",
       "        vertical-align: middle;\n",
       "    }\n",
       "\n",
       "    .dataframe tbody tr th {\n",
       "        vertical-align: top;\n",
       "    }\n",
       "\n",
       "    .dataframe thead th {\n",
       "        text-align: right;\n",
       "    }\n",
       "</style>\n",
       "<table border=\"1\" class=\"dataframe\">\n",
       "  <thead>\n",
       "    <tr style=\"text-align: right;\">\n",
       "      <th></th>\n",
       "      <th>label</th>\n",
       "      <th>text</th>\n",
       "    </tr>\n",
       "  </thead>\n",
       "  <tbody>\n",
       "    <tr>\n",
       "      <td>0</td>\n",
       "      <td>2</td>\n",
       "      <td>BUFFALO—Bragging about his own hardcore dedica...</td>\n",
       "    </tr>\n",
       "    <tr>\n",
       "      <td>1</td>\n",
       "      <td>2</td>\n",
       "      <td>WASHINGTON—Describing the French Canadian muni...</td>\n",
       "    </tr>\n",
       "    <tr>\n",
       "      <td>2</td>\n",
       "      <td>2</td>\n",
       "      <td>DALLAS—Emphasizing his desire to take the appe...</td>\n",
       "    </tr>\n",
       "    <tr>\n",
       "      <td>3</td>\n",
       "      <td>2</td>\n",
       "      <td>NEW ORLEANS—Delivering the news that he will o...</td>\n",
       "    </tr>\n",
       "    <tr>\n",
       "      <td>4</td>\n",
       "      <td>2</td>\n",
       "      <td>CHICAGO—Wearing a Tom Waddle jersey and armed ...</td>\n",
       "    </tr>\n",
       "    <tr>\n",
       "      <td>...</td>\n",
       "      <td>...</td>\n",
       "      <td>...</td>\n",
       "    </tr>\n",
       "    <tr>\n",
       "      <td>2316</td>\n",
       "      <td>1</td>\n",
       "      <td>28-08-2016 Turkish Bombardment Kills 20 Civili...</td>\n",
       "    </tr>\n",
       "    <tr>\n",
       "      <td>2317</td>\n",
       "      <td>1</td>\n",
       "      <td>17-08-2016 Martyrs as Terrorists Shell Aleppos...</td>\n",
       "    </tr>\n",
       "    <tr>\n",
       "      <td>2318</td>\n",
       "      <td>0</td>\n",
       "      <td>03-08-2016 Chemical Attack Kills Five Syrians ...</td>\n",
       "    </tr>\n",
       "    <tr>\n",
       "      <td>2319</td>\n",
       "      <td>1</td>\n",
       "      <td>01-08-2016 5 Killed as Russian Military Choppe...</td>\n",
       "    </tr>\n",
       "    <tr>\n",
       "      <td>2320</td>\n",
       "      <td>1</td>\n",
       "      <td>April 6 2017 Syrian Army Kills 48 ISIL Terrori...</td>\n",
       "    </tr>\n",
       "  </tbody>\n",
       "</table>\n",
       "<p>2321 rows × 2 columns</p>\n",
       "</div>"
      ],
      "text/plain": [
       "      label                                               text\n",
       "0         2  BUFFALO—Bragging about his own hardcore dedica...\n",
       "1         2  WASHINGTON—Describing the French Canadian muni...\n",
       "2         2  DALLAS—Emphasizing his desire to take the appe...\n",
       "3         2  NEW ORLEANS—Delivering the news that he will o...\n",
       "4         2  CHICAGO—Wearing a Tom Waddle jersey and armed ...\n",
       "...     ...                                                ...\n",
       "2316      1  28-08-2016 Turkish Bombardment Kills 20 Civili...\n",
       "2317      1  17-08-2016 Martyrs as Terrorists Shell Aleppos...\n",
       "2318      0  03-08-2016 Chemical Attack Kills Five Syrians ...\n",
       "2319      1  01-08-2016 5 Killed as Russian Military Choppe...\n",
       "2320      1  April 6 2017 Syrian Army Kills 48 ISIL Terrori...\n",
       "\n",
       "[2321 rows x 2 columns]"
      ]
     },
     "execution_count": 15,
     "metadata": {},
     "output_type": "execute_result"
    }
   ],
   "source": [
    "pt"
   ]
  },
  {
   "cell_type": "code",
   "execution_count": 16,
   "metadata": {},
   "outputs": [
    {
     "data": {
      "text/html": [
       "<div>\n",
       "<style scoped>\n",
       "    .dataframe tbody tr th:only-of-type {\n",
       "        vertical-align: middle;\n",
       "    }\n",
       "\n",
       "    .dataframe tbody tr th {\n",
       "        vertical-align: top;\n",
       "    }\n",
       "\n",
       "    .dataframe thead th {\n",
       "        text-align: right;\n",
       "    }\n",
       "</style>\n",
       "<table border=\"1\" class=\"dataframe\">\n",
       "  <thead>\n",
       "    <tr style=\"text-align: right;\">\n",
       "      <th></th>\n",
       "      <th>text</th>\n",
       "      <th>label</th>\n",
       "    </tr>\n",
       "  </thead>\n",
       "  <tbody>\n",
       "    <tr>\n",
       "      <td>0</td>\n",
       "      <td>Daniel Greenfield, a Shillman Journalism Fello...</td>\n",
       "      <td>FAKE</td>\n",
       "    </tr>\n",
       "    <tr>\n",
       "      <td>1</td>\n",
       "      <td>Google Pinterest Digg Linkedin Reddit Stumbleu...</td>\n",
       "      <td>FAKE</td>\n",
       "    </tr>\n",
       "    <tr>\n",
       "      <td>2</td>\n",
       "      <td>U.S. Secretary of State John F. Kerry said Mon...</td>\n",
       "      <td>REAL</td>\n",
       "    </tr>\n",
       "    <tr>\n",
       "      <td>3</td>\n",
       "      <td>— Kaydee King (@KaydeeKing) November 9, 2016 T...</td>\n",
       "      <td>FAKE</td>\n",
       "    </tr>\n",
       "    <tr>\n",
       "      <td>4</td>\n",
       "      <td>It's primary day in New York and front-runners...</td>\n",
       "      <td>REAL</td>\n",
       "    </tr>\n",
       "  </tbody>\n",
       "</table>\n",
       "</div>"
      ],
      "text/plain": [
       "                                                text label\n",
       "0  Daniel Greenfield, a Shillman Journalism Fello...  FAKE\n",
       "1  Google Pinterest Digg Linkedin Reddit Stumbleu...  FAKE\n",
       "2  U.S. Secretary of State John F. Kerry said Mon...  REAL\n",
       "3  — Kaydee King (@KaydeeKing) November 9, 2016 T...  FAKE\n",
       "4  It's primary day in New York and front-runners...  REAL"
      ]
     },
     "execution_count": 16,
     "metadata": {},
     "output_type": "execute_result"
    }
   ],
   "source": [
    "df=pd.read_csv('f.csv',usecols = ['text','label'],nrows=2200)\n",
    "df.head()"
   ]
  },
  {
   "cell_type": "code",
   "execution_count": 17,
   "metadata": {},
   "outputs": [
    {
     "data": {
      "text/plain": [
       "<matplotlib.axes._subplots.AxesSubplot at 0x7f19a9953610>"
      ]
     },
     "execution_count": 17,
     "metadata": {},
     "output_type": "execute_result"
    }
   ],
   "source": [
    "import matplotlib.pyplot as plt\n",
    "df['label'].value_counts().plot(kind = 'bar')"
   ]
  },
  {
   "cell_type": "code",
   "execution_count": 18,
   "metadata": {},
   "outputs": [
    {
     "data": {
      "text/html": [
       "<div>\n",
       "<style scoped>\n",
       "    .dataframe tbody tr th:only-of-type {\n",
       "        vertical-align: middle;\n",
       "    }\n",
       "\n",
       "    .dataframe tbody tr th {\n",
       "        vertical-align: top;\n",
       "    }\n",
       "\n",
       "    .dataframe thead th {\n",
       "        text-align: right;\n",
       "    }\n",
       "</style>\n",
       "<table border=\"1\" class=\"dataframe\">\n",
       "  <thead>\n",
       "    <tr style=\"text-align: right;\">\n",
       "      <th></th>\n",
       "      <th>text</th>\n",
       "      <th>label</th>\n",
       "    </tr>\n",
       "  </thead>\n",
       "  <tbody>\n",
       "    <tr>\n",
       "      <td>0</td>\n",
       "      <td>Daniel Greenfield, a Shillman Journalism Fello...</td>\n",
       "      <td>FAKE</td>\n",
       "    </tr>\n",
       "    <tr>\n",
       "      <td>1</td>\n",
       "      <td>Google Pinterest Digg Linkedin Reddit Stumbleu...</td>\n",
       "      <td>FAKE</td>\n",
       "    </tr>\n",
       "    <tr>\n",
       "      <td>2</td>\n",
       "      <td>U.S. Secretary of State John F. Kerry said Mon...</td>\n",
       "      <td>REAL</td>\n",
       "    </tr>\n",
       "    <tr>\n",
       "      <td>3</td>\n",
       "      <td>— Kaydee King (@KaydeeKing) November 9, 2016 T...</td>\n",
       "      <td>FAKE</td>\n",
       "    </tr>\n",
       "    <tr>\n",
       "      <td>4</td>\n",
       "      <td>It's primary day in New York and front-runners...</td>\n",
       "      <td>REAL</td>\n",
       "    </tr>\n",
       "  </tbody>\n",
       "</table>\n",
       "</div>"
      ],
      "text/plain": [
       "                                                text label\n",
       "0  Daniel Greenfield, a Shillman Journalism Fello...  FAKE\n",
       "1  Google Pinterest Digg Linkedin Reddit Stumbleu...  FAKE\n",
       "2  U.S. Secretary of State John F. Kerry said Mon...  REAL\n",
       "3  — Kaydee King (@KaydeeKing) November 9, 2016 T...  FAKE\n",
       "4  It's primary day in New York and front-runners...  REAL"
      ]
     },
     "execution_count": 18,
     "metadata": {},
     "output_type": "execute_result"
    }
   ],
   "source": [
    "df.head()"
   ]
  },
  {
   "cell_type": "code",
   "execution_count": 19,
   "metadata": {},
   "outputs": [],
   "source": [
    "df['labels']=df['label']\n",
    "df['label'] =  df.label.replace('REAL',1, regex=True)\n",
    "df['label'] =  df.label.replace('FAKE',0, regex=True)"
   ]
  },
  {
   "cell_type": "code",
   "execution_count": 20,
   "metadata": {},
   "outputs": [
    {
     "data": {
      "text/html": [
       "<div>\n",
       "<style scoped>\n",
       "    .dataframe tbody tr th:only-of-type {\n",
       "        vertical-align: middle;\n",
       "    }\n",
       "\n",
       "    .dataframe tbody tr th {\n",
       "        vertical-align: top;\n",
       "    }\n",
       "\n",
       "    .dataframe thead th {\n",
       "        text-align: right;\n",
       "    }\n",
       "</style>\n",
       "<table border=\"1\" class=\"dataframe\">\n",
       "  <thead>\n",
       "    <tr style=\"text-align: right;\">\n",
       "      <th></th>\n",
       "      <th>text</th>\n",
       "      <th>label</th>\n",
       "      <th>labels</th>\n",
       "    </tr>\n",
       "  </thead>\n",
       "  <tbody>\n",
       "    <tr>\n",
       "      <td>0</td>\n",
       "      <td>Daniel Greenfield, a Shillman Journalism Fello...</td>\n",
       "      <td>0</td>\n",
       "      <td>FAKE</td>\n",
       "    </tr>\n",
       "    <tr>\n",
       "      <td>1</td>\n",
       "      <td>Google Pinterest Digg Linkedin Reddit Stumbleu...</td>\n",
       "      <td>0</td>\n",
       "      <td>FAKE</td>\n",
       "    </tr>\n",
       "    <tr>\n",
       "      <td>2</td>\n",
       "      <td>U.S. Secretary of State John F. Kerry said Mon...</td>\n",
       "      <td>1</td>\n",
       "      <td>REAL</td>\n",
       "    </tr>\n",
       "    <tr>\n",
       "      <td>3</td>\n",
       "      <td>— Kaydee King (@KaydeeKing) November 9, 2016 T...</td>\n",
       "      <td>0</td>\n",
       "      <td>FAKE</td>\n",
       "    </tr>\n",
       "    <tr>\n",
       "      <td>4</td>\n",
       "      <td>It's primary day in New York and front-runners...</td>\n",
       "      <td>1</td>\n",
       "      <td>REAL</td>\n",
       "    </tr>\n",
       "  </tbody>\n",
       "</table>\n",
       "</div>"
      ],
      "text/plain": [
       "                                                text  label labels\n",
       "0  Daniel Greenfield, a Shillman Journalism Fello...      0   FAKE\n",
       "1  Google Pinterest Digg Linkedin Reddit Stumbleu...      0   FAKE\n",
       "2  U.S. Secretary of State John F. Kerry said Mon...      1   REAL\n",
       "3  — Kaydee King (@KaydeeKing) November 9, 2016 T...      0   FAKE\n",
       "4  It's primary day in New York and front-runners...      1   REAL"
      ]
     },
     "execution_count": 20,
     "metadata": {},
     "output_type": "execute_result"
    }
   ],
   "source": [
    "df.head()"
   ]
  },
  {
   "cell_type": "code",
   "execution_count": 21,
   "metadata": {},
   "outputs": [
    {
     "name": "stderr",
     "output_type": "stream",
     "text": [
      "/home/neon/anaconda3/lib/python3.7/site-packages/ipykernel_launcher.py:1: FutureWarning: Sorting because non-concatenation axis is not aligned. A future version\n",
      "of pandas will change to not sort by default.\n",
      "\n",
      "To accept the future behavior, pass 'sort=False'.\n",
      "\n",
      "To retain the current behavior and silence the warning, pass 'sort=True'.\n",
      "\n",
      "  \"\"\"Entry point for launching an IPython kernel.\n"
     ]
    }
   ],
   "source": [
    "df=pd.concat([pt, df], ignore_index=True)"
   ]
  },
  {
   "cell_type": "code",
   "execution_count": 22,
   "metadata": {},
   "outputs": [
    {
     "data": {
      "text/html": [
       "<div>\n",
       "<style scoped>\n",
       "    .dataframe tbody tr th:only-of-type {\n",
       "        vertical-align: middle;\n",
       "    }\n",
       "\n",
       "    .dataframe tbody tr th {\n",
       "        vertical-align: top;\n",
       "    }\n",
       "\n",
       "    .dataframe thead th {\n",
       "        text-align: right;\n",
       "    }\n",
       "</style>\n",
       "<table border=\"1\" class=\"dataframe\">\n",
       "  <thead>\n",
       "    <tr style=\"text-align: right;\">\n",
       "      <th></th>\n",
       "      <th>label</th>\n",
       "      <th>labels</th>\n",
       "      <th>text</th>\n",
       "    </tr>\n",
       "  </thead>\n",
       "  <tbody>\n",
       "    <tr>\n",
       "      <td>0</td>\n",
       "      <td>2</td>\n",
       "      <td>NaN</td>\n",
       "      <td>BUFFALO—Bragging about his own hardcore dedica...</td>\n",
       "    </tr>\n",
       "    <tr>\n",
       "      <td>1</td>\n",
       "      <td>2</td>\n",
       "      <td>NaN</td>\n",
       "      <td>WASHINGTON—Describing the French Canadian muni...</td>\n",
       "    </tr>\n",
       "    <tr>\n",
       "      <td>2</td>\n",
       "      <td>2</td>\n",
       "      <td>NaN</td>\n",
       "      <td>DALLAS—Emphasizing his desire to take the appe...</td>\n",
       "    </tr>\n",
       "    <tr>\n",
       "      <td>3</td>\n",
       "      <td>2</td>\n",
       "      <td>NaN</td>\n",
       "      <td>NEW ORLEANS—Delivering the news that he will o...</td>\n",
       "    </tr>\n",
       "    <tr>\n",
       "      <td>4</td>\n",
       "      <td>2</td>\n",
       "      <td>NaN</td>\n",
       "      <td>CHICAGO—Wearing a Tom Waddle jersey and armed ...</td>\n",
       "    </tr>\n",
       "    <tr>\n",
       "      <td>...</td>\n",
       "      <td>...</td>\n",
       "      <td>...</td>\n",
       "      <td>...</td>\n",
       "    </tr>\n",
       "    <tr>\n",
       "      <td>4516</td>\n",
       "      <td>1</td>\n",
       "      <td>REAL</td>\n",
       "      <td>The Obama administration has made \"virtually n...</td>\n",
       "    </tr>\n",
       "    <tr>\n",
       "      <td>4517</td>\n",
       "      <td>0</td>\n",
       "      <td>FAKE</td>\n",
       "      <td>By Claire Bernish at thefreethoughtproject.com...</td>\n",
       "    </tr>\n",
       "    <tr>\n",
       "      <td>4518</td>\n",
       "      <td>1</td>\n",
       "      <td>REAL</td>\n",
       "      <td>It's been a big week for abortion news.\\n\\nCar...</td>\n",
       "    </tr>\n",
       "    <tr>\n",
       "      <td>4519</td>\n",
       "      <td>1</td>\n",
       "      <td>REAL</td>\n",
       "      <td>And the agency was ready for the critics. “The...</td>\n",
       "    </tr>\n",
       "    <tr>\n",
       "      <td>4520</td>\n",
       "      <td>1</td>\n",
       "      <td>REAL</td>\n",
       "      <td>Ben Carson’s debate night in Houston can be su...</td>\n",
       "    </tr>\n",
       "  </tbody>\n",
       "</table>\n",
       "<p>4521 rows × 3 columns</p>\n",
       "</div>"
      ],
      "text/plain": [
       "      label labels                                               text\n",
       "0         2    NaN  BUFFALO—Bragging about his own hardcore dedica...\n",
       "1         2    NaN  WASHINGTON—Describing the French Canadian muni...\n",
       "2         2    NaN  DALLAS—Emphasizing his desire to take the appe...\n",
       "3         2    NaN  NEW ORLEANS—Delivering the news that he will o...\n",
       "4         2    NaN  CHICAGO—Wearing a Tom Waddle jersey and armed ...\n",
       "...     ...    ...                                                ...\n",
       "4516      1   REAL  The Obama administration has made \"virtually n...\n",
       "4517      0   FAKE  By Claire Bernish at thefreethoughtproject.com...\n",
       "4518      1   REAL  It's been a big week for abortion news.\\n\\nCar...\n",
       "4519      1   REAL  And the agency was ready for the critics. “The...\n",
       "4520      1   REAL  Ben Carson’s debate night in Houston can be su...\n",
       "\n",
       "[4521 rows x 3 columns]"
      ]
     },
     "execution_count": 22,
     "metadata": {},
     "output_type": "execute_result"
    }
   ],
   "source": [
    "df"
   ]
  },
  {
   "cell_type": "code",
   "execution_count": 23,
   "metadata": {},
   "outputs": [
    {
     "data": {
      "text/plain": [
       "<matplotlib.axes._subplots.AxesSubplot at 0x7f19a8ee0590>"
      ]
     },
     "execution_count": 23,
     "metadata": {},
     "output_type": "execute_result"
    },
    {
     "data": {
      "image/png": "[encoded data removed]",
      "text/plain": [
       "<Figure size 432x288 with 1 Axes>"
      ]
     },
     "metadata": {
      "needs_background": "light"
     },
     "output_type": "display_data"
    }
   ],
   "source": [
    "df['label'].value_counts().plot(kind = 'bar')"
   ]
  },
  {
   "cell_type": "code",
   "execution_count": 24,
   "metadata": {},
   "outputs": [],
   "source": [
    "from bs4 import BeautifulSoup\n",
    "df['news'] = df['text'].apply(lambda x: BeautifulSoup(x, 'html.parser')) #BeautifulSoup object to parse HTML."
   ]
  },
  {
   "cell_type": "code",
   "execution_count": 25,
   "metadata": {},
   "outputs": [],
   "source": [
    "import re\n",
    "df['review_letters_only'] = df['news'].apply(lambda x: re.sub(r'[^a-zA-Z]', ' ', x.get_text()))"
   ]
  },
  {
   "cell_type": "code",
   "execution_count": 26,
   "metadata": {},
   "outputs": [],
   "source": [
    "df['review_words'] = df['review_letters_only'].apply(lambda x: x.lower().split())"
   ]
  },
  {
   "cell_type": "code",
   "execution_count": 27,
   "metadata": {},
   "outputs": [
    {
     "data": {
      "text/html": [
       "<div>\n",
       "<style scoped>\n",
       "    .dataframe tbody tr th:only-of-type {\n",
       "        vertical-align: middle;\n",
       "    }\n",
       "\n",
       "    .dataframe tbody tr th {\n",
       "        vertical-align: top;\n",
       "    }\n",
       "\n",
       "    .dataframe thead th {\n",
       "        text-align: right;\n",
       "    }\n",
       "</style>\n",
       "<table border=\"1\" class=\"dataframe\">\n",
       "  <thead>\n",
       "    <tr style=\"text-align: right;\">\n",
       "      <th></th>\n",
       "      <th>label</th>\n",
       "      <th>labels</th>\n",
       "      <th>text</th>\n",
       "      <th>news</th>\n",
       "      <th>review_letters_only</th>\n",
       "      <th>review_words</th>\n",
       "      <th>review_meaningful_words</th>\n",
       "      <th>review_meaningful_words1</th>\n",
       "    </tr>\n",
       "  </thead>\n",
       "  <tbody>\n",
       "    <tr>\n",
       "      <td>0</td>\n",
       "      <td>2</td>\n",
       "      <td>NaN</td>\n",
       "      <td>BUFFALO—Bragging about his own hardcore dedica...</td>\n",
       "      <td>[BUFFALO—Bragging about his own hardcore dedic...</td>\n",
       "      <td>BUFFALO Bragging about his own hardcore dedica...</td>\n",
       "      <td>[buffalo, bragging, about, his, own, hardcore,...</td>\n",
       "      <td>[buffalo, bragging, hardcore, dedication, remo...</td>\n",
       "      <td>[buffalo, brag, hardcor, dedic, remov, sport, ...</td>\n",
       "    </tr>\n",
       "    <tr>\n",
       "      <td>1</td>\n",
       "      <td>2</td>\n",
       "      <td>NaN</td>\n",
       "      <td>WASHINGTON—Describing the French Canadian muni...</td>\n",
       "      <td>[WASHINGTON—Describing the French Canadian mun...</td>\n",
       "      <td>WASHINGTON Describing the French Canadian muni...</td>\n",
       "      <td>[washington, describing, the, french, canadian...</td>\n",
       "      <td>[washington, describing, french, canadian, mun...</td>\n",
       "      <td>[washington, describ, french, canadian, munici...</td>\n",
       "    </tr>\n",
       "    <tr>\n",
       "      <td>2</td>\n",
       "      <td>2</td>\n",
       "      <td>NaN</td>\n",
       "      <td>DALLAS—Emphasizing his desire to take the appe...</td>\n",
       "      <td>[DALLAS—Emphasizing his desire to take the app...</td>\n",
       "      <td>DALLAS Emphasizing his desire to take the appe...</td>\n",
       "      <td>[dallas, emphasizing, his, desire, to, take, t...</td>\n",
       "      <td>[dallas, emphasizing, desire, take, appearance...</td>\n",
       "      <td>[dalla, emphas, desir, take, appear, serious, ...</td>\n",
       "    </tr>\n",
       "    <tr>\n",
       "      <td>3</td>\n",
       "      <td>2</td>\n",
       "      <td>NaN</td>\n",
       "      <td>NEW ORLEANS—Delivering the news that he will o...</td>\n",
       "      <td>[NEW ORLEANS—Delivering the news that he will ...</td>\n",
       "      <td>NEW ORLEANS Delivering the news that he will o...</td>\n",
       "      <td>[new, orleans, delivering, the, news, that, he...</td>\n",
       "      <td>[new, orleans, delivering, news, owe, hospital...</td>\n",
       "      <td>[new, orlean, deliv, news, owe, hospit, torn, ...</td>\n",
       "    </tr>\n",
       "    <tr>\n",
       "      <td>4</td>\n",
       "      <td>2</td>\n",
       "      <td>NaN</td>\n",
       "      <td>CHICAGO—Wearing a Tom Waddle jersey and armed ...</td>\n",
       "      <td>[CHICAGO—Wearing a Tom Waddle jersey and armed...</td>\n",
       "      <td>CHICAGO Wearing a Tom Waddle jersey and armed ...</td>\n",
       "      <td>[chicago, wearing, a, tom, waddle, jersey, and...</td>\n",
       "      <td>[chicago, wearing, tom, waddle, jersey, armed,...</td>\n",
       "      <td>[chicago, wear, tom, waddl, jersey, arm, pair,...</td>\n",
       "    </tr>\n",
       "  </tbody>\n",
       "</table>\n",
       "</div>"
      ],
      "text/plain": [
       "   label labels                                               text  \\\n",
       "0      2    NaN  BUFFALO—Bragging about his own hardcore dedica...   \n",
       "1      2    NaN  WASHINGTON—Describing the French Canadian muni...   \n",
       "2      2    NaN  DALLAS—Emphasizing his desire to take the appe...   \n",
       "3      2    NaN  NEW ORLEANS—Delivering the news that he will o...   \n",
       "4      2    NaN  CHICAGO—Wearing a Tom Waddle jersey and armed ...   \n",
       "\n",
       "                                                news  \\\n",
       "0  [BUFFALO—Bragging about his own hardcore dedic...   \n",
       "1  [WASHINGTON—Describing the French Canadian mun...   \n",
       "2  [DALLAS—Emphasizing his desire to take the app...   \n",
       "3  [NEW ORLEANS—Delivering the news that he will ...   \n",
       "4  [CHICAGO—Wearing a Tom Waddle jersey and armed...   \n",
       "\n",
       "                                 review_letters_only  \\\n",
       "0  BUFFALO Bragging about his own hardcore dedica...   \n",
       "1  WASHINGTON Describing the French Canadian muni...   \n",
       "2  DALLAS Emphasizing his desire to take the appe...   \n",
       "3  NEW ORLEANS Delivering the news that he will o...   \n",
       "4  CHICAGO Wearing a Tom Waddle jersey and armed ...   \n",
       "\n",
       "                                        review_words  \\\n",
       "0  [buffalo, bragging, about, his, own, hardcore,...   \n",
       "1  [washington, describing, the, french, canadian...   \n",
       "2  [dallas, emphasizing, his, desire, to, take, t...   \n",
       "3  [new, orleans, delivering, the, news, that, he...   \n",
       "4  [chicago, wearing, a, tom, waddle, jersey, and...   \n",
       "\n",
       "                             review_meaningful_words  \\\n",
       "0  [buffalo, bragging, hardcore, dedication, remo...   \n",
       "1  [washington, describing, french, canadian, mun...   \n",
       "2  [dallas, emphasizing, desire, take, appearance...   \n",
       "3  [new, orleans, delivering, news, owe, hospital...   \n",
       "4  [chicago, wearing, tom, waddle, jersey, armed,...   \n",
       "\n",
       "                            review_meaningful_words1  \n",
       "0  [buffalo, brag, hardcor, dedic, remov, sport, ...  \n",
       "1  [washington, describ, french, canadian, munici...  \n",
       "2  [dalla, emphas, desir, take, appear, serious, ...  \n",
       "3  [new, orlean, deliv, news, owe, hospit, torn, ...  \n",
       "4  [chicago, wear, tom, waddl, jersey, arm, pair,...  "
      ]
     },
     "execution_count": 27,
     "metadata": {},
     "output_type": "execute_result"
    }
   ],
   "source": [
    "import nltk\n",
    "from nltk.corpus import stopwords\n",
    "from nltk.stem.porter import PorterStemmer\n",
    "from nltk.stem import WordNetLemmatizer\n",
    "set_of_stopwords = set(stopwords.words(\"english\"))\n",
    "#df['review_meaningful_words'] = df['review_words']\n",
    "df['review_meaningful_words'] = df['review_words'].apply(lambda x: [w for w in x if not w in set_of_stopwords])\n",
    "\n",
    "ps=PorterStemmer()\n",
    "\n",
    "def st(txt):\n",
    "    tx=([ps.stem(word) for word in txt])\n",
    "    return tx \n",
    "df['review_meaningful_words1'] = df['review_meaningful_words'].apply(lambda x: st(x))\n",
    "df.head()"
   ]
  },
  {
   "cell_type": "code",
   "execution_count": 28,
   "metadata": {},
   "outputs": [
    {
     "data": {
      "text/html": [
       "<div>\n",
       "<style scoped>\n",
       "    .dataframe tbody tr th:only-of-type {\n",
       "        vertical-align: middle;\n",
       "    }\n",
       "\n",
       "    .dataframe tbody tr th {\n",
       "        vertical-align: top;\n",
       "    }\n",
       "\n",
       "    .dataframe thead th {\n",
       "        text-align: right;\n",
       "    }\n",
       "</style>\n",
       "<table border=\"1\" class=\"dataframe\">\n",
       "  <thead>\n",
       "    <tr style=\"text-align: right;\">\n",
       "      <th></th>\n",
       "      <th>label</th>\n",
       "      <th>labels</th>\n",
       "      <th>text</th>\n",
       "      <th>news</th>\n",
       "      <th>review_letters_only</th>\n",
       "      <th>review_words</th>\n",
       "      <th>review_meaningful_words</th>\n",
       "      <th>review_meaningful_words1</th>\n",
       "      <th>review_cleaned</th>\n",
       "    </tr>\n",
       "  </thead>\n",
       "  <tbody>\n",
       "    <tr>\n",
       "      <td>0</td>\n",
       "      <td>2</td>\n",
       "      <td>NaN</td>\n",
       "      <td>BUFFALO—Bragging about his own hardcore dedica...</td>\n",
       "      <td>[BUFFALO—Bragging about his own hardcore dedic...</td>\n",
       "      <td>BUFFALO Bragging about his own hardcore dedica...</td>\n",
       "      <td>[buffalo, bragging, about, his, own, hardcore,...</td>\n",
       "      <td>[buffalo, bragging, hardcore, dedication, remo...</td>\n",
       "      <td>[buffalo, brag, hardcor, dedic, remov, sport, ...</td>\n",
       "      <td>buffalo brag hardcor dedic remov sport facil l...</td>\n",
       "    </tr>\n",
       "    <tr>\n",
       "      <td>1</td>\n",
       "      <td>2</td>\n",
       "      <td>NaN</td>\n",
       "      <td>WASHINGTON—Describing the French Canadian muni...</td>\n",
       "      <td>[WASHINGTON—Describing the French Canadian mun...</td>\n",
       "      <td>WASHINGTON Describing the French Canadian muni...</td>\n",
       "      <td>[washington, describing, the, french, canadian...</td>\n",
       "      <td>[washington, describing, french, canadian, mun...</td>\n",
       "      <td>[washington, describ, french, canadian, munici...</td>\n",
       "      <td>washington describ french canadian municip wor...</td>\n",
       "    </tr>\n",
       "    <tr>\n",
       "      <td>2</td>\n",
       "      <td>2</td>\n",
       "      <td>NaN</td>\n",
       "      <td>DALLAS—Emphasizing his desire to take the appe...</td>\n",
       "      <td>[DALLAS—Emphasizing his desire to take the app...</td>\n",
       "      <td>DALLAS Emphasizing his desire to take the appe...</td>\n",
       "      <td>[dallas, emphasizing, his, desire, to, take, t...</td>\n",
       "      <td>[dallas, emphasizing, desire, take, appearance...</td>\n",
       "      <td>[dalla, emphas, desir, take, appear, serious, ...</td>\n",
       "      <td>dalla emphas desir take appear serious dalla c...</td>\n",
       "    </tr>\n",
       "    <tr>\n",
       "      <td>3</td>\n",
       "      <td>2</td>\n",
       "      <td>NaN</td>\n",
       "      <td>NEW ORLEANS—Delivering the news that he will o...</td>\n",
       "      <td>[NEW ORLEANS—Delivering the news that he will ...</td>\n",
       "      <td>NEW ORLEANS Delivering the news that he will o...</td>\n",
       "      <td>[new, orleans, delivering, the, news, that, he...</td>\n",
       "      <td>[new, orleans, delivering, news, owe, hospital...</td>\n",
       "      <td>[new, orlean, deliv, news, owe, hospit, torn, ...</td>\n",
       "      <td>new orlean deliv news owe hospit torn meniscu ...</td>\n",
       "    </tr>\n",
       "    <tr>\n",
       "      <td>4</td>\n",
       "      <td>2</td>\n",
       "      <td>NaN</td>\n",
       "      <td>CHICAGO—Wearing a Tom Waddle jersey and armed ...</td>\n",
       "      <td>[CHICAGO—Wearing a Tom Waddle jersey and armed...</td>\n",
       "      <td>CHICAGO Wearing a Tom Waddle jersey and armed ...</td>\n",
       "      <td>[chicago, wearing, a, tom, waddle, jersey, and...</td>\n",
       "      <td>[chicago, wearing, tom, waddle, jersey, armed,...</td>\n",
       "      <td>[chicago, wear, tom, waddl, jersey, arm, pair,...</td>\n",
       "      <td>chicago wear tom waddl jersey arm pair tong lo...</td>\n",
       "    </tr>\n",
       "  </tbody>\n",
       "</table>\n",
       "</div>"
      ],
      "text/plain": [
       "   label labels                                               text  \\\n",
       "0      2    NaN  BUFFALO—Bragging about his own hardcore dedica...   \n",
       "1      2    NaN  WASHINGTON—Describing the French Canadian muni...   \n",
       "2      2    NaN  DALLAS—Emphasizing his desire to take the appe...   \n",
       "3      2    NaN  NEW ORLEANS—Delivering the news that he will o...   \n",
       "4      2    NaN  CHICAGO—Wearing a Tom Waddle jersey and armed ...   \n",
       "\n",
       "                                                news  \\\n",
       "0  [BUFFALO—Bragging about his own hardcore dedic...   \n",
       "1  [WASHINGTON—Describing the French Canadian mun...   \n",
       "2  [DALLAS—Emphasizing his desire to take the app...   \n",
       "3  [NEW ORLEANS—Delivering the news that he will ...   \n",
       "4  [CHICAGO—Wearing a Tom Waddle jersey and armed...   \n",
       "\n",
       "                                 review_letters_only  \\\n",
       "0  BUFFALO Bragging about his own hardcore dedica...   \n",
       "1  WASHINGTON Describing the French Canadian muni...   \n",
       "2  DALLAS Emphasizing his desire to take the appe...   \n",
       "3  NEW ORLEANS Delivering the news that he will o...   \n",
       "4  CHICAGO Wearing a Tom Waddle jersey and armed ...   \n",
       "\n",
       "                                        review_words  \\\n",
       "0  [buffalo, bragging, about, his, own, hardcore,...   \n",
       "1  [washington, describing, the, french, canadian...   \n",
       "2  [dallas, emphasizing, his, desire, to, take, t...   \n",
       "3  [new, orleans, delivering, the, news, that, he...   \n",
       "4  [chicago, wearing, a, tom, waddle, jersey, and...   \n",
       "\n",
       "                             review_meaningful_words  \\\n",
       "0  [buffalo, bragging, hardcore, dedication, remo...   \n",
       "1  [washington, describing, french, canadian, mun...   \n",
       "2  [dallas, emphasizing, desire, take, appearance...   \n",
       "3  [new, orleans, delivering, news, owe, hospital...   \n",
       "4  [chicago, wearing, tom, waddle, jersey, armed,...   \n",
       "\n",
       "                            review_meaningful_words1  \\\n",
       "0  [buffalo, brag, hardcor, dedic, remov, sport, ...   \n",
       "1  [washington, describ, french, canadian, munici...   \n",
       "2  [dalla, emphas, desir, take, appear, serious, ...   \n",
       "3  [new, orlean, deliv, news, owe, hospit, torn, ...   \n",
       "4  [chicago, wear, tom, waddl, jersey, arm, pair,...   \n",
       "\n",
       "                                      review_cleaned  \n",
       "0  buffalo brag hardcor dedic remov sport facil l...  \n",
       "1  washington describ french canadian municip wor...  \n",
       "2  dalla emphas desir take appear serious dalla c...  \n",
       "3  new orlean deliv news owe hospit torn meniscu ...  \n",
       "4  chicago wear tom waddl jersey arm pair tong lo...  "
      ]
     },
     "execution_count": 28,
     "metadata": {},
     "output_type": "execute_result"
    }
   ],
   "source": [
    "#df.rename(columns={'labels':'label','article_content':'text'},inplace=True)\n",
    "wn=nltk.WordNetLemmatizer()\n",
    "#def lma(txt):\n",
    " #   tx=[wn.lemmatize(word) for word in txt]\n",
    "  #  return tx df['review_cleaned'] = df['review_meaningful_words'].apply(lambda x: lma(x))\n",
    "df['review_cleaned'] = df['review_meaningful_words1'].apply(lambda x: ' '.join(x)) #  join the list of words into a single string.\n",
    "df.head()"
   ]
  },
  {
   "cell_type": "code",
   "execution_count": 29,
   "metadata": {},
   "outputs": [
    {
     "data": {
      "text/html": [
       "<div>\n",
       "<style scoped>\n",
       "    .dataframe tbody tr th:only-of-type {\n",
       "        vertical-align: middle;\n",
       "    }\n",
       "\n",
       "    .dataframe tbody tr th {\n",
       "        vertical-align: top;\n",
       "    }\n",
       "\n",
       "    .dataframe thead th {\n",
       "        text-align: right;\n",
       "    }\n",
       "</style>\n",
       "<table border=\"1\" class=\"dataframe\">\n",
       "  <thead>\n",
       "    <tr style=\"text-align: right;\">\n",
       "      <th></th>\n",
       "      <th>label</th>\n",
       "      <th>labels</th>\n",
       "      <th>text</th>\n",
       "      <th>news</th>\n",
       "      <th>review_letters_only</th>\n",
       "      <th>review_words</th>\n",
       "      <th>review_meaningful_words</th>\n",
       "      <th>review_meaningful_words1</th>\n",
       "      <th>review_cleaned</th>\n",
       "    </tr>\n",
       "  </thead>\n",
       "  <tbody>\n",
       "    <tr>\n",
       "      <td>0</td>\n",
       "      <td>2</td>\n",
       "      <td>NaN</td>\n",
       "      <td>BUFFALO—Bragging about his own hardcore dedica...</td>\n",
       "      <td>[BUFFALO—Bragging about his own hardcore dedic...</td>\n",
       "      <td>BUFFALO Bragging about his own hardcore dedica...</td>\n",
       "      <td>[buffalo, bragging, about, his, own, hardcore,...</td>\n",
       "      <td>[buffalo, bragging, hardcore, dedication, remo...</td>\n",
       "      <td>[buffalo, brag, hardcor, dedic, remov, sport, ...</td>\n",
       "      <td>buffalo brag hardcor dedic remov sport facil l...</td>\n",
       "    </tr>\n",
       "    <tr>\n",
       "      <td>1</td>\n",
       "      <td>2</td>\n",
       "      <td>NaN</td>\n",
       "      <td>WASHINGTON—Describing the French Canadian muni...</td>\n",
       "      <td>[WASHINGTON—Describing the French Canadian mun...</td>\n",
       "      <td>WASHINGTON Describing the French Canadian muni...</td>\n",
       "      <td>[washington, describing, the, french, canadian...</td>\n",
       "      <td>[washington, describing, french, canadian, mun...</td>\n",
       "      <td>[washington, describ, french, canadian, munici...</td>\n",
       "      <td>washington describ french canadian municip wor...</td>\n",
       "    </tr>\n",
       "    <tr>\n",
       "      <td>2</td>\n",
       "      <td>2</td>\n",
       "      <td>NaN</td>\n",
       "      <td>DALLAS—Emphasizing his desire to take the appe...</td>\n",
       "      <td>[DALLAS—Emphasizing his desire to take the app...</td>\n",
       "      <td>DALLAS Emphasizing his desire to take the appe...</td>\n",
       "      <td>[dallas, emphasizing, his, desire, to, take, t...</td>\n",
       "      <td>[dallas, emphasizing, desire, take, appearance...</td>\n",
       "      <td>[dalla, emphas, desir, take, appear, serious, ...</td>\n",
       "      <td>dalla emphas desir take appear serious dalla c...</td>\n",
       "    </tr>\n",
       "    <tr>\n",
       "      <td>3</td>\n",
       "      <td>2</td>\n",
       "      <td>NaN</td>\n",
       "      <td>NEW ORLEANS—Delivering the news that he will o...</td>\n",
       "      <td>[NEW ORLEANS—Delivering the news that he will ...</td>\n",
       "      <td>NEW ORLEANS Delivering the news that he will o...</td>\n",
       "      <td>[new, orleans, delivering, the, news, that, he...</td>\n",
       "      <td>[new, orleans, delivering, news, owe, hospital...</td>\n",
       "      <td>[new, orlean, deliv, news, owe, hospit, torn, ...</td>\n",
       "      <td>new orlean deliv news owe hospit torn meniscu ...</td>\n",
       "    </tr>\n",
       "    <tr>\n",
       "      <td>4</td>\n",
       "      <td>2</td>\n",
       "      <td>NaN</td>\n",
       "      <td>CHICAGO—Wearing a Tom Waddle jersey and armed ...</td>\n",
       "      <td>[CHICAGO—Wearing a Tom Waddle jersey and armed...</td>\n",
       "      <td>CHICAGO Wearing a Tom Waddle jersey and armed ...</td>\n",
       "      <td>[chicago, wearing, a, tom, waddle, jersey, and...</td>\n",
       "      <td>[chicago, wearing, tom, waddle, jersey, armed,...</td>\n",
       "      <td>[chicago, wear, tom, waddl, jersey, arm, pair,...</td>\n",
       "      <td>chicago wear tom waddl jersey arm pair tong lo...</td>\n",
       "    </tr>\n",
       "  </tbody>\n",
       "</table>\n",
       "</div>"
      ],
      "text/plain": [
       "   label labels                                               text  \\\n",
       "0      2    NaN  BUFFALO—Bragging about his own hardcore dedica...   \n",
       "1      2    NaN  WASHINGTON—Describing the French Canadian muni...   \n",
       "2      2    NaN  DALLAS—Emphasizing his desire to take the appe...   \n",
       "3      2    NaN  NEW ORLEANS—Delivering the news that he will o...   \n",
       "4      2    NaN  CHICAGO—Wearing a Tom Waddle jersey and armed ...   \n",
       "\n",
       "                                                news  \\\n",
       "0  [BUFFALO—Bragging about his own hardcore dedic...   \n",
       "1  [WASHINGTON—Describing the French Canadian mun...   \n",
       "2  [DALLAS—Emphasizing his desire to take the app...   \n",
       "3  [NEW ORLEANS—Delivering the news that he will ...   \n",
       "4  [CHICAGO—Wearing a Tom Waddle jersey and armed...   \n",
       "\n",
       "                                 review_letters_only  \\\n",
       "0  BUFFALO Bragging about his own hardcore dedica...   \n",
       "1  WASHINGTON Describing the French Canadian muni...   \n",
       "2  DALLAS Emphasizing his desire to take the appe...   \n",
       "3  NEW ORLEANS Delivering the news that he will o...   \n",
       "4  CHICAGO Wearing a Tom Waddle jersey and armed ...   \n",
       "\n",
       "                                        review_words  \\\n",
       "0  [buffalo, bragging, about, his, own, hardcore,...   \n",
       "1  [washington, describing, the, french, canadian...   \n",
       "2  [dallas, emphasizing, his, desire, to, take, t...   \n",
       "3  [new, orleans, delivering, the, news, that, he...   \n",
       "4  [chicago, wearing, a, tom, waddle, jersey, and...   \n",
       "\n",
       "                             review_meaningful_words  \\\n",
       "0  [buffalo, bragging, hardcore, dedication, remo...   \n",
       "1  [washington, describing, french, canadian, mun...   \n",
       "2  [dallas, emphasizing, desire, take, appearance...   \n",
       "3  [new, orleans, delivering, news, owe, hospital...   \n",
       "4  [chicago, wearing, tom, waddle, jersey, armed,...   \n",
       "\n",
       "                            review_meaningful_words1  \\\n",
       "0  [buffalo, brag, hardcor, dedic, remov, sport, ...   \n",
       "1  [washington, describ, french, canadian, munici...   \n",
       "2  [dalla, emphas, desir, take, appear, serious, ...   \n",
       "3  [new, orlean, deliv, news, owe, hospit, torn, ...   \n",
       "4  [chicago, wear, tom, waddl, jersey, arm, pair,...   \n",
       "\n",
       "                                      review_cleaned  \n",
       "0  buffalo brag hardcor dedic remov sport facil l...  \n",
       "1  washington describ french canadian municip wor...  \n",
       "2  dalla emphas desir take appear serious dalla c...  \n",
       "3  new orlean deliv news owe hospit torn meniscu ...  \n",
       "4  chicago wear tom waddl jersey arm pair tong lo...  "
      ]
     },
     "execution_count": 29,
     "metadata": {},
     "output_type": "execute_result"
    }
   ],
   "source": [
    "df.head()"
   ]
  },
  {
   "cell_type": "code",
   "execution_count": null,
   "metadata": {},
   "outputs": [],
   "source": []
  },
  {
   "cell_type": "code",
   "execution_count": 30,
   "metadata": {},
   "outputs": [],
   "source": [
    "import pandas as pd\n",
    "import numpy as np\n",
    "import seaborn as sns\n",
    "import matplotlib.pyplot as plt\n",
    "from sklearn.linear_model import LogisticRegression\n",
    "from sklearn.model_selection import train_test_split\n",
    "from sklearn.metrics import f1_score\n",
    "from sklearn.feature_extraction.text import CountVectorizer\n",
    "from sklearn.naive_bayes import MultinomialNB\n",
    "from sklearn.metrics import roc_auc_score\n",
    "from sklearn.metrics import accuracy_score\n",
    "from sklearn.feature_extraction.text import TfidfVectorizer\n",
    "from sklearn.svm import LinearSVC"
   ]
  },
  {
   "cell_type": "code",
   "execution_count": 31,
   "metadata": {},
   "outputs": [],
   "source": [
    "df = df.sample(frac=1).reset_index(drop=True)\n"
   ]
  },
  {
   "cell_type": "code",
   "execution_count": 32,
   "metadata": {},
   "outputs": [
    {
     "data": {
      "text/plain": [
       "4521"
      ]
     },
     "execution_count": 32,
     "metadata": {},
     "output_type": "execute_result"
    }
   ],
   "source": [
    "len(df)"
   ]
  },
  {
   "cell_type": "code",
   "execution_count": 33,
   "metadata": {},
   "outputs": [
    {
     "data": {
      "text/plain": [
       "4521"
      ]
     },
     "execution_count": 33,
     "metadata": {},
     "output_type": "execute_result"
    }
   ],
   "source": [
    "dfx=df['review_cleaned']\n",
    "dfy=df['label']\n",
    "len(dfx)\n",
    "#dfy"
   ]
  },
  {
   "cell_type": "code",
   "execution_count": 34,
   "metadata": {},
   "outputs": [],
   "source": [
    "cv=CountVectorizer(max_features=50000)\n",
    "\n",
    "X_train, X_test, y_train, y_test = train_test_split(dfx, dfy, test_size=0.33, random_state=0)\n"
   ]
  },
  {
   "cell_type": "code",
   "execution_count": 35,
   "metadata": {},
   "outputs": [
    {
     "data": {
      "text/plain": [
       "array([[0, 0, 0, ..., 0, 0, 0],\n",
       "       [0, 0, 0, ..., 0, 0, 0],\n",
       "       [0, 0, 0, ..., 0, 0, 0],\n",
       "       ...,\n",
       "       [0, 0, 0, ..., 0, 0, 0],\n",
       "       [0, 0, 0, ..., 0, 0, 0],\n",
       "       [0, 0, 0, ..., 0, 0, 0]])"
      ]
     },
     "execution_count": 35,
     "metadata": {},
     "output_type": "execute_result"
    }
   ],
   "source": [
    "vec=cv.fit_transform(X_train)\n",
    "vec.toarray()"
   ]
  },
  {
   "cell_type": "code",
   "execution_count": 36,
   "metadata": {},
   "outputs": [
    {
     "data": {
      "text/plain": [
       "(3029, 28745)"
      ]
     },
     "execution_count": 36,
     "metadata": {},
     "output_type": "execute_result"
    }
   ],
   "source": [
    "vec.shape"
   ]
  },
  {
   "cell_type": "code",
   "execution_count": 37,
   "metadata": {},
   "outputs": [
    {
     "data": {
      "text/plain": [
       "['aa',\n",
       " 'aaa',\n",
       " 'aab',\n",
       " 'aachen',\n",
       " 'aadhar',\n",
       " 'aadmi',\n",
       " 'aahmad',\n",
       " 'aaib',\n",
       " 'aaingr',\n",
       " 'aaj',\n",
       " 'aakar',\n",
       " 'aakhri',\n",
       " 'aakla',\n",
       " 'aaluijqn',\n",
       " 'aam',\n",
       " 'aamaq',\n",
       " 'aaojejptci',\n",
       " 'aap',\n",
       " 'aapk',\n",
       " 'aapko',\n",
       " 'aapn',\n",
       " 'aaron',\n",
       " 'aarp',\n",
       " 'aasmi',\n",
       " 'aaso',\n",
       " 'aata',\n",
       " 'aau',\n",
       " 'aay',\n",
       " 'aayush',\n",
       " 'aaza',\n",
       " 'aazamiyeh',\n",
       " 'ab',\n",
       " 'aba',\n",
       " 'abaaoud',\n",
       " 'ababa',\n",
       " 'aback',\n",
       " 'abadi',\n",
       " 'abandon',\n",
       " 'abassia',\n",
       " 'abat',\n",
       " 'abay',\n",
       " 'abaya',\n",
       " 'abb',\n",
       " 'abba',\n",
       " 'abbasid',\n",
       " 'abbasiyyeen',\n",
       " 'abbey',\n",
       " 'abbi',\n",
       " 'abbott',\n",
       " 'abbottabad',\n",
       " 'abboud',\n",
       " 'abbrevi',\n",
       " 'abc',\n",
       " 'abcnew',\n",
       " 'abcpolit',\n",
       " 'abd',\n",
       " 'abdah',\n",
       " 'abdallah',\n",
       " 'abdeen',\n",
       " 'abdel',\n",
       " 'abdelfattah',\n",
       " 'abdelhamid',\n",
       " 'abdelsalam',\n",
       " 'abdeslam',\n",
       " 'abdic',\n",
       " 'abdin',\n",
       " 'abdirashid',\n",
       " 'abdiwahab',\n",
       " 'abdo',\n",
       " 'abdomen',\n",
       " 'abdomin',\n",
       " 'abduct',\n",
       " 'abducte',\n",
       " 'abductor',\n",
       " 'abdul',\n",
       " 'abdulazeez',\n",
       " 'abdulaziz',\n",
       " 'abdulkarim',\n",
       " 'abdulla',\n",
       " 'abdullah',\n",
       " 'abdullahunivers',\n",
       " 'abdulmuttalab',\n",
       " 'abdulrahman',\n",
       " 'abdurrahman',\n",
       " 'abe',\n",
       " 'abedin',\n",
       " 'abel',\n",
       " 'abelah',\n",
       " 'abeldang',\n",
       " 'abernathi',\n",
       " 'abernethi',\n",
       " 'aberr',\n",
       " 'abet',\n",
       " 'abha',\n",
       " 'abhor',\n",
       " 'abhorr',\n",
       " 'abi',\n",
       " 'abid',\n",
       " 'abigail',\n",
       " 'abil',\n",
       " 'abilifi',\n",
       " 'abilio',\n",
       " 'abiot',\n",
       " 'abiz',\n",
       " 'abject',\n",
       " 'abjur',\n",
       " 'abl',\n",
       " 'ablaz',\n",
       " 'ableism',\n",
       " 'ablow',\n",
       " 'abm',\n",
       " 'abner',\n",
       " 'abnorm',\n",
       " 'aboard',\n",
       " 'abod',\n",
       " 'abolish',\n",
       " 'abolit',\n",
       " 'abomin',\n",
       " 'aborigin',\n",
       " 'abort',\n",
       " 'abotsway',\n",
       " 'abott',\n",
       " 'abou',\n",
       " 'aboudi',\n",
       " 'abound',\n",
       " 'aboutfac',\n",
       " 'aboutmedia',\n",
       " 'aboutth',\n",
       " 'aboveboard',\n",
       " 'abovement',\n",
       " 'abraham',\n",
       " 'abram',\n",
       " 'abramowitz',\n",
       " 'abras',\n",
       " 'abreast',\n",
       " 'abroad',\n",
       " 'abrog',\n",
       " 'abrupt',\n",
       " 'abruptli',\n",
       " 'absasiyeen',\n",
       " 'abscess',\n",
       " 'abscond',\n",
       " 'absenc',\n",
       " 'absent',\n",
       " 'absente',\n",
       " 'absentia',\n",
       " 'absentmindedli',\n",
       " 'absolut',\n",
       " 'absolv',\n",
       " 'absorb',\n",
       " 'absorpt',\n",
       " 'abstain',\n",
       " 'abstract',\n",
       " 'abstrus',\n",
       " 'absurd',\n",
       " 'absurdist',\n",
       " 'absurdli',\n",
       " 'abu',\n",
       " 'abubakar',\n",
       " 'abund',\n",
       " 'abundantli',\n",
       " 'abus',\n",
       " 'abut',\n",
       " 'abyad',\n",
       " 'abysm',\n",
       " 'abyss',\n",
       " 'abyssinia',\n",
       " 'ac',\n",
       " 'aca',\n",
       " 'acab',\n",
       " 'academ',\n",
       " 'academi',\n",
       " 'academia',\n",
       " 'academician',\n",
       " 'acala',\n",
       " 'acccgwmfcwkibwmffqojcasffgidaqachgecf',\n",
       " 'acceler',\n",
       " 'accent',\n",
       " 'accept',\n",
       " 'acceso',\n",
       " 'access',\n",
       " 'accessori',\n",
       " 'accid',\n",
       " 'accident',\n",
       " 'acclaim',\n",
       " 'accolad',\n",
       " 'accomazzo',\n",
       " 'accommod',\n",
       " 'accomod',\n",
       " 'accompani',\n",
       " 'accompli',\n",
       " 'accomplic',\n",
       " 'accomplish',\n",
       " 'accord',\n",
       " 'accordingli',\n",
       " 'accordion',\n",
       " 'account',\n",
       " 'accoutr',\n",
       " 'accru',\n",
       " 'accumul',\n",
       " 'accur',\n",
       " 'accuraci',\n",
       " 'accurs',\n",
       " 'accus',\n",
       " 'accusatori',\n",
       " 'accustom',\n",
       " 'ace',\n",
       " 'acela',\n",
       " 'acerb',\n",
       " 'aceton',\n",
       " 'acetylen',\n",
       " 'acevedo',\n",
       " 'ach',\n",
       " 'achairman',\n",
       " 'achanak',\n",
       " 'acheson',\n",
       " 'achiev',\n",
       " 'achil',\n",
       " 'acid',\n",
       " 'acidif',\n",
       " 'acierto',\n",
       " 'ackbar',\n",
       " 'acker',\n",
       " 'acknowledg',\n",
       " 'acl',\n",
       " 'aclu',\n",
       " 'acn',\n",
       " 'acoelom',\n",
       " 'acolyt',\n",
       " 'acorn',\n",
       " 'acosta',\n",
       " 'acoust',\n",
       " 'acp',\n",
       " 'acquaint',\n",
       " 'acquiesc',\n",
       " 'acquir',\n",
       " 'acquisit',\n",
       " 'acquit',\n",
       " 'acquitt',\n",
       " 'acr',\n",
       " 'acrimoni',\n",
       " 'acrobat',\n",
       " 'acronym',\n",
       " 'across',\n",
       " 'acrossmedium',\n",
       " 'acryl',\n",
       " 'act',\n",
       " 'action',\n",
       " 'activ',\n",
       " 'activessl',\n",
       " 'activist',\n",
       " 'activistpost',\n",
       " 'acton',\n",
       " 'actor',\n",
       " 'actress',\n",
       " 'actro',\n",
       " 'actual',\n",
       " 'actuari',\n",
       " 'acuesta',\n",
       " 'acuiti',\n",
       " 'acumen',\n",
       " 'acura',\n",
       " 'acut',\n",
       " 'ad',\n",
       " 'ada',\n",
       " 'adag',\n",
       " 'adam',\n",
       " 'adamantli',\n",
       " 'adambaldwin',\n",
       " 'adamshawni',\n",
       " 'adani',\n",
       " 'adapotogen',\n",
       " 'adapt',\n",
       " 'adaptogen',\n",
       " 'adawi',\n",
       " 'adayattheracesblog',\n",
       " 'add',\n",
       " 'addam',\n",
       " 'addi',\n",
       " 'addict',\n",
       " 'addin',\n",
       " 'addit',\n",
       " 'addl',\n",
       " 'address',\n",
       " 'ade',\n",
       " 'adebayo',\n",
       " 'adeeb',\n",
       " 'adein',\n",
       " 'adel',\n",
       " 'adelah',\n",
       " 'adellenaz',\n",
       " 'adelson',\n",
       " 'aden',\n",
       " 'adept',\n",
       " 'adequ',\n",
       " 'adequaci',\n",
       " 'adfkl',\n",
       " 'adha',\n",
       " 'adher',\n",
       " 'adichi',\n",
       " 'adida',\n",
       " 'adirondack',\n",
       " 'adjac',\n",
       " 'adjoin',\n",
       " 'adjourn',\n",
       " 'adjud',\n",
       " 'adjunct',\n",
       " 'adjust',\n",
       " 'adl',\n",
       " 'adlai',\n",
       " 'adleman',\n",
       " 'adler',\n",
       " 'adm',\n",
       " 'admin',\n",
       " 'administ',\n",
       " 'administr',\n",
       " 'admir',\n",
       " 'admirethedist',\n",
       " 'admiss',\n",
       " 'admit',\n",
       " 'admittedli',\n",
       " 'admonish',\n",
       " 'admonit',\n",
       " 'adnan',\n",
       " 'adnani',\n",
       " 'adob',\n",
       " 'adolesc',\n",
       " 'adolf',\n",
       " 'adolph',\n",
       " 'adonis',\n",
       " 'adopt',\n",
       " 'ador',\n",
       " 'adorn',\n",
       " 'adra',\n",
       " 'adren',\n",
       " 'adrenalin',\n",
       " 'adrian',\n",
       " 'adriana',\n",
       " 'adrienn',\n",
       " 'adseh',\n",
       " 'adu',\n",
       " 'adul',\n",
       " 'adult',\n",
       " 'adulter',\n",
       " 'adulteri',\n",
       " 'adulthood',\n",
       " 'adum',\n",
       " 'adv',\n",
       " 'advanc',\n",
       " 'advantag',\n",
       " 'advent',\n",
       " 'adventist',\n",
       " 'adventur',\n",
       " 'advers',\n",
       " 'adversari',\n",
       " 'advert',\n",
       " 'advertis',\n",
       " 'advic',\n",
       " 'advil',\n",
       " 'advis',\n",
       " 'advisor',\n",
       " 'advisori',\n",
       " 'advoc',\n",
       " 'advocaci',\n",
       " 'adweek',\n",
       " 'aea',\n",
       " 'aegi',\n",
       " 'aei',\n",
       " 'aeon',\n",
       " 'aerial',\n",
       " 'aerosol',\n",
       " 'aerospac',\n",
       " 'aesthet',\n",
       " 'aether',\n",
       " 'aetna',\n",
       " 'aexw',\n",
       " 'af',\n",
       " 'afalb',\n",
       " 'afar',\n",
       " 'afc',\n",
       " 'afd',\n",
       " 'affabl',\n",
       " 'affair',\n",
       " 'affect',\n",
       " 'affectingli',\n",
       " 'affection',\n",
       " 'affidavit',\n",
       " 'affili',\n",
       " 'affin',\n",
       " 'affirm',\n",
       " 'affix',\n",
       " 'affleck',\n",
       " 'afflict',\n",
       " 'affluent',\n",
       " 'afford',\n",
       " 'affront',\n",
       " 'afghan',\n",
       " 'afghanistan',\n",
       " 'afi',\n",
       " 'aficionado',\n",
       " 'afield',\n",
       " 'afisi',\n",
       " 'afl',\n",
       " 'aflam',\n",
       " 'afloat',\n",
       " 'afoot',\n",
       " 'aforement',\n",
       " 'afoul',\n",
       " 'afp',\n",
       " 'afraid',\n",
       " 'afri',\n",
       " 'africa',\n",
       " 'african',\n",
       " 'africom',\n",
       " 'afrikan',\n",
       " 'afrin',\n",
       " 'afriqu',\n",
       " 'afro',\n",
       " 'afscm',\n",
       " 'aft',\n",
       " 'aftereffect',\n",
       " 'afterglow',\n",
       " 'afterlif',\n",
       " 'aftermath',\n",
       " 'afternoon',\n",
       " 'afterth',\n",
       " 'afterthought',\n",
       " 'afterward',\n",
       " 'ag',\n",
       " 'agartha',\n",
       " 'agassiz',\n",
       " 'age',\n",
       " 'agenc',\n",
       " 'agenda',\n",
       " 'agent',\n",
       " 'aggrand',\n",
       " 'aggrandiz',\n",
       " 'aggrav',\n",
       " 'aggreg',\n",
       " 'aggress',\n",
       " 'aggressor',\n",
       " 'aggriev',\n",
       " 'aghast',\n",
       " 'agil',\n",
       " 'agit',\n",
       " 'agita',\n",
       " 'agitprop',\n",
       " 'agmon',\n",
       " 'agn',\n",
       " 'agner',\n",
       " 'agnost',\n",
       " 'ago',\n",
       " 'agog',\n",
       " 'agoldberg',\n",
       " 'agon',\n",
       " 'agoni',\n",
       " 'agonizingli',\n",
       " 'agorist',\n",
       " 'agre',\n",
       " 'agreeabl',\n",
       " 'agreement',\n",
       " 'agress',\n",
       " 'agri',\n",
       " 'agribusi',\n",
       " 'agricultur',\n",
       " 'agrochem',\n",
       " 'agropoison',\n",
       " 'aguerra',\n",
       " 'ah',\n",
       " 'aha',\n",
       " 'ahab',\n",
       " 'ahahahaha',\n",
       " 'ahbqvtvqzg',\n",
       " 'ahead',\n",
       " 'ahi',\n",
       " 'ahistor',\n",
       " 'ahlquist',\n",
       " 'ahm',\n",
       " 'ahmad',\n",
       " 'ahmadi',\n",
       " 'ahmadinejad',\n",
       " 'ahmar',\n",
       " 'ahmet',\n",
       " 'ahold',\n",
       " 'ahqqtpghax',\n",
       " 'ahrar',\n",
       " 'ahsem',\n",
       " 'ahwatuke',\n",
       " 'ai',\n",
       " 'aid',\n",
       " 'aida',\n",
       " 'aidan',\n",
       " 'aiden',\n",
       " 'aiello',\n",
       " 'aifl',\n",
       " 'aiib',\n",
       " 'aijaz',\n",
       " 'aikido',\n",
       " 'aikman',\n",
       " 'ail',\n",
       " 'aila',\n",
       " 'ailment',\n",
       " 'aim',\n",
       " 'aimlessli',\n",
       " 'ainsworth',\n",
       " 'aipac',\n",
       " 'air',\n",
       " 'airbal',\n",
       " 'airbas',\n",
       " 'airbnb',\n",
       " 'airborn',\n",
       " 'airbu',\n",
       " 'aircraft',\n",
       " 'airdrop',\n",
       " 'airfar',\n",
       " 'airfield',\n",
       " 'airflow',\n",
       " 'airforc',\n",
       " 'airlift',\n",
       " 'airlin',\n",
       " 'airman',\n",
       " 'airmen',\n",
       " 'airplan',\n",
       " 'airpod',\n",
       " 'airport',\n",
       " 'airpow',\n",
       " 'airspac',\n",
       " 'airstrik',\n",
       " 'airstrip',\n",
       " 'airtight',\n",
       " 'airtim',\n",
       " 'airwar',\n",
       " 'airwav',\n",
       " 'ais',\n",
       " 'aisl',\n",
       " 'aitkenhead',\n",
       " 'aiyt',\n",
       " 'aj',\n",
       " 'ajamu',\n",
       " 'aji',\n",
       " 'ak',\n",
       " 'aka',\n",
       " 'akajsaid',\n",
       " 'akash',\n",
       " 'akasha',\n",
       " 'akbar',\n",
       " 'akcakal',\n",
       " 'akczh',\n",
       " 'ake',\n",
       " 'akg',\n",
       " 'akhbar',\n",
       " 'akhdar',\n",
       " 'akhilesh',\n",
       " 'akhtar',\n",
       " 'akhtarin',\n",
       " 'akidat',\n",
       " 'akidi',\n",
       " 'akin',\n",
       " 'akingump',\n",
       " 'akkal',\n",
       " 'akp',\n",
       " 'akrad',\n",
       " 'akrameh',\n",
       " 'akramiya',\n",
       " 'akramiyeh',\n",
       " 'akron',\n",
       " 'akruma',\n",
       " 'akuno',\n",
       " 'al',\n",
       " 'ala',\n",
       " 'alaa',\n",
       " 'alabama',\n",
       " 'alabdah',\n",
       " 'alaeddin',\n",
       " 'alalam',\n",
       " 'alam',\n",
       " 'alameda',\n",
       " 'alamino',\n",
       " 'alamo',\n",
       " 'alamogordo',\n",
       " 'alan',\n",
       " 'alana',\n",
       " 'alancar',\n",
       " 'alani',\n",
       " 'alarm',\n",
       " 'alarmingli',\n",
       " 'alarmist',\n",
       " 'alaska',\n",
       " 'alaskan',\n",
       " 'alastair',\n",
       " 'alawit',\n",
       " 'alayeddin',\n",
       " 'albani',\n",
       " 'albanian',\n",
       " 'albatross',\n",
       " 'albeiq',\n",
       " 'albeit',\n",
       " 'alben',\n",
       " 'albendazol',\n",
       " 'albert',\n",
       " 'alberta',\n",
       " 'albir',\n",
       " 'albrecht',\n",
       " 'albright',\n",
       " 'albu',\n",
       " 'album',\n",
       " 'albuquerqu',\n",
       " 'albusei',\n",
       " 'alc',\n",
       " 'alcaraz',\n",
       " 'alchem',\n",
       " 'alchemi',\n",
       " 'alcheringa',\n",
       " 'alcohol',\n",
       " 'aldean',\n",
       " 'aldebarani',\n",
       " 'aldeen',\n",
       " 'aldou',\n",
       " 'aldrich',\n",
       " 'aldridg',\n",
       " 'alduhour',\n",
       " 'ale',\n",
       " 'alec',\n",
       " 'aledg',\n",
       " 'alemani',\n",
       " 'alembert',\n",
       " 'aleppo',\n",
       " 'alepppo',\n",
       " 'alert',\n",
       " 'alessa',\n",
       " 'alessandra',\n",
       " 'alex',\n",
       " 'alexa',\n",
       " 'alexand',\n",
       " 'alexandia',\n",
       " 'alexandra',\n",
       " 'alexandria',\n",
       " 'alexei',\n",
       " 'alexey',\n",
       " 'alexi',\n",
       " 'alf',\n",
       " 'alfa',\n",
       " 'alfaraj',\n",
       " 'alfr',\n",
       " 'alga',\n",
       " 'algal',\n",
       " 'algeria',\n",
       " 'algerian',\n",
       " 'alghant',\n",
       " 'algier',\n",
       " 'algor',\n",
       " 'algorithm',\n",
       " 'alhaj',\n",
       " 'ali',\n",
       " 'alia',\n",
       " 'alibi',\n",
       " 'alic',\n",
       " 'alicia',\n",
       " 'alien',\n",
       " 'alight',\n",
       " 'align',\n",
       " 'alik',\n",
       " 'alim',\n",
       " 'alinski',\n",
       " 'alireza',\n",
       " 'alisa',\n",
       " 'alisha',\n",
       " 'alison',\n",
       " 'alissa',\n",
       " 'alito',\n",
       " 'aliv',\n",
       " 'aliya',\n",
       " 'aliyeh',\n",
       " 'aliyev',\n",
       " 'alizaa',\n",
       " 'aljaafari',\n",
       " 'alkhadar',\n",
       " 'alkobra',\n",
       " 'allah',\n",
       " 'allahu',\n",
       " 'allan',\n",
       " 'allay',\n",
       " 'alleg',\n",
       " 'allegedli',\n",
       " 'allegi',\n",
       " 'alleigh',\n",
       " 'alleluia',\n",
       " 'allen',\n",
       " 'allend',\n",
       " 'allerg',\n",
       " 'allergan',\n",
       " 'allergen',\n",
       " 'allergi',\n",
       " 'allevi',\n",
       " 'alley',\n",
       " 'alleyway',\n",
       " 'allgemein',\n",
       " 'alli',\n",
       " 'allianc',\n",
       " 'allig',\n",
       " 'alliramoun',\n",
       " 'allison',\n",
       " 'alloc',\n",
       " 'allon',\n",
       " 'allot',\n",
       " 'alloush',\n",
       " 'allov',\n",
       " 'allow',\n",
       " 'alloy',\n",
       " 'allr',\n",
       " 'allthat',\n",
       " 'alltim',\n",
       " 'allud',\n",
       " 'allur',\n",
       " 'allus',\n",
       " 'allvendor',\n",
       " 'allyn',\n",
       " 'alma',\n",
       " 'almasalah',\n",
       " 'almehemdiya',\n",
       " 'almi',\n",
       " 'almighti',\n",
       " 'almiyassar',\n",
       " 'almond',\n",
       " 'almost',\n",
       " 'almtahabin',\n",
       " 'alnairab',\n",
       " 'alnouman',\n",
       " 'alnozha',\n",
       " 'aloft',\n",
       " 'aloha',\n",
       " 'alomm',\n",
       " 'alon',\n",
       " 'along',\n",
       " 'alongsid',\n",
       " 'alor',\n",
       " 'alot',\n",
       " 'aloud',\n",
       " 'aloush',\n",
       " 'alperovitch',\n",
       " 'alpert',\n",
       " 'alpha',\n",
       " 'alphabet',\n",
       " 'alreadi',\n",
       " 'alright',\n",
       " 'alsaliheen',\n",
       " 'alsdorf',\n",
       " 'also',\n",
       " 'alsouria',\n",
       " 'alston',\n",
       " 'alt',\n",
       " 'altabqa',\n",
       " 'altar',\n",
       " 'alter',\n",
       " 'alterc',\n",
       " 'altern',\n",
       " 'alternativenew',\n",
       " 'alternet',\n",
       " 'although',\n",
       " 'althous',\n",
       " 'altibni',\n",
       " 'altima',\n",
       " 'altinok',\n",
       " 'altitud',\n",
       " 'alto',\n",
       " 'altogeth',\n",
       " 'alton',\n",
       " 'altoona',\n",
       " 'altruism',\n",
       " 'altruist',\n",
       " 'altun',\n",
       " 'alum',\n",
       " 'aluminium',\n",
       " 'aluminum',\n",
       " 'alumna',\n",
       " 'alumni',\n",
       " 'alumnu',\n",
       " 'alvarez',\n",
       " 'alvw',\n",
       " 'alwaer',\n",
       " 'alway',\n",
       " 'alyauddin',\n",
       " 'alyson',\n",
       " 'alzarazir',\n",
       " 'alzheim',\n",
       " 'amadeu',\n",
       " 'amal',\n",
       " 'amalgam',\n",
       " 'amali',\n",
       " 'amanda',\n",
       " 'amandi',\n",
       " 'amaq',\n",
       " 'amar',\n",
       " 'amarillo',\n",
       " 'amash',\n",
       " 'amass',\n",
       " 'amateur',\n",
       " 'amato',\n",
       " 'amaz',\n",
       " 'amazingli',\n",
       " 'amazon',\n",
       " 'ambassador',\n",
       " 'amber',\n",
       " 'ambient',\n",
       " 'ambigu',\n",
       " 'ambit',\n",
       " 'ambiti',\n",
       " 'ambival',\n",
       " 'ambsuh',\n",
       " 'ambul',\n",
       " 'ambulatori',\n",
       " 'ambush',\n",
       " 'amc',\n",
       " 'ame',\n",
       " 'amedi',\n",
       " 'ameen',\n",
       " 'amelia',\n",
       " 'amen',\n",
       " 'amend',\n",
       " 'amendola',\n",
       " 'amenorrhea',\n",
       " 'amer',\n",
       " 'amerasian',\n",
       " 'ameri',\n",
       " 'america',\n",
       " 'american',\n",
       " 'americana',\n",
       " 'americanminut',\n",
       " 'americorp',\n",
       " 'amerika',\n",
       " 'ameriqu',\n",
       " 'ameriyeh',\n",
       " 'amex',\n",
       " 'amhara',\n",
       " 'amherst',\n",
       " 'ami',\n",
       " 'amiabl',\n",
       " 'amiaward',\n",
       " 'amic',\n",
       " 'amico',\n",
       " 'amicu',\n",
       " 'amid',\n",
       " 'amidst',\n",
       " 'amir',\n",
       " 'amiriyah',\n",
       " 'amirramzi',\n",
       " 'amiss',\n",
       " 'amitabh',\n",
       " 'amiti',\n",
       " 'amjad',\n",
       " 'amk',\n",
       " 'amman',\n",
       " 'ammar',\n",
       " 'ammo',\n",
       " 'ammon',\n",
       " 'ammoseek',\n",
       " 'ammoun',\n",
       " 'ammunit',\n",
       " 'amn',\n",
       " 'amnesia',\n",
       " 'amnesti',\n",
       " 'amo',\n",
       " 'amoeboid',\n",
       " 'amok',\n",
       " 'among',\n",
       " 'amongst',\n",
       " 'amor',\n",
       " 'amount',\n",
       " 'amp',\n",
       " 'amphibian',\n",
       " 'amphitheat',\n",
       " 'amphitheatr',\n",
       " 'ampl',\n",
       " 'ampli',\n",
       " 'amplifi',\n",
       " 'amput',\n",
       " 'amr',\n",
       " 'amri',\n",
       " 'amschel',\n",
       " 'amsterdam',\n",
       " 'amtrak',\n",
       " 'amtv',\n",
       " 'amun',\n",
       " 'amurexit',\n",
       " 'amurki',\n",
       " 'amus',\n",
       " 'amx',\n",
       " 'amygdala',\n",
       " 'ana',\n",
       " 'anachron',\n",
       " 'anadan',\n",
       " 'anadolu',\n",
       " 'anaheim',\n",
       " 'anal',\n",
       " 'analog',\n",
       " 'analys',\n",
       " 'analysi',\n",
       " 'analyst',\n",
       " 'analyt',\n",
       " 'analyz',\n",
       " 'ananavarro',\n",
       " 'ananolu',\n",
       " 'anarch',\n",
       " 'anarchi',\n",
       " 'anarchist',\n",
       " 'anastasia',\n",
       " 'anathema',\n",
       " 'anatom',\n",
       " 'anatomi',\n",
       " 'anaya',\n",
       " 'anbaj',\n",
       " 'anbar',\n",
       " 'anbot',\n",
       " 'ancestor',\n",
       " 'ancestr',\n",
       " 'ancestri',\n",
       " 'anchor',\n",
       " 'anchorag',\n",
       " 'anchorman',\n",
       " 'ancient',\n",
       " 'andallow',\n",
       " 'andalu',\n",
       " 'andempower',\n",
       " 'andernach',\n",
       " 'andersen',\n",
       " 'anderson',\n",
       " 'andi',\n",
       " 'andintermedi',\n",
       " 'andmodel',\n",
       " 'andperfect',\n",
       " 'andr',\n",
       " 'andrea',\n",
       " 'andrei',\n",
       " 'andreplac',\n",
       " 'andrew',\n",
       " 'andrewhclark',\n",
       " 'andrey',\n",
       " 'android',\n",
       " 'andtrack',\n",
       " 'andtrotti',\n",
       " 'andyt',\n",
       " 'anecdot',\n",
       " 'anel',\n",
       " 'anem',\n",
       " 'anesthesia',\n",
       " 'anesthesiologist',\n",
       " 'anesthet',\n",
       " 'anew',\n",
       " 'anf',\n",
       " 'angel',\n",
       " 'angela',\n",
       " 'angelica',\n",
       " 'angelo',\n",
       " 'anger',\n",
       " 'angi',\n",
       " 'angl',\n",
       " 'anglia',\n",
       " 'anglic',\n",
       " 'anglican',\n",
       " 'anglin',\n",
       " 'anglo',\n",
       " 'anglozionist',\n",
       " 'angolan',\n",
       " 'angri',\n",
       " 'angrier',\n",
       " 'angriest',\n",
       " 'angrili',\n",
       " 'angst',\n",
       " 'angu',\n",
       " 'anguera',\n",
       " 'anguilla',\n",
       " 'anguish',\n",
       " 'anim',\n",
       " 'animos',\n",
       " 'animu',\n",
       " 'anita',\n",
       " 'ankara',\n",
       " 'anker',\n",
       " 'ankh',\n",
       " 'ankl',\n",
       " 'anlag',\n",
       " 'anlik',\n",
       " 'ann',\n",
       " 'anna',\n",
       " 'annabel',\n",
       " 'annan',\n",
       " 'annapoli',\n",
       " 'annasophia',\n",
       " 'anneal',\n",
       " 'annedward',\n",
       " 'annenberg',\n",
       " 'annex',\n",
       " 'anni',\n",
       " 'annihil',\n",
       " 'annis',\n",
       " 'anniversari',\n",
       " 'anno',\n",
       " 'annot',\n",
       " 'announc',\n",
       " 'annoy',\n",
       " ...]"
      ]
     },
     "execution_count": 37,
     "metadata": {},
     "output_type": "execute_result"
    }
   ],
   "source": [
    "cv.get_feature_names()"
   ]
  },
  {
   "cell_type": "markdown",
   "metadata": {},
   "source": [
    "# naive bayes"
   ]
  },
  {
   "cell_type": "code",
   "execution_count": 38,
   "metadata": {},
   "outputs": [
    {
     "data": {
      "text/plain": [
       "MultinomialNB(alpha=1.0, class_prior=None, fit_prior=True)"
      ]
     },
     "execution_count": 38,
     "metadata": {},
     "output_type": "execute_result"
    }
   ],
   "source": [
    "y_train= y_train.astype('int')\n",
    "mnb=MultinomialNB()\n",
    "mnb.fit(vec,y_train)\n"
   ]
  },
  {
   "cell_type": "code",
   "execution_count": 39,
   "metadata": {},
   "outputs": [
    {
     "data": {
      "text/plain": [
       "0.7660857908847185"
      ]
     },
     "execution_count": 39,
     "metadata": {},
     "output_type": "execute_result"
    }
   ],
   "source": [
    "preds = mnb.predict(cv.transform(X_test))\n",
    "accuracy_score(y_test, preds)\n",
    "#score = roc_auc_score(y_test, preds)\n",
    "#print(score)\n",
    "\n",
    "\n",
    "#val=accuracy_score(y_test,preds)\n",
    "#print(val)"
   ]
  },
  {
   "cell_type": "code",
   "execution_count": 40,
   "metadata": {},
   "outputs": [
    {
     "data": {
      "text/plain": [
       "array([[307, 162,  37],\n",
       "       [ 89, 400,   2],\n",
       "       [ 16,  43, 436]])"
      ]
     },
     "execution_count": 40,
     "metadata": {},
     "output_type": "execute_result"
    }
   ],
   "source": [
    "from sklearn.metrics import confusion_matrix\n",
    "confusion_matrix(y_test, preds)"
   ]
  },
  {
   "cell_type": "code",
   "execution_count": null,
   "metadata": {},
   "outputs": [],
   "source": []
  },
  {
   "cell_type": "code",
   "execution_count": 41,
   "metadata": {},
   "outputs": [],
   "source": [
    "from sklearn.metrics import classification_report, confusion_matrix, accuracy_score\n"
   ]
  },
  {
   "cell_type": "code",
   "execution_count": 42,
   "metadata": {},
   "outputs": [
    {
     "name": "stdout",
     "output_type": "stream",
     "text": [
      "              precision    recall  f1-score   support\n",
      "\n",
      "           0       0.75      0.61      0.67       506\n",
      "           1       0.66      0.81      0.73       491\n",
      "           2       0.92      0.88      0.90       495\n",
      "\n",
      "    accuracy                           0.77      1492\n",
      "   macro avg       0.77      0.77      0.77      1492\n",
      "weighted avg       0.77      0.77      0.77      1492\n",
      "\n"
     ]
    }
   ],
   "source": [
    "print(classification_report(y_test, preds))\n"
   ]
  },
  {
   "cell_type": "code",
   "execution_count": 43,
   "metadata": {},
   "outputs": [
    {
     "data": {
      "text/plain": [
       "(array([412.,   0.,   0.,   0.,   0., 605.,   0.,   0.,   0., 475.]),\n",
       " array([0. , 0.2, 0.4, 0.6, 0.8, 1. , 1.2, 1.4, 1.6, 1.8, 2. ]),\n",
       " <a list of 10 Patch objects>)"
      ]
     },
     "execution_count": 43,
     "metadata": {},
     "output_type": "execute_result"
    },
    {
     "data": {
      "image/png": "[encoded data removed]",
      "text/plain": [
       "<Figure size 432x288 with 1 Axes>"
      ]
     },
     "metadata": {
      "needs_background": "light"
     },
     "output_type": "display_data"
    }
   ],
   "source": [
    "import matplotlib.pyplot as plt\n",
    "plt.hist(preds, bins = 10)\n"
   ]
  },
  {
   "cell_type": "code",
   "execution_count": 44,
   "metadata": {},
   "outputs": [
    {
     "data": {
      "text/plain": [
       "(array([506.,   0.,   0.,   0.,   0., 491.,   0.,   0.,   0., 495.]),\n",
       " array([0. , 0.2, 0.4, 0.6, 0.8, 1. , 1.2, 1.4, 1.6, 1.8, 2. ]),\n",
       " <a list of 10 Patch objects>)"
      ]
     },
     "execution_count": 44,
     "metadata": {},
     "output_type": "execute_result"
    },
    {
     "data": {
      "image/png": "[encoded data removed]",
      "text/plain": [
       "<Figure size 432x288 with 1 Axes>"
      ]
     },
     "metadata": {
      "needs_background": "light"
     },
     "output_type": "display_data"
    }
   ],
   "source": [
    "plt.hist(y_test, bins = 10)"
   ]
  },
  {
   "cell_type": "markdown",
   "metadata": {},
   "source": [
    "# naive bayes with tfidf"
   ]
  },
  {
   "cell_type": "code",
   "execution_count": 45,
   "metadata": {},
   "outputs": [],
   "source": [
    "tf = TfidfVectorizer(max_features=50000)\n",
    "X_t, X, y_t, y = train_test_split(dfx, dfy, test_size=0.33, random_state=0)\n"
   ]
  },
  {
   "cell_type": "code",
   "execution_count": 46,
   "metadata": {},
   "outputs": [
    {
     "data": {
      "text/plain": [
       "(3029, 28745)"
      ]
     },
     "execution_count": 46,
     "metadata": {},
     "output_type": "execute_result"
    }
   ],
   "source": [
    "v=tf.fit_transform(X_t)\n",
    "vec.shape"
   ]
  },
  {
   "cell_type": "code",
   "execution_count": 47,
   "metadata": {},
   "outputs": [
    {
     "data": {
      "text/plain": [
       "MultinomialNB(alpha=1.0, class_prior=None, fit_prior=True)"
      ]
     },
     "execution_count": 47,
     "metadata": {},
     "output_type": "execute_result"
    }
   ],
   "source": [
    "mn=MultinomialNB()\n",
    "mn.fit(v,y_t)"
   ]
  },
  {
   "cell_type": "code",
   "execution_count": 48,
   "metadata": {},
   "outputs": [
    {
     "data": {
      "text/plain": [
       "0.7520107238605898"
      ]
     },
     "execution_count": 48,
     "metadata": {},
     "output_type": "execute_result"
    }
   ],
   "source": [
    "pred = mn.predict(tf.transform(X))\n",
    "accuracy_score(y, pred)\n",
    "#score = roc_auc_score(y_test, preds)\n",
    "#print(score)\n",
    "\n",
    "\n",
    "#val=accuracy_score(y_test,preds)\n",
    "#print(val)"
   ]
  },
  {
   "cell_type": "code",
   "execution_count": 49,
   "metadata": {},
   "outputs": [
    {
     "data": {
      "text/plain": [
       "array([[[963,  23],\n",
       "        [280, 226]],\n",
       "\n",
       "       [[687, 314],\n",
       "        [ 16, 475]],\n",
       "\n",
       "       [[964,  33],\n",
       "        [ 74, 421]]])"
      ]
     },
     "execution_count": 49,
     "metadata": {},
     "output_type": "execute_result"
    }
   ],
   "source": [
    "from sklearn.metrics import multilabel_confusion_matrix\n",
    "multilabel_confusion_matrix(y, pred)"
   ]
  },
  {
   "cell_type": "code",
   "execution_count": 50,
   "metadata": {},
   "outputs": [
    {
     "name": "stdout",
     "output_type": "stream",
     "text": [
      "              precision    recall  f1-score   support\n",
      "\n",
      "           0       0.91      0.45      0.60       506\n",
      "           1       0.60      0.97      0.74       491\n",
      "           2       0.93      0.85      0.89       495\n",
      "\n",
      "    accuracy                           0.75      1492\n",
      "   macro avg       0.81      0.75      0.74      1492\n",
      "weighted avg       0.81      0.75      0.74      1492\n",
      "\n"
     ]
    }
   ],
   "source": [
    "print(classification_report(y, pred))\n"
   ]
  },
  {
   "cell_type": "code",
   "execution_count": 51,
   "metadata": {},
   "outputs": [
    {
     "data": {
      "text/plain": [
       "(array([249.,   0.,   0.,   0.,   0., 789.,   0.,   0.,   0., 454.]),\n",
       " array([0. , 0.2, 0.4, 0.6, 0.8, 1. , 1.2, 1.4, 1.6, 1.8, 2. ]),\n",
       " <a list of 10 Patch objects>)"
      ]
     },
     "execution_count": 51,
     "metadata": {},
     "output_type": "execute_result"
    },
    {
     "data": {
      "image/png": "[encoded data removed]",
      "text/plain": [
       "<Figure size 432x288 with 1 Axes>"
      ]
     },
     "metadata": {
      "needs_background": "light"
     },
     "output_type": "display_data"
    }
   ],
   "source": [
    "import matplotlib.pyplot as plt\n",
    "plt.hist(pred, bins = 10)"
   ]
  },
  {
   "cell_type": "code",
   "execution_count": 52,
   "metadata": {},
   "outputs": [
    {
     "data": {
      "text/plain": [
       "(array([506.,   0.,   0.,   0.,   0., 491.,   0.,   0.,   0., 495.]),\n",
       " array([0. , 0.2, 0.4, 0.6, 0.8, 1. , 1.2, 1.4, 1.6, 1.8, 2. ]),\n",
       " <a list of 10 Patch objects>)"
      ]
     },
     "execution_count": 52,
     "metadata": {},
     "output_type": "execute_result"
    },
    {
     "data": {
      "image/png": "[encoded data removed]",
      "text/plain": [
       "<Figure size 432x288 with 1 Axes>"
      ]
     },
     "metadata": {
      "needs_background": "light"
     },
     "output_type": "display_data"
    }
   ],
   "source": [
    "plt.hist(y, bins = 10)"
   ]
  },
  {
   "cell_type": "markdown",
   "metadata": {},
   "source": [
    "# knn model with tfidf"
   ]
  },
  {
   "cell_type": "code",
   "execution_count": 53,
   "metadata": {},
   "outputs": [],
   "source": [
    "from sklearn import metrics, neighbors"
   ]
  },
  {
   "cell_type": "code",
   "execution_count": 54,
   "metadata": {},
   "outputs": [],
   "source": [
    "vectorizer = CountVectorizer(max_features=50000)\n",
    "tfvectorizer = TfidfVectorizer(max_features=50000)"
   ]
  },
  {
   "cell_type": "code",
   "execution_count": 55,
   "metadata": {},
   "outputs": [
    {
     "data": {
      "text/plain": [
       "0.6789544235924933"
      ]
     },
     "execution_count": 55,
     "metadata": {},
     "output_type": "execute_result"
    }
   ],
   "source": [
    "knn = neighbors.KNeighborsClassifier(n_neighbors=5, weights='uniform', algorithm='auto', leaf_size=30, p=2, metric='cosine', metric_params=None, n_jobs=1)\n",
    "vec = tfvectorizer.fit_transform(X_train)\n",
    "knn.fit(vec, y_train)\n",
    "preds = knn.predict(tfvectorizer.transform(X_test))\n",
    "metrics.accuracy_score(y_test, preds)  "
   ]
  },
  {
   "cell_type": "code",
   "execution_count": 56,
   "metadata": {},
   "outputs": [
    {
     "data": {
      "text/plain": [
       "array([[290, 203,  13],\n",
       "       [ 89, 399,   3],\n",
       "       [ 57, 114, 324]])"
      ]
     },
     "execution_count": 56,
     "metadata": {},
     "output_type": "execute_result"
    }
   ],
   "source": [
    "from sklearn.metrics import confusion_matrix\n",
    "confusion_matrix(y_test, preds)"
   ]
  },
  {
   "cell_type": "markdown",
   "metadata": {},
   "source": [
    "# knn with countvectorizer"
   ]
  },
  {
   "cell_type": "code",
   "execution_count": 57,
   "metadata": {},
   "outputs": [
    {
     "data": {
      "text/plain": [
       "0.6910187667560321"
      ]
     },
     "execution_count": 57,
     "metadata": {},
     "output_type": "execute_result"
    }
   ],
   "source": [
    "knn = neighbors.KNeighborsClassifier(n_neighbors=5, weights='uniform', algorithm='auto', leaf_size=30, p=2, metric='cosine', metric_params=None, n_jobs=1)\n",
    "vec = vectorizer.fit_transform(X_train)\n",
    "knn.fit(vec, y_train)\n",
    "preds = knn.predict(vectorizer.transform(X_test))\n",
    "metrics.accuracy_score(y_test, preds)"
   ]
  },
  {
   "cell_type": "code",
   "execution_count": 58,
   "metadata": {},
   "outputs": [
    {
     "data": {
      "text/plain": [
       "array([[298, 197,  11],\n",
       "       [ 76, 411,   4],\n",
       "       [ 58, 115, 322]])"
      ]
     },
     "execution_count": 58,
     "metadata": {},
     "output_type": "execute_result"
    }
   ],
   "source": [
    "from sklearn.metrics import confusion_matrix\n",
    "confusion_matrix(y_test, preds)"
   ]
  },
  {
   "cell_type": "markdown",
   "metadata": {},
   "source": [
    "# SVM with count vectorizer"
   ]
  },
  {
   "cell_type": "code",
   "execution_count": 59,
   "metadata": {},
   "outputs": [],
   "source": [
    "from sklearn.svm import LinearSVC\n",
    "from sklearn.tree import DecisionTreeClassifier\n",
    "from sklearn import tree"
   ]
  },
  {
   "cell_type": "code",
   "execution_count": 60,
   "metadata": {},
   "outputs": [
    {
     "name": "stdout",
     "output_type": "stream",
     "text": [
      "0.7667560321715817\n"
     ]
    }
   ],
   "source": [
    "vectorizer = CountVectorizer(max_features=100000)\n",
    "from sklearn.svm import SVC \n",
    "SVM = SVC(C=1.0, kernel='linear', degree=3, gamma='auto')\n",
    "vec = vectorizer.fit_transform(X_train)\n",
    "#_ = svm.fit(X_train, y_train)\n",
    "SVM.fit(vec, y_train)\n",
    "preds = SVM.predict(vectorizer.transform(X_test))\n",
    "val=accuracy_score(y_test,preds)\n",
    "\n",
    "print(val)"
   ]
  },
  {
   "cell_type": "markdown",
   "metadata": {},
   "source": [
    "# confusion matrix"
   ]
  },
  {
   "cell_type": "code",
   "execution_count": 61,
   "metadata": {
    "scrolled": true
   },
   "outputs": [
    {
     "data": {
      "text/plain": [
       "array([[339, 119,  48],\n",
       "       [128, 329,  34],\n",
       "       [ 16,   3, 476]])"
      ]
     },
     "execution_count": 61,
     "metadata": {},
     "output_type": "execute_result"
    }
   ],
   "source": [
    "from sklearn.metrics import confusion_matrix\n",
    "confusion_matrix(y_test, preds)"
   ]
  },
  {
   "cell_type": "code",
   "execution_count": 62,
   "metadata": {
    "scrolled": true
   },
   "outputs": [
    {
     "name": "stdout",
     "output_type": "stream",
     "text": [
      "              precision    recall  f1-score   support\n",
      "\n",
      "           0       0.70      0.67      0.69       506\n",
      "           1       0.73      0.67      0.70       491\n",
      "           2       0.85      0.96      0.90       495\n",
      "\n",
      "    accuracy                           0.77      1492\n",
      "   macro avg       0.76      0.77      0.76      1492\n",
      "weighted avg       0.76      0.77      0.76      1492\n",
      "\n"
     ]
    }
   ],
   "source": [
    "print(classification_report(y_test, preds))"
   ]
  },
  {
   "cell_type": "markdown",
   "metadata": {},
   "source": [
    "# SVM with tfidf"
   ]
  },
  {
   "cell_type": "code",
   "execution_count": 63,
   "metadata": {},
   "outputs": [
    {
     "name": "stdout",
     "output_type": "stream",
     "text": [
      "0.829088471849866\n"
     ]
    }
   ],
   "source": [
    "vectorizer = TfidfVectorizer(ngram_range = (2,2),max_features=50000)\n",
    "from sklearn.svm import SVC \n",
    "SVM = SVC(C=1.0, kernel='linear', degree=3, gamma='auto')\n",
    "vec = vectorizer.fit_transform(X_train)\n",
    "#_ = svm.fit(X_train, y_train)\n",
    "SVM.fit(vec, y_train)\n",
    "preds = SVM.predict(vectorizer.transform(X_test))\n",
    "val=accuracy_score(y_test,preds)\n",
    "\n",
    "print(val)"
   ]
  },
  {
   "cell_type": "code",
   "execution_count": 64,
   "metadata": {},
   "outputs": [
    {
     "data": {
      "text/plain": [
       "array([[381, 100,  25],\n",
       "       [100, 389,   2],\n",
       "       [ 22,   6, 467]])"
      ]
     },
     "execution_count": 64,
     "metadata": {},
     "output_type": "execute_result"
    }
   ],
   "source": [
    "from sklearn.metrics import confusion_matrix\n",
    "confusion_matrix(y_test, preds)"
   ]
  },
  {
   "cell_type": "code",
   "execution_count": 65,
   "metadata": {},
   "outputs": [
    {
     "name": "stdout",
     "output_type": "stream",
     "text": [
      "              precision    recall  f1-score   support\n",
      "\n",
      "           0       0.76      0.75      0.76       506\n",
      "           1       0.79      0.79      0.79       491\n",
      "           2       0.95      0.94      0.94       495\n",
      "\n",
      "    accuracy                           0.83      1492\n",
      "   macro avg       0.83      0.83      0.83      1492\n",
      "weighted avg       0.83      0.83      0.83      1492\n",
      "\n"
     ]
    }
   ],
   "source": [
    "print(classification_report(y_test, preds))"
   ]
  },
  {
   "cell_type": "code",
   "execution_count": 66,
   "metadata": {},
   "outputs": [
    {
     "data": {
      "text/plain": [
       "(array([503.,   0.,   0.,   0.,   0., 495.,   0.,   0.,   0., 494.]),\n",
       " array([0. , 0.2, 0.4, 0.6, 0.8, 1. , 1.2, 1.4, 1.6, 1.8, 2. ]),\n",
       " <a list of 10 Patch objects>)"
      ]
     },
     "execution_count": 66,
     "metadata": {},
     "output_type": "execute_result"
    },
    {
     "data": {
      "image/png": "[encoded data removed]",
      "text/plain": [
       "<Figure size 432x288 with 1 Axes>"
      ]
     },
     "metadata": {
      "needs_background": "light"
     },
     "output_type": "display_data"
    }
   ],
   "source": [
    "plt.hist(preds, bins = 10)"
   ]
  },
  {
   "cell_type": "markdown",
   "metadata": {},
   "source": [
    "# Decison tree with tfidf"
   ]
  },
  {
   "cell_type": "code",
   "execution_count": 67,
   "metadata": {},
   "outputs": [],
   "source": [
    "from sklearn.feature_extraction.text import TfidfVectorizer, CountVectorizer\n",
    "\n",
    "from sklearn.metrics import confusion_matrix\n",
    "from sklearn.metrics import classification_report\n",
    "\n",
    "from sklearn.model_selection import cross_val_score\n",
    "from sklearn.model_selection import cross_val_predict\n",
    "from sklearn.model_selection import train_test_split\n",
    "\n",
    "from sklearn.svm import LinearSVC\n",
    "from sklearn.tree import DecisionTreeClassifier\n",
    "from sklearn import tree\n"
   ]
  },
  {
   "cell_type": "code",
   "execution_count": 68,
   "metadata": {},
   "outputs": [
    {
     "name": "stdout",
     "output_type": "stream",
     "text": [
      "              precision    recall  f1-score   support\n",
      "\n",
      "           0       0.61      0.62      0.62       506\n",
      "           1       0.68      0.67      0.67       491\n",
      "           2       0.86      0.87      0.87       495\n",
      "\n",
      "    accuracy                           0.72      1492\n",
      "   macro avg       0.72      0.72      0.72      1492\n",
      "weighted avg       0.72      0.72      0.72      1492\n",
      "\n",
      "[[316 144  46]\n",
      " [141 327  23]\n",
      " [ 57   7 431]]\n"
     ]
    }
   ],
   "source": [
    "dt = DecisionTreeClassifier()\n",
    "dt.fit(vec, y_train)\n",
    "y_pred = dt.predict(vectorizer.transform(X_test))\n",
    "print(classification_report(y_test, y_pred))\n",
    "print(confusion_matrix(y_test, y_pred))"
   ]
  },
  {
   "cell_type": "markdown",
   "metadata": {},
   "source": [
    "# Decision tree with count vectorizer"
   ]
  },
  {
   "cell_type": "code",
   "execution_count": 69,
   "metadata": {},
   "outputs": [
    {
     "name": "stdout",
     "output_type": "stream",
     "text": [
      "              precision    recall  f1-score   support\n",
      "\n",
      "           0       0.63      0.61      0.62       506\n",
      "           1       0.64      0.66      0.65       491\n",
      "           2       0.89      0.89      0.89       495\n",
      "\n",
      "    accuracy                           0.72      1492\n",
      "   macro avg       0.72      0.72      0.72      1492\n",
      "weighted avg       0.72      0.72      0.72      1492\n",
      "\n",
      "[[308 164  34]\n",
      " [144 325  22]\n",
      " [ 34  22 439]]\n"
     ]
    }
   ],
   "source": [
    "vectorizer = CountVectorizer(max_features=100000)\n",
    "vec = vectorizer.fit_transform(X_train)\n",
    "dt = DecisionTreeClassifier()\n",
    "dt.fit(vec, y_train)\n",
    "y_pred = dt.predict(vectorizer.transform(X_test))\n",
    "print(classification_report(y_test, y_pred))\n",
    "print(confusion_matrix(y_test, y_pred))"
   ]
  },
  {
   "cell_type": "markdown",
   "metadata": {},
   "source": [
    "# Random forest with count vectorizer"
   ]
  },
  {
   "cell_type": "code",
   "execution_count": 70,
   "metadata": {},
   "outputs": [],
   "source": [
    "from sklearn.ensemble import RandomForestClassifier"
   ]
  },
  {
   "cell_type": "code",
   "execution_count": 75,
   "metadata": {},
   "outputs": [
    {
     "name": "stderr",
     "output_type": "stream",
     "text": [
      "/home/neon/anaconda3/lib/python3.7/site-packages/sklearn/ensemble/forest.py:245: FutureWarning: The default value of n_estimators will change from 10 in version 0.20 to 100 in 0.22.\n",
      "  \"10 in version 0.20 to 100 in 0.22.\", FutureWarning)\n"
     ]
    },
    {
     "name": "stdout",
     "output_type": "stream",
     "text": [
      "              precision    recall  f1-score   support\n",
      "\n",
      "           0       0.65      0.68      0.66       506\n",
      "           1       0.68      0.61      0.65       491\n",
      "           2       0.91      0.96      0.94       495\n",
      "\n",
      "    accuracy                           0.75      1492\n",
      "   macro avg       0.75      0.75      0.75      1492\n",
      "weighted avg       0.75      0.75      0.75      1492\n",
      "\n",
      "[[342 134  30]\n",
      " [175 301  15]\n",
      " [ 13   7 475]]\n",
      "Accuracy with RandomForestClassifier:   0.749\n"
     ]
    }
   ],
   "source": [
    "clf = RandomForestClassifier()\n",
    "clf.fit(vec, y_train)\n",
    "y_pred = clf.predict(vectorizer.transform(X_test))\n",
    "print(classification_report(y_test, y_pred))\n",
    "print(confusion_matrix(y_test, y_pred))\n",
    "score = metrics.accuracy_score(y_test, y_pred)\n",
    "print(\"Accuracy with RandomForestClassifier:   %0.3f\" % score)"
   ]
  },
  {
   "cell_type": "markdown",
   "metadata": {},
   "source": [
    "# Random forest with tfidf vectorizer"
   ]
  },
  {
   "cell_type": "markdown",
   "metadata": {},
   "source": []
  },
  {
   "cell_type": "code",
   "execution_count": 74,
   "metadata": {},
   "outputs": [
    {
     "name": "stderr",
     "output_type": "stream",
     "text": [
      "/home/neon/anaconda3/lib/python3.7/site-packages/sklearn/ensemble/forest.py:245: FutureWarning: The default value of n_estimators will change from 10 in version 0.20 to 100 in 0.22.\n",
      "  \"10 in version 0.20 to 100 in 0.22.\", FutureWarning)\n"
     ]
    },
    {
     "name": "stdout",
     "output_type": "stream",
     "text": [
      "              precision    recall  f1-score   support\n",
      "\n",
      "           0       0.34      1.00      0.51       506\n",
      "           1       0.00      0.00      0.00       491\n",
      "           2       0.00      0.00      0.00       495\n",
      "\n",
      "    accuracy                           0.34      1492\n",
      "   macro avg       0.11      0.33      0.17      1492\n",
      "weighted avg       0.12      0.34      0.17      1492\n",
      "\n",
      "[[506   0   0]\n",
      " [491   0   0]\n",
      " [495   0   0]]\n",
      "Accuracy with RandomForestClassifier:   0.339\n"
     ]
    },
    {
     "name": "stderr",
     "output_type": "stream",
     "text": [
      "/home/neon/anaconda3/lib/python3.7/site-packages/sklearn/metrics/classification.py:1437: UndefinedMetricWarning: Precision and F-score are ill-defined and being set to 0.0 in labels with no predicted samples.\n",
      "  'precision', 'predicted', average, warn_for)\n"
     ]
    }
   ],
   "source": [
    "clf = RandomForestClassifier()\n",
    "clf.fit(vec, y_train)\n",
    "vectorizer = TfidfVectorizer()\n",
    "vec = vectorizer.fit_transform(X_train)\n",
    "y_pred = clf.predict(vectorizer.transform(X_test))\n",
    "print(classification_report(y_test, y_pred))\n",
    "print(confusion_matrix(y_test, y_pred))\n",
    "score = metrics.accuracy_score(y_test, y_pred)\n",
    "print(\"Accuracy with RandomForestClassifier:   %0.3f\" % score)"
   ]
  },
  {
   "cell_type": "code",
   "execution_count": null,
   "metadata": {},
   "outputs": [],
   "source": []
  },
  {
   "cell_type": "code",
   "execution_count": null,
   "metadata": {},
   "outputs": [],
   "source": []
  },
  {
   "cell_type": "code",
   "execution_count": null,
   "metadata": {},
   "outputs": [],
   "source": []
  },
  {
   "cell_type": "markdown",
   "metadata": {},
   "source": []
  },
  {
   "cell_type": "code",
   "execution_count": null,
   "metadata": {},
   "outputs": [],
   "source": []
  },
  {
   "cell_type": "code",
   "execution_count": null,
   "metadata": {},
   "outputs": [],
   "source": []
  },
  {
   "cell_type": "code",
   "execution_count": null,
   "metadata": {},
   "outputs": [],
   "source": []
  },
  {
   "cell_type": "code",
   "execution_count": null,
   "metadata": {},
   "outputs": [],
   "source": []
  },
  {
   "cell_type": "code",
   "execution_count": null,
   "metadata": {},
   "outputs": [],
   "source": []
  },
  {
   "cell_type": "code",
   "execution_count": null,
   "metadata": {},
   "outputs": [],
   "source": []
  },
  {
   "cell_type": "code",
   "execution_count": null,
   "metadata": {},
   "outputs": [],
   "source": []
  },
  {
   "cell_type": "code",
   "execution_count": null,
   "metadata": {},
   "outputs": [],
   "source": []
  },
  {
   "cell_type": "code",
   "execution_count": null,
   "metadata": {},
   "outputs": [],
   "source": []
  },
  {
   "cell_type": "code",
   "execution_count": null,
   "metadata": {},
   "outputs": [],
   "source": []
  },
  {
   "cell_type": "code",
   "execution_count": null,
   "metadata": {},
   "outputs": [],
   "source": []
  },
  {
   "cell_type": "code",
   "execution_count": null,
   "metadata": {},
   "outputs": [],
   "source": []
  },
  {
   "cell_type": "markdown",
   "metadata": {},
   "source": []
  },
  {
   "cell_type": "code",
   "execution_count": null,
   "metadata": {},
   "outputs": [],
   "source": []
  },
  {
   "cell_type": "code",
   "execution_count": null,
   "metadata": {},
   "outputs": [],
   "source": []
  },
  {
   "cell_type": "code",
   "execution_count": null,
   "metadata": {},
   "outputs": [],
   "source": []
  }
 ],
 "metadata": {
  "kernelspec": {
   "display_name": "Python 3",
   "language": "python",
   "name": "python3"
  },
  "language_info": {
   "codemirror_mode": {
    "name": "ipython",
    "version": 3
   },
   "file_extension": ".py",
   "mimetype": "text/x-python",
   "name": "python",
   "nbconvert_exporter": "python",
   "pygments_lexer": "ipython3",
   "version": "3.7.4"
  }
 },
 "nbformat": 4,
 "nbformat_minor": 2
}
